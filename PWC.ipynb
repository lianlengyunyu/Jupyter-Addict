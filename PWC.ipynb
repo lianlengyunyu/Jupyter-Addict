{
 "cells": [
  {
   "cell_type": "code",
   "execution_count": 1,
   "metadata": {
    "collapsed": false
   },
   "outputs": [
    {
     "data": {
      "text/plain": [
       "540102199511254000"
      ]
     },
     "execution_count": 1,
     "metadata": {},
     "output_type": "execute_result"
    }
   ],
   "source": [
    "540102199511254000"
   ]
  },
  {
   "cell_type": "markdown",
   "metadata": {},
   "source": [
    "2018.5.21\n",
    "    * S0\n",
    "    ```\n",
    "    CUDA_VISIBLE_DEVICES=0 python3 main.py --input-norm --batch-norm --corr Correlation --corr_activation --residual train --dataset SintelFinal --dataset_dir data/Sintel/ --total_step 800000 --log_dir final_log/flyingchairs-400K --checkpoint_interval 10000\n",
    "    ```"
   ]
  },
  {
   "cell_type": "markdown",
   "metadata": {},
   "source": [
    "2018.5.16\n",
    "- S0\n",
    "```\n",
    "CUDA_VISIBLE_DEVICES=0 python3 main.py --input-norm --batch-norm --corr Correlation --corr_activation --residual train --dataset FlyingChairs --dataset_dir data/FlyingChairs/ --total_step 800000 --log_dir final_log/flyingchairs\n",
    "```"
   ]
  },
  {
   "cell_type": "markdown",
   "metadata": {},
   "source": [
    "提取角点, 高斯处理, 设阈值 -> texture分类"
   ]
  },
  {
   "cell_type": "markdown",
   "metadata": {},
   "source": [
    "# 结论部分\n",
    "\n",
    "## FlowNorm + Residual 实验\n",
    "- **结论**: Residual > Residual + FlowNorm > None > FlowNorm\n",
    "- 其他条件:\n",
    "    - 数据集: Sintel\n",
    "\n",
    "\n",
    "| id | FlowNorm | Residual |                       log_path                       |\n",
    "|:--:|:--------:|:--------:|:----------------------------------------------------:|\n",
    "| 0  |     ✔    |     ✔    | long_term_log/0503_SintelFinal_CostVolume            |\n",
    "| 1  |     ✔    |          | long_term_log/0503_SintelFinal_CostVolume            |\n",
    "| 2  |          |     ✔    | long_term_log/0503_SintelFinal_CostVolume            |\n",
    "| 3  |          |          | long_term_log/0503_SintelFinal_CostVolume            |\n",
    "\n",
    "\n",
    "\n",
    "### Correlation & Cost Volume实验\n",
    "模型未完全正确时的实验, TODO重做    \n",
    "\n",
    "| id |    Corr     | EPE |\n",
    "|:--:|:-----------:|:---:|\n",
    "| 0  | CostVolume  |     |\n",
    "| 1  | Correlation |     |\n",
    "\n",
    "### Normalization实验\n",
    "模型未完全正确时的实验, TODO重做    \n",
    "- **结论**: InputNorm + BatchNorm > BatchNorm > InputNorm > None\n",
    "- 其他条件:\n",
    "    - 数据集: SintelFinal\n",
    "    - corr: Correlation Layer\n",
    "\n",
    "| id | InputNorm | BatchNorm | EPE |\n",
    "|:--:|:---------:|:---------:|:---:|\n",
    "| 0  |       ✔   | ✔         |     |\n",
    "| 1  | ✔         |           |     |\n",
    "| 2  |           | ✔         |     |\n",
    "| 3  |           |           |     |\n"
   ]
  },
  {
   "cell_type": "markdown",
   "metadata": {},
   "source": [
    "# 2018.5.9\n",
    "- s0\n",
    "    ```\n",
    "    CUDA_VISIBLE_DEVICES=0 python3 main.py --input-norm --batch-norm --residual --corr Correlation --corr_activation train --dataset SintelFinal --dataset_dir data/Sintel/ --log_dir logs/0507/residual --log_interval 50 --summary_interval 50\n",
    "    ```"
   ]
  },
  {
   "cell_type": "markdown",
   "metadata": {},
   "source": [
    "# 2018.5.5\n",
    "- s0\n",
    "```\n",
    "CUDA_VISIBLE_DEVICES=0 python3 main.py --flow_norm --residual train --dataset SintelFinal --dataset_dir data/Sintel/ --corr Correlation --corr_activation --input_norm --batch_norm --log_dir logs/0505/residual_flownorm --log_interval 50 --summary_interval 50\n",
    "```\n",
    "- s1\n",
    "```\n",
    "CUDA_VISIBLE_DEVICES=1 python3 main.py --residual train --dataset SintelFinal --dataset_dir data/Sintel/ --corr Correlation --corr_activation --input_norm --batch_norm --log_dir logs/0505/residual --log_interval 50 --summary_interval 50\n",
    "```\n",
    "- s2\n",
    "```\n",
    "CUDA_VISIBLE_DEVICES=2 python3 main.py --flow_norm train --dataset SintelFinal --dataset_dir data/Sintel/ --corr Correlation --corr_activation --input_norm --batch_norm --log_dir logs/0505/flownorm --log_interval 50 --summary_interval 50\n",
    "```\n",
    "- s3\n",
    "```\n",
    "CUDA_VISIBLE_DEVICES=3 python3 main.py train --dataset SintelFinal --dataset_dir data/Sintel/ --corr Correlation --corr_activation --input_norm --batch_norm --log_dir logs/0505/no_norm_no_residual --log_interval 50 --summary_interval 50\n",
    "```"
   ]
  },
  {
   "cell_type": "markdown",
   "metadata": {},
   "source": [
    "# 2018.5.5\n",
    "- s0\n",
    "```\n",
    "CUDA_VISIBLE_DEVICES=1 python3 main.py --flow_norm train --dataset SintelFinal --dataset_dir data/Sintel/ --corr Correlation --corr_activation --input_norm --batch_norm --log_dir logs/0505/flownorm_after_debug --log_interval 50 --summary_interval 50\n",
    "```\n",
    "- s1\n",
    "```\n",
    "CUDA_VISIBLE_DEVICES=0 python3 main.py --flow_norm --residual train --dataset SintelFinal --dataset_dir data/Sintel/ --corr Correlation --corr_activation --input_norm --batch_norm --log_dir logs/0505/flownorm_residual_after_debug --log_interval 50 --summary_interval 50\n",
    "```\n",
    "- s2\n",
    "```\n",
    "CUDA_VISIBLE_DEVICES=0 python3 main.py --residual train --dataset SintelFinal --dataset_dir data/Sintel/ --corr Correlation --corr_activation --input_norm --batch_norm --log_dir logs/0505/residual_after_debug --log_interval 50 --summary_interval 50\n",
    "```\n",
    "- s3\n",
    "```\n",
    "CUDA_VISIBLE_DEVICES=1 python3 main.py --flow_norm train --dataset SintelFinal --dataset_dir data/Sintel/ --corr Correlation --corr_activation --input_norm --batch_norm --log_dir logs/0505/flownorm --log_interval 50 --summary_interval 50\n",
    "```\n",
    "- s4\n",
    "```\n",
    "CUDA_VISIBLE_DEVICES=2 python3 main.py --flow_norm --residual train --dataset SintelFinal --dataset_dir data/Sintel/ --corr Correlation --corr_activation --input_norm --batch_norm --log_dir logs/0505/flownorm_residual --log_interval 50 --summary_interval 50\n",
    "```\n",
    "- s5\n",
    "```\n",
    "CUDA_VISIBLE_DEVICES=2 python3 main.py --residual train --dataset SintelFinal --dataset_dir data/Sintel/ --corr Correlation --corr_activation --input_norm --batch_norm --log_dir logs/0505/residual --log_interval 50 --summary_interval 50\n",
    "```\n",
    "- s6\n",
    "```\n",
    "CUDA_VISIBLE_DEVICES=2 python3 main.py train --dataset SintelFinal --dataset_dir data/Sintel/ --corr Correlation --corr_activation --input_norm --batch_norm --log_dir logs/0505/no-flownorm_no-residual --log_interval 50 --summary_interval 50\n",
    "```\n",
    "- s7\n",
    "```\n",
    "CUDA_VISIBLE_DEVICES=3 python3 main.py --residual train --dataset SintelFinal --dataset_dir data/Sintel/ --corr Correlation --corr_activation --input_norm --batch_norm --log_dir logs/0505/residual_fix_warp_bug --log_interval 50 --summary_interval 50\n",
    "```\n",
    "- No screen\n",
    "```\n",
    "CUDA_VISIBLE_DEVICES=7 python3 main.py --residual train --dataset SintelFinal --dataset_dir data/Sintel/ --corr Correlation --corr_activation --input_norm --batch_norm --log_dir logs/0505/final --log_interval 50 --summary_interval 50\n",
    "```"
   ]
  },
  {
   "cell_type": "markdown",
   "metadata": {},
   "source": [
    "# 2018.5.4\n",
    "\n",
    "\n",
    "- s0: 测试新summary, 同时复现一下五六层的问题\n",
    "```\n",
    "CUDA_VISIBLE_DEVICES=0 python3 main.py train --dataset SintelFinal --dataset_dir data/Sintel/ --corr Correlation --corr_activation --input_norm --batch_norm --log_dir logs/0504/test --weights 1 1 1 1 1 1 --log_interval 50 --summary_interval 50\n",
    "```\n",
    "- s1\n",
    "```\n",
    "CUDA_VISIBLE_DEVICES=0 python3 main.py train --dataset SintelFinal --dataset_dir data/Sintel/ --corr Correlation --corr_activation --input_norm --batch_norm --log_dir logs/0504/residual --weights 1 1 1 1 1 1 --log_interval 50 --summary_interval 50\n",
    "```\n",
    "- s2\n",
    "```\n",
    "CUDA_VISIBLE_DEVICES=1 python3 main.py train --dataset SintelFinal --dataset_dir data/Sintel/ --corr Correlation --corr_activation --input_norm --batch_norm --log_dir logs/0504/residual_weights-1,0.32,0.08,0.02,0.01,0.005 --log_interval 50 --summary_interval 50\n",
    "```"
   ]
  },
  {
   "cell_type": "markdown",
   "metadata": {},
   "source": [
    "# 2018.5.3\n",
    "![](PWC.png)\n",
    "\n",
    "## 激活函数测试\n",
    "- s7\n",
    "```\n",
    "CUDA_VISIBLE_DEVICES=7 python3 main.py train --dataset SintelFinal --dataset_dir data/Sintel/ --corr Correlation --log_dir long_term_log/0503_SintelFinal_Correlation_test_act --input_norm --batch_norm --corr_activation\n",
    "```\n",
    "\n",
    "## 减少层数测试\n",
    "- s2\n",
    "```\n",
    "CUDA_VISIBLE_DEVICES=2 python3 main.py train --dataset SintelFinal --dataset_dir data/Sintel/ --corr Correlation --input_norm --batch_norm --log_dir long_term_log/0503_SintelFinal_Correlation_chs-128_weights-1 --num_levels 1 --weights 1 --lv_chs 128\n",
    "```\n",
    "- s3\n",
    "```\n",
    "CUDA_VISIBLE_DEVICES=3 python3 main.py train --dataset SintelFinal --dataset_dir data/Sintel/ --corr Correlation --input_norm --batch_norm --log_dir long_term_log/0503_SintelFinal_Correlation_chs-16,32_weights-1,1 --num_levels 2 --weights 1 1 --lv_chs 16 32\n",
    "```\n",
    "- s4\n",
    "```\n",
    "CUDA_VISIBLE_DEVICES=4 python3 main.py train --dataset SintelFinal --dataset_dir data/Sintel/ --corr Correlation --input_norm --batch_norm --log_dir long_term_log/0503_SintelFinal_Correlation_chs-16,32,64_weights-1,1,1 --num_levels 3 --weights 1 1 1 --lv_chs 16 32 64\n",
    "```\n",
    "- s5\n",
    "```\n",
    "CUDA_VISIBLE_DEVICES=5 python3 main.py train --dataset SintelFinal --dataset_dir data/Sintel/ --corr Correlation --input_norm --batch_norm --log_dir long_term_log/0503_SintelFinal_Correlation_chs-16,32,64,96_weights-1,1,1,1 --num_levels 4 --weights 1 1 1 1 --lv_chs 16 32 64 96\n",
    "```\n",
    "- s6\n",
    "```\n",
    "CUDA_VISIBLE_DEVICES=6 python3 main.py train --dataset SintelFinal --dataset_dir data/Sintel/ --corr Correlation --input_norm --batch_norm --log_dir long_term_log/0503_SintelFinal_Correlation_chs-16,32,64,96,128_weights-1,1,1,1,1 --num_levels 5 --weights 1 1 1 1 1 --lv_chs 16 32 64 96 128\n",
    "```\n",
    "## weights测试\n",
    "- s0\n",
    "```\n",
    "CUDA_VISIBLE_DEVICES=0 python3 main.py train --dataset FlyingChairs --dataset_dir data/FlyingChairs/ --corr Correlation --input_norm --batch_norm --log_dir long_term_log/0503_19_FlyingChairs_CostVolume_0.005_0.01_0.02_0.08_0.32_1 --weights 0.005 0.01 0.02 0.08 0.32 1\n",
    "```\n",
    "- s1\n",
    "```\n",
    "CUDA_VISIBLE_DEVICES=1 python3 main.py train --dataset FlyingChairs --dataset_dir data/FlyingChairs/ --corr Correlation --input_norm --batch_norm --log_dir long_term_log/0503_19_FlyingChairs_CostVolume_1_0.32_0.08_0.02_0.01_0.005\n",
    "```\n",
    "## Correlation & Cost Volume   +    Normalization测试\n",
    "- s1\n",
    "```\n",
    "CUDA_VISIBLE_DEVICES=1 python3 main.py train --dataset FlyingChairs --dataset_dir data/FlyingChairs/ --corr CostVolumeLayer --input_norm --batch_norm --log_dir long_term_log/0503_FlyingChairs_CostVolume\n",
    "```\n",
    "- s2\n",
    "```\n",
    "CUDA_VISIBLE_DEVICES=2 python3 main.py train --dataset SintelFinal --dataset_dir data/Sintel/ --corr CostVolumeLayer --input_norm --batch_norm --log_dir long_term_log/0503_SintelFinal_CostVolume\n",
    "```\n",
    "- s3\n",
    "```\n",
    "CUDA_VISIBLE_DEVICES=3 python3 main.py train --dataset FlyingChairs --dataset_dir data/FlyingChairs/ --corr Correlation --input_norm --batch_norm --log_dir long_term_log/0503_FlyingChairs_Correlation\n",
    "```\n",
    "- s4\n",
    "```\n",
    "CUDA_VISIBLE_DEVICES=4 python3 main.py train --dataset SintelFinal --dataset_dir data/Sintel/ --corr Correlation --input_norm --batch_norm --log_dir long_term_log/0503_SintelFinal_Correlation\n",
    "```\n",
    "- s5\n",
    "```\n",
    "CUDA_VISIBLE_DEVICES=5 python3 main.py train --dataset SintelFinal --dataset_dir data/Sintel/ --corr Correlation --input_norm --log_dir long_term_log/0503_SintelFinal_Correlation_noBN\n",
    "```\n",
    "- s6\n",
    "```\n",
    "CUDA_VISIBLE_DEVICES=6 python3 main.py train --dataset SintelFinal --dataset_dir data/Sintel/ --corr Correlation --batch_norm --log_dir long_term_log/0503_SintelFinal_Correlation_noIN\n",
    "```\n",
    "- s7\n",
    "```\n",
    "CUDA_VISIBLE_DEVICES=7 python3 main.py train --dataset SintelFinal --dataset_dir data/Sintel/ --corr Correlation --log_dir long_term_log/0503_SintelFinal_Correlation_noIN_noBN\n",
    "```\n",
    "\n",
    "### Correlation & Cost Volume实验\n",
    "| id |    Dataset   |    Corr     | IN | BN |                       log_path                       |\n",
    "|:--:|:------------:|:-----------:|:--:|:--:|:----------------------------------------------------:|\n",
    "| 0  | SintelFinal  | CostVolume  | ✔  | ✔  | long_term_log/0503_SintelFinal_CostVolume            |\n",
    "| 1  | SintelFinal  | Correlation | ✔  | ✔  | long_term_log/0503_SintelFinal_Correlation           |\n",
    "| 2  | FlyingChairs | CostVolume  | ✔  | ✔  | long_term_log/0503_FlyingChairs_CostVolume           |\n",
    "| 3  | FlyingChairs | Correlation | ✔  | ✔  | long_term_log/0503_FlyingChairs_Correlation          |\n",
    "\n",
    "### Normalization实验\n",
    "| id |   Dataset   |    Corr     | IN | BN |                       log_path                       |\n",
    "|:--:|:-----------:|:-----------:|:--:|:--:|:----------------------------------------------------:|\n",
    "| 0  | SintelFinal | Correlation | ✔  | ✔  | long_term_log/0503_SintelFinal_Correlation           |\n",
    "| 1  | SintelFinal | Correlation | ✔  |    | long_term_log/0503_SintelFinal_Correlation_noBN      |\n",
    "| 2  | SintelFinal | Correlation |    | ✔  | long_term_log/0503_SintelFinal_Correlation_noIN      |\n",
    "| 3  | SintelFinal | Correlation |    |    | long_term_log/0503_SintelFinal_Correlation_noIN_noBN |\n",
    "\n",
    "结论: IN+BN > BN > IN > None\n"
   ]
  },
  {
   "cell_type": "markdown",
   "metadata": {},
   "source": [
    "# 2018.5.2\n",
    "## PWC\n",
    "***\n",
    "在单张上验证了correlation layer, 可用\n",
    "![](output.gif)\n",
    "\n",
    "PWC的训练, 6个训练跑飞了4个\n",
    "## FlowNet2\n",
    "单卡上跑了一个, 在训练集上EPE达到2.8\n",
    "***"
   ]
  },
  {
   "cell_type": "markdown",
   "metadata": {},
   "source": [
    "\n",
    "\n",
    "\n",
    "改进多卡\n",
    " \n",
    "改进cost volume后, 理论可以在8卡上每块跑16张图. 但在实际操作中, GPU:0会out of memory, 此时其他卡只用了4000+MiB, 进行新实验\n",
    "\n",
    "\n"
   ]
  },
  {
   "cell_type": "markdown",
   "metadata": {},
   "source": [
    "增加eval代码, 每隔指定interval在测试集上走一遍预测"
   ]
  },
  {
   "cell_type": "markdown",
   "metadata": {
    "collapsed": true
   },
   "source": [
    "在$l_0$的输出将通过bilinear插值得到最终的flow"
   ]
  },
  {
   "cell_type": "markdown",
   "metadata": {
    "collapsed": true
   },
   "source": [
    "| w | 2 |\n",
    "|:--:|:--:|\n",
    "|![](tst.gif)|w|"
   ]
  },
  {
   "cell_type": "markdown",
   "metadata": {},
   "source": [
    "训练命令\n",
    "```\n",
    "CUDA_VISIBLE_DEVICES=7 python3 main.py train --num_workers 32 --batch_size 128 --dataset_dir data/FlyingChairs/ --dataset FlyingChairs --weights 1 1 1 1 1 1 --use_cost_volume_layer --use_context_network --use_warping_layer --loss PyramidL2 --lr 1e-3 --optimizer SGD --total_step 1000000 --log_dir long_term_log/FlyingChairs_0427_cv-context-warping_PyramidL2_1e-3_SGD\n",
    "\n",
    "```"
   ]
  },
  {
   "cell_type": "markdown",
   "metadata": {},
   "source": [
    "# 全是细节"
   ]
  },
  {
   "cell_type": "markdown",
   "metadata": {},
   "source": [
    "## 金字塔结构\n",
    "- 共7层, 最底层为原图, 自底向上每层downsample到1/2\n",
    "    > Figure 9 shows the architecture for the 7-level feature pyramid extractor network used in our experiment. Note that the bottom level consists of the original input images.\n",
    "\n",
    "- `flow_gt`会缩小20倍, 在每一层需要放大upsample后的flow\n",
    "    > Note that we do not further scale the supervision signal at each level, the same as [14]. As a result, we need to scale the upsampled flow at each pyramid level for the warping layer. For example, at the second level, we scale the upsampled flow from the third level by a factor of 5 (= 20/4) before warping features of the second image.\n",
    "    > We scale the ground truth flow by 20 and downsample it to obtain the supervision signals at different levels.\n",
    "    > Note that the upsampled flow needs to be scaled properly for the warping operation.  ---arXiv v1\n",
    "    FlowNet中存在一个超参数`div_flow`\n",
    "    ```python\n",
    "    if type(output) is tuple:\n",
    "        target = self.div_flow * target\n",
    "        for i, output_ in enumerate(output):\n",
    "            target_ = self.multiScales[i](target)\n",
    "            epevalue += self.loss_weights[i]*EPE(output_, target_)\n",
    "            lossvalue += self.loss_weights[i]*self.loss(output_, target_)\n",
    "        return [lossvalue, epevalue]\n",
    "    ```\n",
    "\n",
    "    FlowNet相关repo中有人对此作出解释:\n",
    "    [Issue #28 · NVIDIA/flownet2-pytorch](https://github.com/NVIDIA/flownet2-pytorch/issues/28), \n",
    "    只提到了stable和与caffe版本对比\n",
    "\n",
    "    不论是grid还是flow都已经normalize到`(-1, 1)`,\n",
    "\n",
    "\n",
    "- 输出层不一定为金字塔的最后一层, 论文超参数为`l=2`, 对应原图的1/4大小. 为什么这样做? 在前向过程结束时, 显存占用为`11719MiB / 12189MiB`, 完整的反传会out of memory, 大概是因为这个吧……\n",
    "    > This process is repeated until we reach the desired level, l 0 . We set l 0 to be 2 throughout this paper, i.e., our model outputs quarter resolution optical flow and uses bilinear interpolation to obtain the full-resolution optical flow.\n",
    "    \n",
    "- weights\n",
    "    > The weights in the training loss (3) are set to be $\\alpha_6 = 0.32$, $\\alpha_5 = 0.08$, $\\alpha_4 = 0.02$, $\\alpha_3 = 0.01$, and $\\alpha_2 = 0.005$. This setting gives higher weights to loss terms at the second and third pyramid levels, if we take the number of pixels at each level into account."
   ]
  },
  {
   "cell_type": "markdown",
   "metadata": {},
   "source": [
    "## Optical Flow Estimator\n",
    "- 网络结构如下, 所有level相同结构, 各level参数独立\n",
    "    > The numbers of feature channels at each convolutional layers are respectively 128, 128, 96, 64, and 32, which are kept fixed at all pyramid levels.\n",
    "\n",
    "    > Note that the estimators at different levels have their own parameters instead of sharing the same parameters.\n",
    "\n",
    "\n",
    "- 主模型没有像SPyNet一样预测residual的flow, 经过实验, 如果用residual版本, 性能会提高, 前传耗时也会增加(只在我们的训练过程中体现过, 有待实验)\n",
    "    > We further test a residual version of the optical flow estimator, which estimates a flow increment and adds it to the initial flow for the refined flow. As shown in Table 5f, this residual version slightly improves the performance."
   ]
  },
  {
   "cell_type": "markdown",
   "metadata": {},
   "source": [
    "## Cost Volume Layer\n",
    "\n",
    "> For the cost volume, we set the search range to be 4 pixels at each level."
   ]
  },
  {
   "cell_type": "markdown",
   "metadata": {},
   "source": [
    "## Context Network\n",
    "- 只应用到输出层\n",
    "    > As context is crucial for flow estimation, we employ a context network at the desired pyramid level, l 0 , to effectively enlarge the receptive field size of each output unit. The context network is a feed-forward CNN, takes the estimated flow and features of the second last layer from the estimator, and outputs the refined flow."
   ]
  },
  {
   "cell_type": "markdown",
   "metadata": {},
   "source": [
    "## Normalization\n",
    "论文中没有提关于normalization的事情, 在FlowNet中, 采用了BatchNorm + Input Normalization"
   ]
  },
  {
   "cell_type": "code",
   "execution_count": null,
   "metadata": {
    "collapsed": true
   },
   "outputs": [],
   "source": []
  },
  {
   "cell_type": "code",
   "execution_count": null,
   "metadata": {
    "collapsed": true
   },
   "outputs": [],
   "source": []
  },
  {
   "cell_type": "code",
   "execution_count": null,
   "metadata": {
    "collapsed": true
   },
   "outputs": [],
   "source": [
    "CUDA_VISIBLE_DEVICES=1 python3 main.py train --dataset_dir data/Sintel --dataset SintelFinal --corr flownetc --num_workers 8 --batch_size 16 --log_dir long_term_log/Sintel_0428_corr-context-warping_PyramidL2_1e-3_Adam --log_interval 10 --summary_interval 10 --loss PyramidL2 --weights 1 1 1 1 1 1 --use_context_network --use_warping_layer --lr 1e-3 --weight_decay 0 --output_level -1 --optimizer Adam"
   ]
  },
  {
   "cell_type": "code",
   "execution_count": null,
   "metadata": {
    "collapsed": true
   },
   "outputs": [],
   "source": [
    "CUDA_VISIBLE_DEVICES=2 python3 main.py train --dataset_dir data/Sintel --dataset SintelFinal --corr cost_volume --num_workers 8 --batch_size 16 --log_dir long_term_log/Sintel_0428_cv-context-warping_PyramidL2_1e-3_Adam --log_interval 10 --summary_interval 10 --loss PyramidL2 --weights 1 1 1 1 1 1 --use_context_network --use_warping_layer --lr 1e-3 --weight_decay 0 --output_level -1 --optimizer AdamCUDA_VISIBLE_DEVICES=2 python3 main.py train --dataset_dir data/Sintel --dataset SintelFinal --corr cost_volume --num_workers 8 --batch_size 16 --log_dir long_term_log/Sintel_0428_cv-context-warping_PyramidL2_1e-3_Adam --log_interval 10 --summary_interval 10 --loss PyramidL2 --weights 1 1 1 1 1 1 --use_context_network --use_warping_layer --lr 1e-3 --weight_decay 0 --output_level -1 --optimizer Adam"
   ]
  },
  {
   "cell_type": "code",
   "execution_count": null,
   "metadata": {
    "collapsed": true
   },
   "outputs": [],
   "source": [
    "CUDA_VISIBLE_DEVICES=2 python3 main.py train --dataset_dir data/Sintel --dataset SintelFinal --corr cost_volume --num_workers 8 --batch_size 16 --log_dir long_term_log/Sintel_0428_cv-context-warping_PyramidL2_1e-3_Adam --log_interval 10 --summary_interval 10 --loss PyramidL2 --weights 1 1 1 1 1 1 --use_context_network --use_warping_layer --lr 1e-3 --weight_decay 0 --output_level -1 --optimizer Adam"
   ]
  }
 ],
 "metadata": {
  "kernelspec": {
   "display_name": "Python 3",
   "language": "python",
   "name": "python3"
  },
  "language_info": {
   "codemirror_mode": {
    "name": "ipython",
    "version": 3
   },
   "file_extension": ".py",
   "mimetype": "text/x-python",
   "name": "python",
   "nbconvert_exporter": "python",
   "pygments_lexer": "ipython3",
   "version": "3.6.3"
  }
 },
 "nbformat": 4,
 "nbformat_minor": 2
}
