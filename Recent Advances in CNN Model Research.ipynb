{
 "cells": [
  {
   "cell_type": "markdown",
   "metadata": {},
   "source": [
    "# Tensor Decompostition\n",
    "GoogLeNet, ResNet, Inception都有这样的结构"
   ]
  },
  {
   "cell_type": "markdown",
   "metadata": {},
   "source": [
    "# Spatial Operators\n",
    "\n",
    "shift operator, FPGA实现shift比实现sliding window容易\n",
    "\n",
    "Irregular Convolution\n",
    "Deformable Convolution Pooling\n",
    "\n",
    "\n",
    "ROI Align\n",
    "\n",
    "\n",
    "## Upsampling\n",
    "- Deconvolution\n",
    "- depth to width\n",
    "\n",
    "- Unpooling: 光流估计!"
   ]
  },
  {
   "cell_type": "markdown",
   "metadata": {},
   "source": [
    "# Feature Reuse\n",
    "DenseNet可以看作是Feature Reuse的一种\n",
    "\n"
   ]
  },
  {
   "cell_type": "markdown",
   "metadata": {},
   "source": [
    "# Attention\n",
    "\n",
    "- EncNet\n",
    "\n",
    "Context Encoding\n",
    "\n",
    "看这篇"
   ]
  },
  {
   "cell_type": "markdown",
   "metadata": {},
   "source": [
    "# Normalization"
   ]
  },
  {
   "cell_type": "markdown",
   "metadata": {},
   "source": [
    "# Inference Efficiency\n",
    "\n",
    "联调!\n",
    "\n",
    "CPU上shuffle似乎不会很耗时"
   ]
  },
  {
   "cell_type": "markdown",
   "metadata": {},
   "source": [
    "- 底层 补课\n",
    "- 业务 补课\n",
    "- 把计算能力投资到哪?"
   ]
  },
  {
   "cell_type": "markdown",
   "metadata": {},
   "source": [
    "ADC那篇 pruning 看一下"
   ]
  },
  {
   "cell_type": "markdown",
   "metadata": {},
   "source": [
    "看一下 搜activation的那篇"
   ]
  },
  {
   "cell_type": "markdown",
   "metadata": {},
   "source": [
    "SNP1"
   ]
  },
  {
   "cell_type": "markdown",
   "metadata": {},
   "source": [
    "low-rank bilinear pooling\n",
    "bilinear feature cnn models 看这个"
   ]
  },
  {
   "cell_type": "markdown",
   "metadata": {},
   "source": [
    "large minibatch SGD"
   ]
  },
  {
   "cell_type": "code",
   "execution_count": null,
   "metadata": {
    "collapsed": true
   },
   "outputs": [],
   "source": []
  }
 ],
 "metadata": {
  "kernelspec": {
   "display_name": "Python 3",
   "language": "python",
   "name": "python3"
  },
  "language_info": {
   "codemirror_mode": {
    "name": "ipython",
    "version": 3
   },
   "file_extension": ".py",
   "mimetype": "text/x-python",
   "name": "python",
   "nbconvert_exporter": "python",
   "pygments_lexer": "ipython3",
   "version": "3.6.3"
  }
 },
 "nbformat": 4,
 "nbformat_minor": 2
}
