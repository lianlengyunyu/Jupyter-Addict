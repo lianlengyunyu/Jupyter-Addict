{
 "cells": [
  {
   "cell_type": "markdown",
   "metadata": {},
   "source": [
    "# Introduction\n",
    "***\n",
    "## Contributions\n",
    "1. To the best of our knowledge, this is the first work to estimate end-to-end optical flow in a sparse-to-dense style.\n",
    "\n",
    "卖点:\n",
    "- long-term\n",
    "- sparse-to-dense\n",
    "- high resolution\n",
    "- reasonable output\n",
    "\n",
    "\n",
    "\n",
    "We present a novel quadtree-based convolution network(QuadNet). QuadNet is robust to"
   ]
  },
  {
   "cell_type": "markdown",
   "metadata": {},
   "source": [
    "# Related works\n",
    "***\n",
    "## Tree-based CNNs\n",
    "- OctCNN\n",
    "- O-CNN\n",
    "\n",
    "\n",
    "## Sparse matches\n",
    "- DeepMatching\n",
    "- CPM\n",
    "- Fully-trainable DeepMatching\n",
    "\n",
    "## Sparse-to-dense interpolation\n",
    "缺陷:\n",
    "- 要么非学习, 要么需要监督.\n",
    "- 不是端到端, 只能得到次优解\n",
    "\n",
    "引用:\n",
    "- EpicFlow\n",
    "- InterpoNet\n",
    "\n",
    "## Coarse-to-fine methods\n",
    "缺陷:\n",
    "- 计算量大, 通过Pyramid方法解决, \n",
    "- 只适合handle large structure with few details, 即使PWC-Net使用了Feature Pyramid, 也无法避免小物体在coarser level不可见的问题\n",
    "\n",
    "引用:\n",
    "- FlowNet\n",
    "- FlowNet2\n",
    "- SPyNet\n",
    "- PWC-Net"
   ]
  },
  {
   "cell_type": "markdown",
   "metadata": {},
   "source": [
    "# Method\n",
    "***\n",
    "为了real time, 第一波的sparse matches如何得到?\n",
    "\n",
    "如何去fill?"
   ]
  },
  {
   "cell_type": "markdown",
   "metadata": {},
   "source": [
    "# Experiments\n",
    "***"
   ]
  },
  {
   "cell_type": "markdown",
   "metadata": {},
   "source": [
    "# Conclusions\n",
    "***"
   ]
  },
  {
   "cell_type": "code",
   "execution_count": null,
   "metadata": {
    "collapsed": true
   },
   "outputs": [],
   "source": []
  }
 ],
 "metadata": {
  "kernelspec": {
   "display_name": "Python 3",
   "language": "python",
   "name": "python3"
  },
  "language_info": {
   "codemirror_mode": {
    "name": "ipython",
    "version": 3
   },
   "file_extension": ".py",
   "mimetype": "text/x-python",
   "name": "python",
   "nbconvert_exporter": "python",
   "pygments_lexer": "ipython3",
   "version": "3.6.3"
  }
 },
 "nbformat": 4,
 "nbformat_minor": 2
}
