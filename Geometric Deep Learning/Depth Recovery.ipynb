{
 "cells": [
  {
   "cell_type": "markdown",
   "metadata": {},
   "source": [
    "# Methods\n",
    "- Monocular\n",
    "- Stereo\n",
    "- Motion"
   ]
  },
  {
   "cell_type": "markdown",
   "metadata": {},
   "source": [
    "# References"
   ]
  },
  {
   "cell_type": "markdown",
   "metadata": {},
   "source": [
    "## Papers\n",
    "- as | C. Godard *et al.* **\"Unsupervised Monocular Depth Estimation with Left-Right Consistency\"** [arXiv](https://arxiv.org/abs/1609.03677)\n",
    "    > 使用differentiable inverse warping loss, 但是是泰勒展开式的形式, 没有达到最优训练效果\n",
    "- CVPR 2017 | B. Ummenhofer *et al.* **\"DeMoN: Depth and Motion Network for Learning Monocular Stereo\"** [arXiv](https://arxiv.org/abs/1612.02401) [code](https://github.com/lmb-freiburg/demon)\n",
    "    > l\n",
    "- CVPR 2017 | Tinghui Zhou *et al.* **\"Unsupervised Learning of Depth and Ego-Motion from Video\"** [arXiv]() [code](https://github.com/tinghuiz/SfMLearner)\n",
    "    > 引入left-right consistency loss, 从而利用了几何上一致的特性\n",
    "- CVPR 2018 | Zhichao Yin *et al.* **\"GeoNet: Unsupervised Learning of Dense Depth, Optical Flow and Camera Pose\"** [arXiv](https://arxiv.org/abs/1803.02276) [code](https://github.com/yzcjtr/GeoNet)\n",
    "    > a"
   ]
  },
  {
   "cell_type": "code",
   "execution_count": null,
   "metadata": {
    "collapsed": true
   },
   "outputs": [],
   "source": []
  }
 ],
 "metadata": {
  "kernelspec": {
   "display_name": "Python 3",
   "language": "python",
   "name": "python3"
  },
  "language_info": {
   "codemirror_mode": {
    "name": "ipython",
    "version": 3
   },
   "file_extension": ".py",
   "mimetype": "text/x-python",
   "name": "python",
   "nbconvert_exporter": "python",
   "pygments_lexer": "ipython3",
   "version": "3.5.1"
  }
 },
 "nbformat": 4,
 "nbformat_minor": 2
}
