{
 "cells": [
  {
   "cell_type": "markdown",
   "metadata": {},
   "source": [
    "# References"
   ]
  },
  {
   "cell_type": "markdown",
   "metadata": {},
   "source": [
    "## Papers\n",
    "- CVPR 2017 | E. Ilg *et al.* **\"Flownet 2.0: Evolution of optical flow estimation with deep networks\"** [arXiv](https://arxiv.org/abs/1612.01925) [code](https://github.com/lmb-freiburg/flownet2)\n",
    "- AAAI 2017 | Z Ren *et al.* **\"Unsupervised Deep Learning for Optical Flow Estimation\"** [pdf](https://www.aaai.org/ocs/index.php/AAAI/AAAI17/paper/download/14388/13940) [code]()\n",
    "- AAAI 2018 | Simon Meister *et al.* **\"UnFlow: Unsupervised Learning of Optical Flow with a Bidirectional Census Loss\"** [arXiv](https://arxiv.org/abs/1711.07837) [code](https://github.com/simonmeister/UnFlow)"
   ]
  },
  {
   "cell_type": "code",
   "execution_count": null,
   "metadata": {
    "collapsed": true
   },
   "outputs": [],
   "source": []
  }
 ],
 "metadata": {
  "kernelspec": {
   "display_name": "Python 3",
   "language": "python",
   "name": "python3"
  },
  "language_info": {
   "codemirror_mode": {
    "name": "ipython",
    "version": 3
   },
   "file_extension": ".py",
   "mimetype": "text/x-python",
   "name": "python",
   "nbconvert_exporter": "python",
   "pygments_lexer": "ipython3",
   "version": "3.5.1"
  }
 },
 "nbformat": 4,
 "nbformat_minor": 2
}
