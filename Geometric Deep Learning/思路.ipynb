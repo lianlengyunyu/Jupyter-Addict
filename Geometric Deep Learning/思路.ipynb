{
 "cells": [
  {
   "cell_type": "markdown",
   "metadata": {},
   "source": [
    "# 特征点法\n",
    "- **SuperPoint: Self-Supervised Interest Point Detection and Description**中用人工、简单图形的数据集来解决ill-posed的问题: 什么是interest points? 并用学习方法去生成描述子"
   ]
  },
  {
   "cell_type": "markdown",
   "metadata": {},
   "source": [
    "# 直接法\n",
    "- **Unsupervised Learning of Depth and Ego-Motion from Video**和**GeoNet**, 均是**single-view预测depth**, 前者在paper里也提了关于single-view和multi-views的实验, 并提出了改进方案(减小对光流的依赖?)\n",
    "- sparse"
   ]
  },
  {
   "cell_type": "markdown",
   "metadata": {},
   "source": [
    "# 难点\n",
    "- Low Texture Surfaces: 天空, 路面, 护栏, 绿化\n",
    "- "
   ]
  },
  {
   "cell_type": "markdown",
   "metadata": {},
   "source": [
    "# 最终应用\n",
    "- sparse的预测: SLAM前端, 路面检测\n",
    "- dense的预测: 可以作为其他模型(路面检测)的输入, 提高准确率"
   ]
  },
  {
   "cell_type": "markdown",
   "metadata": {},
   "source": [
    "- Object Matching: 无监督下, 在Motion中把同一个object关联起来\n",
    "    > motion下的同一个object, 在图像上会存在偏移, 光流法(每个像素)\n",
    "- "
   ]
  },
  {
   "cell_type": "code",
   "execution_count": null,
   "metadata": {
    "collapsed": true
   },
   "outputs": [],
   "source": []
  }
 ],
 "metadata": {
  "kernelspec": {
   "display_name": "Python 3",
   "language": "python",
   "name": "python3"
  },
  "language_info": {
   "codemirror_mode": {
    "name": "ipython",
    "version": 3
   },
   "file_extension": ".py",
   "mimetype": "text/x-python",
   "name": "python",
   "nbconvert_exporter": "python",
   "pygments_lexer": "ipython3",
   "version": "3.5.1"
  }
 },
 "nbformat": 4,
 "nbformat_minor": 2
}
