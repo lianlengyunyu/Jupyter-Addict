{
 "cells": [
  {
   "cell_type": "markdown",
   "metadata": {},
   "source": [
    "# Tasks"
   ]
  },
  {
   "cell_type": "markdown",
   "metadata": {},
   "source": [
    "## Optical Flow"
   ]
  },
  {
   "cell_type": "markdown",
   "metadata": {},
   "source": [
    "## Scene Flow"
   ]
  },
  {
   "cell_type": "markdown",
   "metadata": {},
   "source": [
    "## Ego-Motion"
   ]
  },
  {
   "cell_type": "markdown",
   "metadata": {},
   "source": [
    "## Depth"
   ]
  },
  {
   "cell_type": "markdown",
   "metadata": {},
   "source": [
    "- CVPR2017 | Tinghui Zhou *et al.* **\"Unsupervised Learning of Depth and Ego-Motion from Video\"** [arXiv]() [code](https://github.com/tinghuiz/SfMLearner)\n",
    "- CVPR2018 | Zhichao Yin *et al.* **\"GeoNet: Unsupervised Learning of Dense Depth, Optical Flow and Camera Pose\"** [arXiv](https://arxiv.org/abs/1803.02276) [code](https://github.com/yzcjtr/GeoNet)\n",
    "    > 在Zhou的基础上, 根据depth和ego-motion来生成rigid flow, 送入ResFlownet得到最终的flow\n",
    "- CVPR2018 | Zhenheng Yang *et al.* **\"LEGO: Learning Edge with Geometry all at Once by Watching Videos\"** [arXiv](https://arxiv.org/abs/1803.05648)\n",
    "    > 在Zhou(DepthNet + PoseNet)的基础上加入EdgeNet, 从预测的depth来看, 边缘确实清晰了很多. 本篇把这一现象归因于,\n",
    "- AAAI2018 | Zhenheng Yang *et al.* **\"Unsupervised Learning of Geometry from Videos with Edge-aware Depth-Normal Consistency\"** [arXiv](https://arxiv.org/abs/1711.03665)\n",
    "\n",
    "\n",
    "- CVPR2018 | **\"Unsupervised Learning of Monocular Depth Estimation and Visual Odometry with Deep Feature Reconstruction\"** [arXiv]() [code](https://github.com/Huangying-Zhan/Depth-VO-Feat)"
   ]
  },
  {
   "cell_type": "markdown",
   "metadata": {
    "collapsed": true
   },
   "source": [
    "光流作为底层:\n"
   ]
  },
  {
   "cell_type": "markdown",
   "metadata": {},
   "source": [
    "# 改进光度不变性假设"
   ]
  },
  {
   "cell_type": "markdown",
   "metadata": {},
   "source": [
    "# Correlation\n",
    "\n",
    "- correlation layer\n",
    "    $$c(x_1, x_2) = \\Sigma_{o\\in[-k, k]\\times[-k, k]}{<f_1(x_1 + o), f_2(x_2 + o)>}$$\n",
    "\n",
    "    基于patch, x1与x2的相关性由x1与x2周围的像素相关\n",
    "\n",
    "- cost volume\n",
    "基于点, x1与x2的相关性只与x1和x2相关.\n",
    "\n",
    "\n",
    "弊端:\n",
    "- 无学习能力, 固定的以自身为中心的搜索范围\n",
    "- compute cost随搜索范围增长, 终究无法handle大位移"
   ]
  },
  {
   "cell_type": "markdown",
   "metadata": {},
   "source": [
    "# 网络结构上的工作\n",
    "STN\n",
    "\n",
    "FlowNet\n",
    "\n",
    "\n",
    "SPyNet"
   ]
  },
  {
   "cell_type": "markdown",
   "metadata": {},
   "source": [
    "用share weights的网络处理两张图片, 得到feature maps, 然后不论是FlowNetS还是FlowNetC, 都是去学习一个映射关系 使得feature maps中相似的区域.\n",
    "Correlation"
   ]
  },
  {
   "cell_type": "markdown",
   "metadata": {},
   "source": [
    "# CNN + sparse"
   ]
  },
  {
   "cell_type": "markdown",
   "metadata": {
    "collapsed": true
   },
   "source": [
    "# 实际应用的角度\n",
    "在实际应用中, "
   ]
  }
 ],
 "metadata": {
  "kernelspec": {
   "display_name": "Python 3",
   "language": "python",
   "name": "python3"
  },
  "language_info": {
   "codemirror_mode": {
    "name": "ipython",
    "version": 3
   },
   "file_extension": ".py",
   "mimetype": "text/x-python",
   "name": "python",
   "nbconvert_exporter": "python",
   "pygments_lexer": "ipython3",
   "version": "3.6.3"
  }
 },
 "nbformat": 4,
 "nbformat_minor": 2
}
