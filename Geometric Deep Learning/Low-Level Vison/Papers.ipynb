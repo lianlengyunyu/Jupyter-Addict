{
 "cells": [
  {
   "cell_type": "markdown",
   "metadata": {},
   "source": [
    "# Learning Dual Convolutional Neural Networks for Low-Level Vision\n",
    "CVPR 2018\n",
    "\n",
    "提出DualCNN的两种形式, 并联或级联Net-S和Net-D两个网络, 分别学习structure和details\n",
    "\n",
    "\n",
    "Net-S:\n",
    "9 × 9 × 64 + ReLU\n",
    "1 × 1 × 32 + ReLU\n",
    "5 × 5 × 1  + ReLU\n",
    "\n",
    "\n",
    "Net-D:\n",
    "\n",
    "\n",
    "Benchmark Tasks\n",
    "\n",
    "- Image Super-resolution\n",
    "- Edge-preserving Filtering\n",
    "- Image Deraining\n",
    "- Image Dehazing"
   ]
  },
  {
   "cell_type": "code",
   "execution_count": null,
   "metadata": {
    "collapsed": true
   },
   "outputs": [],
   "source": []
  }
 ],
 "metadata": {
  "kernelspec": {
   "display_name": "Python 3",
   "language": "python",
   "name": "python3"
  },
  "language_info": {
   "codemirror_mode": {
    "name": "ipython",
    "version": 3
   },
   "file_extension": ".py",
   "mimetype": "text/x-python",
   "name": "python",
   "nbconvert_exporter": "python",
   "pygments_lexer": "ipython3",
   "version": "3.6.3"
  }
 },
 "nbformat": 4,
 "nbformat_minor": 2
}
