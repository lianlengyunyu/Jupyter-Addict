{
 "cells": [
  {
   "cell_type": "markdown",
   "metadata": {},
   "source": [
    "# LEARNING OPTICAL FLOW VIA DILATED NETWORKS AND OCCLUSION REASONING"
   ]
  },
  {
   "cell_type": "markdown",
   "metadata": {},
   "source": [
    "# Optical Flow Estimation using a Spatial Pyramid Network\n",
    "Anurag Ranjan\n",
    "\n",
    "CVPR2017 | [arXiv]()"
   ]
  },
  {
   "cell_type": "markdown",
   "metadata": {},
   "source": [
    "# Layered Optical Flow Estimation Using a Deep Neural Network with a Soft Mask\n",
    "IJCAI 2018 | [arXiv](https://arxiv.org/abs/1805.03596)\n",
    "\n",
    "提出Soft Mask Module来替换一般网络的输出层, 转而预测disjoint layers, layered approaches在传统光流预测中用来克服discontinuities和occlusions.\n",
    "\n",
    "* 通过maxout layered让模型可以学习不同的motion type并分别预测, 提高精度. 利用不同mask的分割效果, 也可以提升flow在boundary结果较差的问题.\n",
    "* 通过mask, f与X的关系由线性(linear)变为二次(quadratic), 可以更好地拟合"
   ]
  },
  {
   "cell_type": "markdown",
   "metadata": {
    "collapsed": true
   },
   "source": [
    "# Occlusion Aware Unsupervised Learning of Optical Flow\n",
    "CVPR 2018 | [arXiv](https://arxiv.org/abs/1711.05890)\n",
    "\n",
    "指出无监督学习性能上不去的原因之一在于没有剔除occlusion, 用可视化的方式直观地展现了如果存在occlusion, 直接用预测的flow进行warp会导致错误的输出, 继而让模型混乱, 尝试用周围的像素去填补一个本不应该存在的物体.\n",
    "\n",
    "创新点\n",
    "* end-to-end的方式去handle occlusion\n",
    "* 提出新的warping method, 为学习large motion提供便利\n",
    "* 通过在decoder阶段引入额外warp的输入, 进一步提升FlowNetS的性能\n",
    "* "
   ]
  },
  {
   "cell_type": "code",
   "execution_count": null,
   "metadata": {
    "collapsed": true
   },
   "outputs": [],
   "source": []
  }
 ],
 "metadata": {
  "kernelspec": {
   "display_name": "Python 3",
   "language": "python",
   "name": "python3"
  },
  "language_info": {
   "codemirror_mode": {
    "name": "ipython",
    "version": 3
   },
   "file_extension": ".py",
   "mimetype": "text/x-python",
   "name": "python",
   "nbconvert_exporter": "python",
   "pygments_lexer": "ipython3",
   "version": "3.6.3"
  }
 },
 "nbformat": 4,
 "nbformat_minor": 2
}
