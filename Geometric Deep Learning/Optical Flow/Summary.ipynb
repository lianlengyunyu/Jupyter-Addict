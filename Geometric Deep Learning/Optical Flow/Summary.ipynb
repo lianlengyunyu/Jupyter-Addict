{
 "cells": [
  {
   "cell_type": "markdown",
   "metadata": {},
   "source": [
    "# Piecewise\n",
    "Insight:"
   ]
  },
  {
   "cell_type": "markdown",
   "metadata": {
    "collapsed": true
   },
   "source": [
    "# Spatial Context\n",
    "\n",
    "不同于很多low-level vision任务(edge-awared filtering, debluring, deraining, dehazing), 光流预测需要拥有很大的context, 同时保持pixel级的精确. \n",
    "\n",
    "- **Context Encoding for Semantic Segmentation**  \n",
    "    分割的paper, 以往的工作将context用于finetune, 而本篇提出Context Encoding Module"
   ]
  },
  {
   "cell_type": "markdown",
   "metadata": {},
   "source": [
    "# Temporal Context"
   ]
  },
  {
   "cell_type": "markdown",
   "metadata": {},
   "source": [
    "# Correlation"
   ]
  },
  {
   "cell_type": "markdown",
   "metadata": {},
   "source": [
    "# Detail-Preserving\n",
    "在获取context的过程中, 模型往往包含pooling的操作, 包括encoder-decoder架构和pyramid架构. 涉及到的layer包括pooling和strided convolution, 如何在这些lossy layer上尽可能保留细节成了一个general的问题.\n",
    "\n",
    "- CVPR 2018 | Detail-Preserving Pooling in Deep Networks\n",
    "    > 提出Detail-Preserving Pooling(DPP), 拥有参数$\\lambda$, 可以拟合Max Pooling, Average Pooling, \n",
    "    \n",
    "- ICCV 2017 | End-to-End Learning of Geometry and Context for Deep Stereo Regression\n",
    "    > 提出Differentiable Argmin"
   ]
  },
  {
   "cell_type": "markdown",
   "metadata": {
    "collapsed": true
   },
   "source": [
    "#"
   ]
  },
  {
   "cell_type": "code",
   "execution_count": null,
   "metadata": {
    "collapsed": true
   },
   "outputs": [],
   "source": []
  }
 ],
 "metadata": {
  "kernelspec": {
   "display_name": "Python 3",
   "language": "python",
   "name": "python3"
  },
  "language_info": {
   "codemirror_mode": {
    "name": "ipython",
    "version": 3
   },
   "file_extension": ".py",
   "mimetype": "text/x-python",
   "name": "python",
   "nbconvert_exporter": "python",
   "pygments_lexer": "ipython3",
   "version": "3.6.3"
  }
 },
 "nbformat": 4,
 "nbformat_minor": 2
}
