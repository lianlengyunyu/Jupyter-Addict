{
 "cells": [
  {
   "cell_type": "markdown",
   "metadata": {},
   "source": [
    "# Alexey Dosovitskiy\n",
    "[website1](https://dosovits.github.io/) [website2](https://lmb.informatik.uni-freiburg.de/people/dosovits/) | [Google Scholar](https://scholar.google.de/citations?user=FXNJRDoAAAAJ)\n",
    "\n"
   ]
  },
  {
   "cell_type": "markdown",
   "metadata": {},
   "source": [
    "# Thomas Brox\n",
    "[website](https://lmb.informatik.uni-freiburg.de/people/brox/)"
   ]
  },
  {
   "cell_type": "markdown",
   "metadata": {},
   "source": [
    "# Deqing Sun\n",
    "[website1](http://research.nvidia.com/person/deqing-sun) | [website2](http://people.seas.harvard.edu/~dqsun/) | [Google Scholar](https://scholar.google.com/citations?user=t4rgICIAAAAJ)"
   ]
  },
  {
   "cell_type": "markdown",
   "metadata": {},
   "source": [
    "# Michael J. Black\n",
    "[Google Scholar](https://scholar.google.com/citations?user=6NjbexEAAAAJ)"
   ]
  },
  {
   "cell_type": "markdown",
   "metadata": {},
   "source": [
    "# Andrés Bruhn\n",
    "[Google Scholar](https://scholar.google.com/citations?user=PtIe6OkAAAAJ)\n",
    "\n",
    "依然活跃在Variational Methods"
   ]
  },
  {
   "cell_type": "markdown",
   "metadata": {
    "collapsed": true
   },
   "source": [
    "# Alex Kendall\n",
    "[website](https://alexgkendall.com/)"
   ]
  },
  {
   "cell_type": "code",
   "execution_count": null,
   "metadata": {
    "collapsed": true
   },
   "outputs": [],
   "source": []
  }
 ],
 "metadata": {
  "kernelspec": {
   "display_name": "Python 3",
   "language": "python",
   "name": "python3"
  },
  "language_info": {
   "codemirror_mode": {
    "name": "ipython",
    "version": 3
   },
   "file_extension": ".py",
   "mimetype": "text/x-python",
   "name": "python",
   "nbconvert_exporter": "python",
   "pygments_lexer": "ipython3",
   "version": "3.6.3"
  }
 },
 "nbformat": 4,
 "nbformat_minor": 2
}
