{
 "cells": [
  {
   "cell_type": "markdown",
   "metadata": {},
   "source": [
    "# Long-Term Memory\n",
    "在实际应用中, 接收$I_2$作为输入帧, 与$I_1$进行计算得到$F_1$"
   ]
  },
  {
   "cell_type": "markdown",
   "metadata": {
    "collapsed": true
   },
   "source": [
    "# 结合sparse和dense方法\n",
    "sparse方法找到关键点并进行匹配, 随着匹配数的增多, 整幅画面的flow清晰起来.\n",
    "\n",
    "dense方法囿于计算量, 往往采用coarse-to-fine的架构, 上层的结果起主导作用, 虽然可以通过end-to-end来训练, 但是还是会出现上层"
   ]
  },
  {
   "cell_type": "markdown",
   "metadata": {},
   "source": [
    "# Confidence\n",
    "> Considering the remaining challenges in optical flow, a confidence measure to assess the quality of the estimated flow is desirable."
   ]
  },
  {
   "cell_type": "markdown",
   "metadata": {},
   "source": [
    "# 白边问题\n",
    "白边指在预测结果的可视化中, 物体边缘往往会发白(对应值为(0,0)), 这个现象出现在:\n",
    "* PWC-Net复现\n",
    "* Secrets of Optical Flow Estimation and Their Principles"
   ]
  },
  {
   "cell_type": "markdown",
   "metadata": {},
   "source": [
    "# 理想中的光流\n",
    "\n",
    "自顶向下 + 自底向上相结合, 输出confidence, 使用明确的correlation + maxout获得结果, 而非让CNN学习映射"
   ]
  },
  {
   "cell_type": "markdown",
   "metadata": {
    "collapsed": true
   },
   "source": [
    "# 利用原始数据\n",
    "一直以来, paper致力于减轻光度不变这个过强假设带来的误差, 从原始RGB图像中提取更鲁棒的特征. 然而在现实中, 光影能帮助我们推断形状. 能否利用这一点?"
   ]
  },
  {
   "cell_type": "markdown",
   "metadata": {},
   "source": [
    "# End-to-end Sparse-to-dense Flow Estimation\n",
    "CVPR 2017, InterpoNet, 首个用CNN作sparse-to-dense interpolation的paper. 但它使用了SED提取的edge信息和deepmatching提取的sparse matches. 能否整合整个过程?\n",
    "\n",
    "比coarse-to-fine的好处:\n",
    "- coarse-to-fine是top-down的结构, 上层出现错误会导致最终结果彻底crash. 而sparse-to-dense是bottom-up的结构, 底层微小的错误可以慢慢修正过来\n",
    "- sparse-to-densee\n",
    "\n",
    "\n",
    "人识别运动的两种方式:\n",
    "- coarse-to-fine: 先得到大体的运动, 再完善细节\n",
    "- sparse-to-dense: 通过观察明显物体的运动, 推断出整体的运动"
   ]
  },
  {
   "cell_type": "markdown",
   "metadata": {
    "collapsed": true
   },
   "source": [
    "# QtFlow: Flow Estimation based on Quadtree"
   ]
  },
  {
   "cell_type": "code",
   "execution_count": null,
   "metadata": {
    "collapsed": true
   },
   "outputs": [],
   "source": []
  }
 ],
 "metadata": {
  "kernelspec": {
   "display_name": "Python 3",
   "language": "python",
   "name": "python3"
  },
  "language_info": {
   "codemirror_mode": {
    "name": "ipython",
    "version": 3
   },
   "file_extension": ".py",
   "mimetype": "text/x-python",
   "name": "python",
   "nbconvert_exporter": "python",
   "pygments_lexer": "ipython3",
   "version": "3.6.3"
  }
 },
 "nbformat": 4,
 "nbformat_minor": 2
}
