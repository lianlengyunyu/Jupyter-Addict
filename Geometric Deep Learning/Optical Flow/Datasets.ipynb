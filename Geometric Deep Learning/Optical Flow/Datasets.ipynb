{
 "cells": [
  {
   "cell_type": "markdown",
   "metadata": {},
   "source": [
    "# Middlebury\n",
    "* 数量: 8对\n",
    "* 位移: 10 pixels以下"
   ]
  },
  {
   "cell_type": "markdown",
   "metadata": {},
   "source": [
    "# FlyingChairs\n",
    "- 数量: 22k\n",
    "- 描述: Flickr的图片作为背景, 随机的仿射变换, 只有平面的motion"
   ]
  },
  {
   "cell_type": "markdown",
   "metadata": {},
   "source": [
    "# FlyingThings3D\n",
    "- 数量: 22k\n",
    "- 描述"
   ]
  },
  {
   "cell_type": "markdown",
   "metadata": {},
   "source": [
    "KITTI\n",
    "* 数量: 194对\n",
    "\n",
    "* 缺点, 只包含一种特殊的motion\n",
    "使用camera和3D laser scanner同步录制"
   ]
  },
  {
   "cell_type": "markdown",
   "metadata": {},
   "source": [
    "# MPI-Sintel\n",
    "- 数量: 1064\n",
    "- 描述: 鼓励long-range motion, motion blur, multi-frame analysis, non-rigid motion等方面的研究\n",
    "\n",
    "MPI-Sintel这个名字的由来\n",
    "[Sintel](https://en.wikipedia.org/wiki/Sintel)是一部开源的短片, [MPI](https://www.is.mpg.de/)(Max Planck Institute for Intelligent Systems)修改了Sintel来为光流预测提供训练和评测平台.\n",
    "\n",
    "ECCV 2012发布"
   ]
  },
  {
   "cell_type": "markdown",
   "metadata": {},
   "source": [
    "# Dataset Schedules\n",
    "\n",
    "[FlowNet2](https://arxiv.org/abs/1612.01925)中提到了dataset schedules. 数据集的难度大概为FlyingChairs < FlyingThings3D < MPI-Sintel / KITTI. 由易到难地给模型feed数据, 会得到比单独feed或混合feed都要好的结果"
   ]
  },
  {
   "cell_type": "markdown",
   "metadata": {
    "collapsed": true
   },
   "source": [
    "# Data Augmentation\n",
    "FlowNet中验证了data augmentation的重要性"
   ]
  },
  {
   "cell_type": "code",
   "execution_count": null,
   "metadata": {
    "collapsed": true
   },
   "outputs": [],
   "source": []
  }
 ],
 "metadata": {
  "kernelspec": {
   "display_name": "Python 3",
   "language": "python",
   "name": "python3"
  },
  "language_info": {
   "codemirror_mode": {
    "name": "ipython",
    "version": 3
   },
   "file_extension": ".py",
   "mimetype": "text/x-python",
   "name": "python",
   "nbconvert_exporter": "python",
   "pygments_lexer": "ipython3",
   "version": "3.6.3"
  }
 },
 "nbformat": 4,
 "nbformat_minor": 2
}
