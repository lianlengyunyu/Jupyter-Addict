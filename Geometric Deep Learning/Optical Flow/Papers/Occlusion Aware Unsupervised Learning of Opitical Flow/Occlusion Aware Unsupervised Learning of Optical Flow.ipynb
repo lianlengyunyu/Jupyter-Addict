{
 "cells": [
  {
   "cell_type": "markdown",
   "metadata": {},
   "source": [
    "# Occlusion Aware Unsupervised Learning of Optical Flow\n",
    "\n",
    "CVPR 2018"
   ]
  },
  {
   "cell_type": "markdown",
   "metadata": {},
   "source": [
    "创新点\n",
    "* end-to-end的方式去handle occlusion\n",
    "* 提出新的warping method, 为学习large motion提供便利\n",
    "* 通过在decoder阶段引入额外warp的输入, 进一步提升FlowNetS的性能\n",
    "* "
   ]
  },
  {
   "cell_type": "markdown",
   "metadata": {
    "collapsed": true
   },
   "source": [
    "# Warping Method\n",
    "文中提到创新点之一在于新的warping method, 论文使用了forward warping和backward warping都并不新鲜. 所说的facilitate unsupervised learning of large motion在于. \n",
    "\n",
    "Forward Warping和Backward Warping是二者缺一不可吗?\n",
    "\n",
    "Forward Warping中, $I_1$中每个像素在$I_2$中都有联系()\n",
    "Backward Warping中, $I_2$中可能存在\n",
    "\n",
    "\n",
    "> The problem with the original warping method is that the warped pixel value only depends on its four nearest neighbors, so if the target position is far away from the proposed position, the network will not get meaningful gradient signals."
   ]
  },
  {
   "cell_type": "markdown",
   "metadata": {},
   "source": [
    "$$L = \\gamma_1L^1_p + \\gamma_2L^2_p + \\gamma_3L^1_s + \\gamma_4L^2_s$$"
   ]
  },
  {
   "cell_type": "markdown",
   "metadata": {
    "collapsed": true
   },
   "source": [
    "# Occlusion Map\n",
    "用FlowNetS作为flow estimator, 本文用同一个flow estimator分别预测forward flow $F_{12}$和backward flow $F_{21}$.\n",
    "\n",
    "- backward warping: forward flow $F_{12}$被用作从$I_2$重构$I_1$\n",
    "- forward warping: backward flow $F_{21}$被用作生成occlusion map, \n",
    "\n",
    "$$V(x,y) = \\Sigma^W_{i=1}{\\Sigma^H_{j=1}{max(0,1-|x-(i+F^x_{21}(i,j))|) \\cdot max(0,1-|y-(j+F^j_{21}(i,j))|)}}$$\n",
    "\n",
    "$$O(x,y) = min(1,V(x,y))$$\n",
    "\n",
    "二者结合, 组成了occlusion aware的reconstruction loss, 从而可以unsupervised learning, 点题."
   ]
  },
  {
   "cell_type": "markdown",
   "metadata": {},
   "source": [
    "forward warping不常用的原因是目标图像tgt中有可能出现空值"
   ]
  },
  {
   "cell_type": "code",
   "execution_count": 7,
   "metadata": {
    "collapsed": false,
    "scrolled": true
   },
   "outputs": [
    {
     "data": {
      "text/plain": [
       "array([[[0, 0],\n",
       "        [0, 1],\n",
       "        [0, 2],\n",
       "        [0, 3],\n",
       "        [0, 4],\n",
       "        [0, 5],\n",
       "        [0, 6],\n",
       "        [0, 7]],\n",
       "\n",
       "       [[0, 0],\n",
       "        [0, 1],\n",
       "        [0, 2],\n",
       "        [0, 3],\n",
       "        [0, 4],\n",
       "        [0, 5],\n",
       "        [0, 6],\n",
       "        [0, 7]],\n",
       "\n",
       "       [[0, 0],\n",
       "        [0, 1],\n",
       "        [0, 2],\n",
       "        [0, 3],\n",
       "        [0, 4],\n",
       "        [0, 5],\n",
       "        [0, 6],\n",
       "        [0, 7]],\n",
       "\n",
       "       [[0, 0],\n",
       "        [0, 1],\n",
       "        [0, 2],\n",
       "        [0, 3],\n",
       "        [0, 4],\n",
       "        [0, 5],\n",
       "        [0, 6],\n",
       "        [0, 7]],\n",
       "\n",
       "       [[0, 0],\n",
       "        [0, 1],\n",
       "        [0, 2],\n",
       "        [0, 3],\n",
       "        [0, 4],\n",
       "        [0, 5],\n",
       "        [0, 6],\n",
       "        [0, 7]],\n",
       "\n",
       "       [[0, 0],\n",
       "        [0, 1],\n",
       "        [0, 2],\n",
       "        [0, 3],\n",
       "        [0, 4],\n",
       "        [0, 5],\n",
       "        [0, 6],\n",
       "        [0, 7]],\n",
       "\n",
       "       [[0, 0],\n",
       "        [0, 1],\n",
       "        [0, 2],\n",
       "        [0, 3],\n",
       "        [0, 4],\n",
       "        [0, 5],\n",
       "        [0, 6],\n",
       "        [0, 7]],\n",
       "\n",
       "       [[0, 0],\n",
       "        [0, 1],\n",
       "        [0, 2],\n",
       "        [0, 3],\n",
       "        [0, 4],\n",
       "        [0, 5],\n",
       "        [0, 6],\n",
       "        [0, 7]]])"
      ]
     },
     "execution_count": 7,
     "metadata": {},
     "output_type": "execute_result"
    }
   ],
   "source": [
    "import numpy as np\n",
    "H, W = 8, 8\n",
    "flow = np.arange(H*W*2).reshape((H,W,2))\n",
    "coords = np.empty((H, W, 2), dtype = np.int)\n",
    "coords[..., 0] = np.arange(H)[:, None]\n",
    "coords[..., 1] = np.arange(W)\n",
    "\n",
    "coords[..., 0] = coords[..., 0] - flow[..., 0]\n",
    "\n",
    "\n",
    "coords[coords < 0] = 0\n",
    "coords"
   ]
  },
  {
   "cell_type": "code",
   "execution_count": null,
   "metadata": {
    "collapsed": true
   },
   "outputs": [],
   "source": []
  }
 ],
 "metadata": {
  "kernelspec": {
   "display_name": "Python 3",
   "language": "python",
   "name": "python3"
  },
  "language_info": {
   "codemirror_mode": {
    "name": "ipython",
    "version": 3
   },
   "file_extension": ".py",
   "mimetype": "text/x-python",
   "name": "python",
   "nbconvert_exporter": "python",
   "pygments_lexer": "ipython3",
   "version": "3.6.3"
  }
 },
 "nbformat": 4,
 "nbformat_minor": 2
}
