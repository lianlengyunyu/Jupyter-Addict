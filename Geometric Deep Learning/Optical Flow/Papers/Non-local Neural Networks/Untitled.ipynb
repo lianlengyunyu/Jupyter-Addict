{
 "cells": [
  {
   "cell_type": "markdown",
   "metadata": {},
   "source": [
    "# Non-local Neural Networks\n",
    "\n",
    "CVPR 2018\n"
   ]
  },
  {
   "cell_type": "markdown",
   "metadata": {},
   "source": [
    "CNN和RNN的一个cell都是在处理local的信息, 它们实现long-range dependency的方法是\n",
    "\n",
    "\n",
    "缺点如下\n",
    "- 计算效率低\n",
    "- 造成优化困难\n",
    "- 较大spatial/temporal distance的信息传递麻烦且困难, 如CNN, 底层较远的信息是通过forward到高层实现的"
   ]
  },
  {
   "cell_type": "code",
   "execution_count": null,
   "metadata": {
    "collapsed": true
   },
   "outputs": [],
   "source": []
  }
 ],
 "metadata": {
  "kernelspec": {
   "display_name": "Python 3",
   "language": "python",
   "name": "python3"
  },
  "language_info": {
   "codemirror_mode": {
    "name": "ipython",
    "version": 3
   },
   "file_extension": ".py",
   "mimetype": "text/x-python",
   "name": "python",
   "nbconvert_exporter": "python",
   "pygments_lexer": "ipython3",
   "version": "3.6.3"
  }
 },
 "nbformat": 4,
 "nbformat_minor": 2
}
