{
 "cells": [
  {
   "cell_type": "markdown",
   "metadata": {},
   "source": [
    "# FlowNet"
   ]
  },
  {
   "cell_type": "code",
   "execution_count": null,
   "metadata": {
    "collapsed": true
   },
   "outputs": [],
   "source": []
  },
  {
   "cell_type": "markdown",
   "metadata": {},
   "source": [
    "# FlowNet2"
   ]
  },
  {
   "cell_type": "markdown",
   "metadata": {},
   "source": [
    "## Dataset Schedules\n",
    "讨论了几个数据集的特点, 并实验了不同数据集规划导致的性能差异.\n",
    "\n",
    "* 结论: \n",
    "    1. 数据集难度: FlyingChairs < FlyingThings < KITTI/Sintel\n",
    "    2. 按先易后难的顺序feed数据, 结果会比feed单个数据集或者混合数据集都要好, 而且是显著差异\n",
    "        > Just by modifying datasets and training schedules, we improved the FlowNetS result reported by Dosovitskiy et al. [11] by ∼ 25% and the FlowNetC result by ∼ 30%.\n"
   ]
  },
  {
   "cell_type": "markdown",
   "metadata": {},
   "source": [
    "## Stacking Networks\n",
    "也是被人诟病的一点, 比起FlowNetS和FlowNetC的简洁, FlowNet2堆叠了很多模型"
   ]
  },
  {
   "cell_type": "code",
   "execution_count": null,
   "metadata": {
    "collapsed": true
   },
   "outputs": [],
   "source": []
  }
 ],
 "metadata": {
  "kernelspec": {
   "display_name": "Python 3",
   "language": "python",
   "name": "python3"
  },
  "language_info": {
   "codemirror_mode": {
    "name": "ipython",
    "version": 3
   },
   "file_extension": ".py",
   "mimetype": "text/x-python",
   "name": "python",
   "nbconvert_exporter": "python",
   "pygments_lexer": "ipython3",
   "version": "3.6.3"
  }
 },
 "nbformat": 4,
 "nbformat_minor": 2
}
