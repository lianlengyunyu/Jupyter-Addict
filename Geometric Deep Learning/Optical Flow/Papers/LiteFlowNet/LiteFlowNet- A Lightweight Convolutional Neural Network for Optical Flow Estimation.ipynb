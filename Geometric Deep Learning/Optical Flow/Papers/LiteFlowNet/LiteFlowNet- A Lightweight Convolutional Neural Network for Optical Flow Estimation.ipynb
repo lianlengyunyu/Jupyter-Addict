{
 "cells": [
  {
   "cell_type": "markdown",
   "metadata": {},
   "source": [
    "# LiteFlowNet: A Lightweight Convolutional Neural Network for Optical Flow Estimation\n",
    "\n",
    "CVPR 2018 (spotlight)\n",
    "\n",
    "[arXiv](https://arxiv.org/abs/1805.07036) | [Caffe](https://github.com/twhui/LiteFlowNet)(offical) | [website](http://mmlab.ie.cuhk.edu.hk/projects/LiteFlowNet/) | [slides](http://mmlab.ie.cuhk.edu.hk/projects/LiteFlowNet/liteflownet_slides.pdf)"
   ]
  },
  {
   "cell_type": "markdown",
   "metadata": {},
   "source": [
    "![](imgs/architecture.png)"
   ]
  },
  {
   "cell_type": "markdown",
   "metadata": {},
   "source": [
    "# Cascaded Flow Inference\n",
    "![](imgs/cascaded_flow_inference_module.png)\n",
    "在金字塔的每一层, 通过级联的两个轻量级网络得到光流输出.\n",
    "\n",
    "## First Flow Inference (descriptor matching)\n",
    "以cost volume的方式计算\n",
    "\n",
    "$$c(x,d) = F_1(x) \\cdot F_2(x+d) / N$$\n",
    "其中c是matching cost, d是偏移量\n",
    "\n",
    "\n",
    "减少cost volume的高消耗:\n",
    "* 只计算short-range matching, 对应PWC-Net中的partial cost volume, 即$I_1$中的每个像素$x$只与$I_2$中它周围的像素计算correlation\n",
    "* 每一层通过warp拉近相关点的spatial distance, warp使用的flow map需要在spatial resolution以及magnitude两方面上采样, 与PWC-Net不同点在于这里使用f-warp\n",
    "* 只计算match\n",
    "\n",
    "\n",
    "## Second Flow Inference (sub-pixel refienment)"
   ]
  },
  {
   "cell_type": "markdown",
   "metadata": {
    "collapsed": true
   },
   "source": [
    "## Flow Regularization\n",
    "\n",
    "光流在物体边界变模糊的现象\n",
    "![](imgs/vague_boundaries.png)"
   ]
  },
  {
   "cell_type": "markdown",
   "metadata": {
    "collapsed": true
   },
   "source": [
    "# 后记\n",
    "***\n",
    "CVPR 2018上, **LiteFlowNet**和**PWC-Net**分别中了Spotlight和Oral, 二者借鉴的工作无非**SPyNet**和**FlowNet**. 比起图像分类/检测/分割, 光流领域的竞争还是小一些. 对比同一会议的**PSMNet**, 基于ICCV 2017的Oral **GC-Net** + Spatial Pyramid Pooling, 只中了Poster. 不光汲取知识, 作为门外汉也指点指点江山, 看看oral, spotlight, poster之间的差别.\n",
    "\n",
    "\n"
   ]
  },
  {
   "cell_type": "code",
   "execution_count": null,
   "metadata": {
    "collapsed": true
   },
   "outputs": [],
   "source": []
  }
 ],
 "metadata": {
  "kernelspec": {
   "display_name": "Python 3",
   "language": "python",
   "name": "python3"
  },
  "language_info": {
   "codemirror_mode": {
    "name": "ipython",
    "version": 3
   },
   "file_extension": ".py",
   "mimetype": "text/x-python",
   "name": "python",
   "nbconvert_exporter": "python",
   "pygments_lexer": "ipython3",
   "version": "3.6.3"
  }
 },
 "nbformat": 4,
 "nbformat_minor": 2
}
