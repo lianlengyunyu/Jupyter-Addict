{
 "cells": [
  {
   "cell_type": "markdown",
   "metadata": {},
   "source": [
    "# InterpoNet, A brain inspired neural network for optical flow dense interpolation\n",
    "Shay Zweig, Lior Wolf\n",
    "\n",
    "CVPR 2017\n",
    "[arXiv](https://arxiv.org/pdf/1611.09803.pdf) | [code](https://github.com/shayzweig/InterpoNet)"
   ]
  },
  {
   "cell_type": "markdown",
   "metadata": {},
   "source": [
    "模型简单, 没有特殊的layer. 难得地引用了很多神经科学的paper"
   ]
  },
  {
   "cell_type": "markdown",
   "metadata": {},
   "source": [
    "在生物的神经网络中, 在处理信息缺失或破坏的情况时, lateral and top-down feedback loops会被激活. 然而人工反馈网络, InterpoNet通过一些改动, 使得一个deep forward networks可以"
   ]
  },
  {
   "cell_type": "code",
   "execution_count": null,
   "metadata": {
    "collapsed": true
   },
   "outputs": [],
   "source": []
  }
 ],
 "metadata": {
  "kernelspec": {
   "display_name": "Python 3",
   "language": "python",
   "name": "python3"
  },
  "language_info": {
   "codemirror_mode": {
    "name": "ipython",
    "version": 3
   },
   "file_extension": ".py",
   "mimetype": "text/x-python",
   "name": "python",
   "nbconvert_exporter": "python",
   "pygments_lexer": "ipython3",
   "version": "3.6.3"
  }
 },
 "nbformat": 4,
 "nbformat_minor": 2
}
