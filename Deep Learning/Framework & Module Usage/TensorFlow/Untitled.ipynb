{
 "cells": [
  {
   "cell_type": "code",
   "execution_count": 7,
   "metadata": {},
   "outputs": [
    {
     "data": {
      "text/plain": [
       "1240.0"
      ]
     },
     "execution_count": 7,
     "metadata": {},
     "output_type": "execute_result"
    }
   ],
   "source": [
    "a = np.arange((2*2*2*2)).reshape((2, 2, 2, 2))\n",
    "b = np.zeros((2, 2, 2, 2))\n",
    "np.sum((a - b) ** 2)"
   ]
  },
  {
   "cell_type": "markdown",
   "metadata": {},
   "source": [
    "`tf.losses.mean_squared_error`是对所有element作平均"
   ]
  },
  {
   "cell_type": "code",
   "execution_count": 10,
   "metadata": {},
   "outputs": [
    {
     "data": {
      "text/plain": [
       "77.5"
      ]
     },
     "execution_count": 10,
     "metadata": {},
     "output_type": "execute_result"
    }
   ],
   "source": [
    "a = np.arange((2*2*2*2)).reshape((2, 2, 2, 2))\n",
    "b = np.zeros((2, 2, 2, 2))\n",
    "np.sum((a - b) ** 2 / (2*2*2*2))"
   ]
  },
  {
   "cell_type": "code",
   "execution_count": 11,
   "metadata": {},
   "outputs": [
    {
     "name": "stdout",
     "output_type": "stream",
     "text": [
      "77.5\n"
     ]
    }
   ],
   "source": [
    "import numpy as np\n",
    "import tensorflow as tf\n",
    "\n",
    "\n",
    "a = tf.placeholder(tf.float32, (2, 2, 2, 2))\n",
    "b = tf.placeholder(tf.float32, (2, 2, 2, 2))\n",
    "out = tf.losses.mean_squared_error(a, b)\n",
    "with tf.Session() as sess:\n",
    "    a_ = np.arange(2*2*2*2).reshape((2, 2, 2, 2))\n",
    "    b_ = np.zeros((2, 2, 2, 2))\n",
    "    print(sess.run(out, feed_dict = {a: a_, b: b_}))"
   ]
  },
  {
   "cell_type": "markdown",
   "metadata": {},
   "source": [
    "tf.nn.l2_loss"
   ]
  },
  {
   "cell_type": "code",
   "execution_count": 28,
   "metadata": {},
   "outputs": [
    {
     "name": "stdout",
     "output_type": "stream",
     "text": [
      "7743630.0\n",
      "7.74363e+06\n"
     ]
    }
   ],
   "source": [
    "def mul(l):\n",
    "    res = 1\n",
    "    for i in l:\n",
    "        res *= i\n",
    "    return res\n",
    "\n",
    "shape = (3, 4, 5, 6)\n",
    "\n",
    "a = np.arange(mul(shape)).reshape(shape)\n",
    "b = np.zeros(shape)\n",
    "print(np.sum((a - b) ** 2) / 2)# / (2)))\n",
    "\n",
    "import numpy as np\n",
    "import tensorflow as tf\n",
    "\n",
    "a = tf.placeholder(tf.float32, shape)\n",
    "b = tf.placeholder(tf.float32, shape)\n",
    "out = tf.nn.l2_loss(a - b)\n",
    "with tf.Session() as sess:\n",
    "    a_ = np.arange(mul(shape)).reshape(shape)\n",
    "    b_ = np.zeros(shape)\n",
    "    print(sess.run(out, feed_dict = {a: a_, b: b_}))"
   ]
  },
  {
   "cell_type": "code",
   "execution_count": 20,
   "metadata": {},
   "outputs": [
    {
     "data": {
      "text/plain": [
       "2162.0"
      ]
     },
     "execution_count": 20,
     "metadata": {},
     "output_type": "execute_result"
    }
   ],
   "source": [
    "a = np.arange((3*2*2*2)).reshape((3, 2, 2, 2))\n",
    "b = np.zeros((3, 2, 2, 2))\n",
    "np.sum((a - b) ** 2 / (2))"
   ]
  },
  {
   "cell_type": "code",
   "execution_count": 21,
   "metadata": {},
   "outputs": [
    {
     "name": "stdout",
     "output_type": "stream",
     "text": [
      "2162.0\n"
     ]
    }
   ],
   "source": [
    "import numpy as np\n",
    "import tensorflow as tf\n",
    "\n",
    "a = tf.placeholder(tf.float32, (3, 2, 2, 2))\n",
    "b = tf.placeholder(tf.float32, (3, 2, 2, 2))\n",
    "out = tf.nn.l2_loss(a - b)\n",
    "with tf.Session() as sess:\n",
    "    a_ = np.arange(3*2*2*2).reshape((3, 2, 2, 2))\n",
    "    b_ = np.zeros((3, 2, 2, 2))\n",
    "    print(sess.run(out, feed_dict = {a: a_, b: b_}))"
   ]
  },
  {
   "cell_type": "code",
   "execution_count": 23,
   "metadata": {},
   "outputs": [],
   "source": [
    "def mul(l):\n",
    "    res = 1\n",
    "    for i in l:\n",
    "        res *= i\n",
    "    return res"
   ]
  },
  {
   "cell_type": "code",
   "execution_count": null,
   "metadata": {
    "collapsed": true
   },
   "outputs": [],
   "source": []
  }
 ],
 "metadata": {
  "kernelspec": {
   "display_name": "Python 3",
   "language": "python",
   "name": "python3"
  },
  "language_info": {
   "codemirror_mode": {
    "name": "ipython",
    "version": 3
   },
   "file_extension": ".py",
   "mimetype": "text/x-python",
   "name": "python",
   "nbconvert_exporter": "python",
   "pygments_lexer": "ipython3",
   "version": "3.5.1"
  }
 },
 "nbformat": 4,
 "nbformat_minor": 2
}
