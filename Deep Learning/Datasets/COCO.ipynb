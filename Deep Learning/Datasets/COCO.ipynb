{
 "cells": [
  {
   "cell_type": "markdown",
   "metadata": {},
   "source": [
    "# COCO API"
   ]
  },
  {
   "cell_type": "markdown",
   "metadata": {},
   "source": [
    "## Python API"
   ]
  },
  {
   "cell_type": "code",
   "execution_count": null,
   "metadata": {
    "collapsed": true
   },
   "outputs": [],
   "source": [
    "coco.imgs\n",
    "\n",
    "# "
   ]
  },
  {
   "cell_type": "markdown",
   "metadata": {},
   "source": [
    "```python\n",
    "{\n",
    "    'coco_url': ,\n",
    "    'date_captured':,\n",
    "    'file_name':,\n",
    "    'flickr_url':,\n",
    "    'height':,\n",
    "    'width':,\n",
    "    'id':,\n",
    "    'license':2\n",
    "}\n",
    "```"
   ]
  },
  {
   "cell_type": "code",
   "execution_count": 1,
   "metadata": {},
   "outputs": [
    {
     "data": {
      "text/plain": [
       "'__main__'"
      ]
     },
     "execution_count": 1,
     "metadata": {},
     "output_type": "execute_result"
    }
   ],
   "source": [
    "__name__"
   ]
  },
  {
   "cell_type": "code",
   "execution_count": 4,
   "metadata": {
    "collapsed": true
   },
   "outputs": [],
   "source": [
    "def ABC():\n",
    "    pass"
   ]
  },
  {
   "cell_type": "code",
   "execution_count": 8,
   "metadata": {},
   "outputs": [],
   "source": [
    "ABC.__dict__['2'] = 3"
   ]
  },
  {
   "cell_type": "code",
   "execution_count": 10,
   "metadata": {},
   "outputs": [
    {
     "data": {
      "text/plain": [
       "3"
      ]
     },
     "execution_count": 10,
     "metadata": {},
     "output_type": "execute_result"
    }
   ],
   "source": [
    "ABC.__dict__['2']"
   ]
  },
  {
   "cell_type": "code",
   "execution_count": 11,
   "metadata": {},
   "outputs": [
    {
     "data": {
      "text/plain": [
       "{'ABC': <function __main__.ABC>,\n",
       " 'In': ['',\n",
       "  '__name__',\n",
       "  'def f():\\n    pass',\n",
       "  'f.__name__',\n",
       "  'def ABC():\\n    pass',\n",
       "  'ABC.__name__',\n",
       "  'ABC.__dict__',\n",
       "  \"ABC['2'] = 3\",\n",
       "  \"ABC.__dict__['2'] = 3\",\n",
       "  'help(ABC)',\n",
       "  \"ABC.__dict__['2']\",\n",
       "  'locals()'],\n",
       " 'Out': {1: '__main__', 3: 'f', 5: 'ABC', 6: {'2': 3}, 10: 3},\n",
       " '_': 3,\n",
       " '_1': '__main__',\n",
       " '_10': 3,\n",
       " '_3': 'f',\n",
       " '_5': 'ABC',\n",
       " '_6': {'2': 3},\n",
       " '__': {'2': 3},\n",
       " '___': 'ABC',\n",
       " '__builtin__': <module 'builtins' (built-in)>,\n",
       " '__builtins__': <module 'builtins' (built-in)>,\n",
       " '__doc__': 'Automatically created module for IPython interactive environment',\n",
       " '__loader__': None,\n",
       " '__name__': '__main__',\n",
       " '__package__': None,\n",
       " '__spec__': None,\n",
       " '_dh': ['/Users/Chiya/Workspace/Jupyter-Addict/Deep Learning/Datasets'],\n",
       " '_i': \"ABC.__dict__['2']\",\n",
       " '_i1': '__name__',\n",
       " '_i10': \"ABC.__dict__['2']\",\n",
       " '_i11': 'locals()',\n",
       " '_i2': 'def f():\\n    pass',\n",
       " '_i3': 'f.__name__',\n",
       " '_i4': 'def ABC():\\n    pass',\n",
       " '_i5': 'ABC.__name__',\n",
       " '_i6': 'ABC.__dict__',\n",
       " '_i7': \"ABC['2'] = 3\",\n",
       " '_i8': \"ABC.__dict__['2'] = 3\",\n",
       " '_i9': 'help(ABC)',\n",
       " '_ih': ['',\n",
       "  '__name__',\n",
       "  'def f():\\n    pass',\n",
       "  'f.__name__',\n",
       "  'def ABC():\\n    pass',\n",
       "  'ABC.__name__',\n",
       "  'ABC.__dict__',\n",
       "  \"ABC['2'] = 3\",\n",
       "  \"ABC.__dict__['2'] = 3\",\n",
       "  'help(ABC)',\n",
       "  \"ABC.__dict__['2']\",\n",
       "  'locals()'],\n",
       " '_ii': 'help(ABC)',\n",
       " '_iii': \"ABC.__dict__['2'] = 3\",\n",
       " '_oh': {1: '__main__', 3: 'f', 5: 'ABC', 6: {'2': 3}, 10: 3},\n",
       " 'exit': <IPython.core.autocall.ZMQExitAutocall at 0x1062bd9e8>,\n",
       " 'f': <function __main__.f>,\n",
       " 'get_ipython': <bound method InteractiveShell.get_ipython of <ipykernel.zmqshell.ZMQInteractiveShell object at 0x106276160>>,\n",
       " 'quit': <IPython.core.autocall.ZMQExitAutocall at 0x1062bd9e8>}"
      ]
     },
     "execution_count": 11,
     "metadata": {},
     "output_type": "execute_result"
    }
   ],
   "source": [
    "locals()"
   ]
  },
  {
   "cell_type": "code",
   "execution_count": null,
   "metadata": {
    "collapsed": true
   },
   "outputs": [],
   "source": []
  }
 ],
 "metadata": {
  "kernelspec": {
   "display_name": "Python 3",
   "language": "python",
   "name": "python3"
  },
  "language_info": {
   "codemirror_mode": {
    "name": "ipython",
    "version": 3
   },
   "file_extension": ".py",
   "mimetype": "text/x-python",
   "name": "python",
   "nbconvert_exporter": "python",
   "pygments_lexer": "ipython3",
   "version": "3.5.1"
  }
 },
 "nbformat": 4,
 "nbformat_minor": 2
}
