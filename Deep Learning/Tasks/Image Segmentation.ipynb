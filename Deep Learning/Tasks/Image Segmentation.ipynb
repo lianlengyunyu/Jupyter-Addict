{
 "cells": [
  {
   "cell_type": "markdown",
   "metadata": {},
   "source": [
    "# References"
   ]
  },
  {
   "cell_type": "markdown",
   "metadata": {},
   "source": [
    "## Papers\n",
    "- | Jonathan Long *et al.* **\"Fully Convolutional Networks for Semantic Segmentation\"** [arXiv](https://arxiv.org/abs/1411.4038)\n",
    "\n",
    "- ICLR 2015 | Liang-Chieh Chen *et al.* **\"Semantic Image Segmentation with Deep Convolutional Nets and Fully Connected CRFs\"** [arXiv](https://arxiv.org/abs/1412.7062)\n",
    "\n",
    "- TPAMI 2017 | Liang-Chieh Chen *et al.* **\"DeepLab: Semantic Image Segmentation with Deep Convolutional Nets, Atrous Convolution, and Fully Connected CRFs\"** [arXiv](https://arxiv.org/abs/1606.00915)\n",
    "\n",
    "- | Liang-Chieh Chen *et al.* **\"Rethinking Atrous Convolution for Semantic Image Segmentation\"** [arXiv](https://arxiv.org/abs/1706.05587)\n",
    "- | Liang-Chieh Chen *et al.* **\"Encoder-Decoder with Atrous Separable Convolution for Semantic Image Segmentation\"** [arXiv](https://arxiv.org/abs/1802.02611)"
   ]
  },
  {
   "cell_type": "code",
   "execution_count": null,
   "metadata": {
    "collapsed": true
   },
   "outputs": [],
   "source": []
  }
 ],
 "metadata": {
  "kernelspec": {
   "display_name": "Python 3",
   "language": "python",
   "name": "python3"
  },
  "language_info": {
   "codemirror_mode": {
    "name": "ipython",
    "version": 3
   },
   "file_extension": ".py",
   "mimetype": "text/x-python",
   "name": "python",
   "nbconvert_exporter": "python",
   "pygments_lexer": "ipython3",
   "version": "3.5.1"
  }
 },
 "nbformat": 4,
 "nbformat_minor": 2
}
