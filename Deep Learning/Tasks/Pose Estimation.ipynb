{
 "cells": [
  {
   "cell_type": "markdown",
   "metadata": {},
   "source": [
    "# Pose Estimation\n",
    "2D Pose Human Pose Estimation指定位解剖学中的关键点(keypoints)或部位(parts)"
   ]
  },
  {
   "cell_type": "markdown",
   "metadata": {},
   "source": [
    "- CPM(Conv Pose Machine)\n",
    "- OpenPose"
   ]
  },
  {
   "cell_type": "markdown",
   "metadata": {},
   "source": [
    "面临的挑战\n",
    "- 一张图中包含的人数是不确定的，他们的位置/大小也是不确定的\n",
    "- 人与人之间互动会使得空间关系异常复杂，比如很多连人类也会第一眼看错的图，这种看错，可以是把不同人的parts归为了同一个人\n",
    "- 计算上的复杂性，使得实时性不能保证（比如先目标检测分离出每个人，再做Pose Estimation，计算复杂度就与图像中Human的个数线性相关，肯定是做不到实时了）"
   ]
  },
  {
   "cell_type": "markdown",
   "metadata": {},
   "source": [
    "## Datasets\n",
    "- COCO\n",
    "- MPII\n",
    "- LSP"
   ]
  },
  {
   "cell_type": "markdown",
   "metadata": {},
   "source": [
    "# Metrics\n",
    "- OKS(Object Keypoints Similarity)\n",
    "$$OKS = \\frac{\\Sigma_i\\delta(v_i > 0)}{\\Sigma_i \\delta(v_i > 0)}$$"
   ]
  },
  {
   "cell_type": "markdown",
   "metadata": {},
   "source": [
    "# Methods\n",
    "## Top-down\n",
    "先分离出individuals，再对每个individual找keypoints/parts\n",
    "人形检测 + 单人pose estimation\n",
    "- early commitment: 如果人挨得很近甚至在图像里重叠，目标检测很容易把两个人划在一个bounding box里，然后就没的补救了。\n",
    "- 计算上的复杂性，人形个数直接影响到性能，处理大场景是肯定不适用的。\n",
    "\n",
    "## Bottom-Up\n",
    "先找keypoints/parts, 再把它们关联到individuals上"
   ]
  },
  {
   "cell_type": "markdown",
   "metadata": {},
   "source": [
    "# References\n",
    "- http://image-net.org/challenges/talks/2016/ECCV2016_workshop_presentation_keypoint.pdf"
   ]
  },
  {
   "cell_type": "markdown",
   "metadata": {
    "collapsed": true
   },
   "source": [
    "- AlphaPose: [code](https://github.com/MVIG-SJTU/AlphaPose)"
   ]
  },
  {
   "cell_type": "markdown",
   "metadata": {
    "collapsed": true
   },
   "source": [
    "## Papers\n",
    "- CVPR 2017 | Zhe Cao *et al.* **\"Realtime Multi-Person 2D Pose Estimation using Part Affinity Fields\"** [arXiv](https://arxiv.org/abs/1611.08050) [code](https://github.com/ZheC/Realtime_Multi-Person_Pose_Estimation)"
   ]
  },
  {
   "cell_type": "code",
   "execution_count": null,
   "metadata": {
    "collapsed": true
   },
   "outputs": [],
   "source": []
  }
 ],
 "metadata": {
  "kernelspec": {
   "display_name": "Python 3",
   "language": "python",
   "name": "python3"
  },
  "language_info": {
   "codemirror_mode": {
    "name": "ipython",
    "version": 3
   },
   "file_extension": ".py",
   "mimetype": "text/x-python",
   "name": "python",
   "nbconvert_exporter": "python",
   "pygments_lexer": "ipython3",
   "version": "3.5.1"
  }
 },
 "nbformat": 4,
 "nbformat_minor": 2
}
