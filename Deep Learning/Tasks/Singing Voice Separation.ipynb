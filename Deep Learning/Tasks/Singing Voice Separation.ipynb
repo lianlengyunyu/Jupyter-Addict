{
 "cells": [
  {
   "cell_type": "markdown",
   "metadata": {},
   "source": [
    "# References\n",
    "## Papers\n",
    "\n",
    "- 2015-04-17 | Andrew J.R. Simpson *et al.* **“Deep Karaoke: Extracting Vocals from Musical Mixtures Using a Convolutional Deep Neural Network”** [arXiv](https://arxiv.org/abs/1504.04658) [code](https://github.com/jaidevd/deep_kareoke_source_separation)\n",
    "  > 有监督NMF和CNN对比\n",
    "\n",
    "- ISMIR2014 | Po-Sen Huang *et al.* **\"Singing-Voice Separation From Monaural Recordings Using Deep Recurrent Neural Networks\"** [pdf](http://paris.cs.illinois.edu/pubs/huang-ismir2014.pdf)\n",
    "\n",
    "- 2016-11-18 | Yi Luo, Zhuo Chen *et al.* **”Deep Clustering and Conventional Networks for Music Separation: Stronger Together“** [arXiv](https://arxiv.org/abs/1611.06265) [demo](http://danetapi.com/chimera)\n",
    "  > chimera，后续论文经常拿来做baseline\n",
    "\n",
    "- 2017-10-31 | Zhe-Cheng Fan *et al.* **\"SVSGAN: Singing Voice Separation via Generative Adversarial Network\"** [arXiv](https://arxiv.org/abs/1710.11428) [demo](http://mirlab.org:8080/demo/SVSGAN/) [static](http://mirlab.org:8080/demo/SVSGAN/svsgan_paper_result.html)\n",
    "\n",
    "- 2017-11-04 | Stylianos Ioannis Mimilakis *et al.* **\"Monaural Singing Voice Separation with Skip-Filtering Connections and Recurrent Inference of Time-Frequency Mask\"** [arXiv](https://arxiv.org/abs/1711.01437) [code](https://github.com/Js-Mim/mss_pytorch)\n",
    "  > 后处理中把generalized Wiener filtering改进成可学习的filtering\n",
    "\n",
    "- ISMIR 2017 | Andreas Jansson *et al.* **\"Singing Voice Separation with Deep U-Net Convolutional Networks\"** [pdf](https://ismir2017.smcnus.org/wp-content/uploads/2017/10/171_Paper.pdf) [demo](http://mirg.city.ac.uk/codeapps/vocal-source-separation-ismir2017)\n",
    "  > vocal和non-vocal分别训练\n",
    "\n",
    "- ICASSP2018 | Hyeong-seok Choi *et al.* **\"Singing Voice Separation using Generative Adversarial Networks\"** [pdf](http://media.aau.dk/smc/wp-content/uploads/2017/12/ML4AudioNIPS17_paper_21.pdf) [demo](https://kkp15.github.io/)\n",
    "  > GAN, G用U-Net, D用全卷积"
   ]
  },
  {
   "cell_type": "markdown",
   "metadata": {},
   "source": [
    "## 其他参考\n",
    "- [Performance measurement in blind audio source separation](https://hal.inria.fr/inria-00544230/document): Evaluation Metrics部分\n",
    "- [音樂資訊檢索](http://mac.citi.sinica.edu.tw/~yang/teaching/lecture11_separation.pdf): 中央研究所的lecture slide\n",
    "- [陈德成](https://www.citi.sinica.edu.tw/pages/takshingchan/index_zh.html)博士(Tak-Shing T. Chan)"
   ]
  },
  {
   "cell_type": "code",
   "execution_count": null,
   "metadata": {
    "collapsed": true
   },
   "outputs": [],
   "source": []
  }
 ],
 "metadata": {
  "kernelspec": {
   "display_name": "Python 3",
   "language": "python",
   "name": "python3"
  },
  "language_info": {
   "codemirror_mode": {
    "name": "ipython",
    "version": 3
   },
   "file_extension": ".py",
   "mimetype": "text/x-python",
   "name": "python",
   "nbconvert_exporter": "python",
   "pygments_lexer": "ipython3",
   "version": "3.5.1"
  }
 },
 "nbformat": 4,
 "nbformat_minor": 2
}
