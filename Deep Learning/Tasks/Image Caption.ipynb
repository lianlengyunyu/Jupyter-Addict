{
 "cells": [
  {
   "cell_type": "markdown",
   "metadata": {},
   "source": [
    "# Image Caption\n",
    "Or Image Description"
   ]
  },
  {
   "cell_type": "markdown",
   "metadata": {},
   "source": [
    "## Datasets\n",
    "- [Flickr8k](http://nlp.cs.illinois.edu/HockenmaierGroup/8k-pictures.html)\n",
    "- [Flickr30k](http://shannon.cs.illinois.edu/DenotationGraph/)\n",
    "- [COCO](http://cocodataset.org/)\n",
    "COCO 2014数据集提供了100W的captions和16W以上的images"
   ]
  },
  {
   "cell_type": "markdown",
   "metadata": {},
   "source": [
    "# References\n",
    "## Papers\n",
    "### Other Ways\n",
    "[From Captions to Visual Concepts and Back](https://arxiv.org/abs/1411.4952)\n",
    "### Encoder-Decoder\n",
    "[Show and Tell: A Neural Image Caption Generator](https://arxiv.org/abs/1411.4555)\n",
    "[Show, Attend and Tell: Neural Image Caption Generation with Visual Attention](https://arxiv.org/abs/1502.03044)\n",
    "[What value do explicit high level concepts have in vision to language problems?](https://arxiv.org/abs/1506.01144)\n",
    "[Mind’s Eye: A Recurrent Visual Representation for Image Caption Generation](https://www.cs.cmu.edu/~xinleic/papers/cvpr15_rnn.pdf)\n",
    "[NeuralTalk](https://github.com/karpathy/neuraltalk)\n",
    "[NeuralTalk2](https://github.com/karpathy/neuraltalk2)\n",
    "[Deep Visual-Semantic Alignments for Generating Image Descriptions](https://arxiv.org/abs/1412.2306)\n",
    "### GAN\n",
    "[Generative Adversarial Text to Image Synthesis](https://arxiv.org/abs/1605.05396)\n",
    "100多\n",
    "[StackGAN: Text to Photo-realistic Image Synthesis with Stacked Generative Adversarial Networks](https://arxiv.org/abs/1612.03242)\n",
    "100多\n",
    "[Towards Diverse and Natural Image Descriptions via a Conditional GAN](https://arxiv.org/abs/1703.06029)\n"
   ]
  },
  {
   "cell_type": "code",
   "execution_count": null,
   "metadata": {
    "collapsed": true
   },
   "outputs": [],
   "source": []
  }
 ],
 "metadata": {
  "kernelspec": {
   "display_name": "Python 3",
   "language": "python",
   "name": "python3"
  },
  "language_info": {
   "codemirror_mode": {
    "name": "ipython",
    "version": 3
   },
   "file_extension": ".py",
   "mimetype": "text/x-python",
   "name": "python",
   "nbconvert_exporter": "python",
   "pygments_lexer": "ipython3",
   "version": "3.5.1"
  }
 },
 "nbformat": 4,
 "nbformat_minor": 2
}
