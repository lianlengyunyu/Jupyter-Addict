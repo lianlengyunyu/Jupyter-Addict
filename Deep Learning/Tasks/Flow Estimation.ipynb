{
 "cells": [
  {
   "cell_type": "markdown",
   "metadata": {},
   "source": [
    "## Datasets\n",
    "- [MPI Sintel]()"
   ]
  },
  {
   "cell_type": "markdown",
   "metadata": {},
   "source": [
    "# References"
   ]
  },
  {
   "cell_type": "markdown",
   "metadata": {},
   "source": [
    "## Papers\n",
    "- ICCV 2015 | Philipp Fischer *et al.* **\"FlowNet: Learning Optical Flow with Convolutional Networks\"** [arXiv](https://arxiv.org/abs/1504.06852)\n",
    "\n",
    "- CVPR 2016 | Nikolaus Mayer *et al.* **\"A Large Dataset to Train Convolutional Networks for Disparity, Optical Flow, and Scene Flow Estimation\"** [arXiv](https://arxiv.org/abs/1512.02134)\n",
    "\n",
    "- 2017-07-23 | Shanshan Zhao *et al.* **\"Deep Optical Flow Estimation Via Multi-Scale Correspondence Structure Learning\"** [arXiv](https://arxiv.org/abs/1707.07301)\n",
    "\n",
    "- CVPR 2017 | Eddy Ilg *et al.* **\"FlowNet 2.0: Evolution of Optical Flow Estimation with Deep Networks\"** [arXiv](https://arxiv.org/abs/1612.01925) [PyTorch](https://github.com/NVIDIA/flownet2-pytorch) [Caffe](https://github.com/lmb-freiburg/flownet2)"
   ]
  },
  {
   "cell_type": "code",
   "execution_count": null,
   "metadata": {
    "collapsed": true
   },
   "outputs": [],
   "source": []
  }
 ],
 "metadata": {
  "kernelspec": {
   "display_name": "Python 3",
   "language": "python",
   "name": "python3"
  },
  "language_info": {
   "codemirror_mode": {
    "name": "ipython",
    "version": 3
   },
   "file_extension": ".py",
   "mimetype": "text/x-python",
   "name": "python",
   "nbconvert_exporter": "python",
   "pygments_lexer": "ipython3",
   "version": "3.5.1"
  }
 },
 "nbformat": 4,
 "nbformat_minor": 2
}
