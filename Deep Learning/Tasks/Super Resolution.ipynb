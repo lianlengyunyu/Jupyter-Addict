{
 "cells": [
  {
   "cell_type": "markdown",
   "metadata": {},
   "source": [
    "# Super Resolution\n"
   ]
  },
  {
   "cell_type": "code",
   "execution_count": null,
   "metadata": {
    "collapsed": true
   },
   "outputs": [],
   "source": []
  },
  {
   "cell_type": "markdown",
   "metadata": {
    "collapsed": true
   },
   "source": [
    "## Papers\n",
    "- TPAMI 2015 | Chao Dong *et al.* **\"Image Super-Resolution Using Deep Convolutional Networks\"** [arXiv](https://arxiv.org/abs/1501.00092)\n",
    "    > 引入CNN\n",
    "\n",
    "- CVPR 2016 | Jiwon Kim *et al.* **\"Accurate Image Super-Resolution Using Very Deep Convolutional Networks\"** [arXiv](https://arxiv.org/abs/1511.04587)\n",
    "\n",
    "- CVPR 2016 | Wenzhe Shi *et al.* **\"Real-Time Single Image and Video Super-Resolution Using an Efficient Sub-Pixel Convolutional Neural Network\"** [arXiv](https://arxiv.org/abs/1609.05158)\n",
    "    > ESPCN。之前的Super Resolution都是基于经过bicubic插值得到的HR图提取feature，这篇论文认为基于HR图的计算增加了复杂度，从而提出Sub-Pixel Convolution，实现了从LR图提取feature\n",
    "\n",
    "- CVPR 2017 | Jose Caballero *et al.* **\"Real-Time Video Super-Resolution with Spatio-Temporal Networks and Motion Compensation\"** [arXiv](https://arxiv.org/abs/1611.05250) [code]()\n",
    "    > 引入STN，提出Motion Estimation，沿用了Sub-Pixel Convolution\n",
    "\n",
    "- 2016-12-23 | Mehdi S. M. Sajjadi *et al.* **\"EnhanceNet: Single Image Super-Resolution Through Automated Texture Synthesis\"** [arXiv](https://arxiv.org/abs/1612.07919)\n",
    "\n",
    "- ICCV 2017 | Xin Tao *et al.* **“Detail-revealing Deep Video Super-resolution”** [arXiv](https://arxiv.org/abs/xxxx) [code](https://github.com/jiangsutx/SPMC_VideoSR)\n",
    "    > 沿用Motion Estimation，提出了SPMC layer(没有要学习的参数)，实现了End-to-End，第三部分Deep Fusion Net用了ConvLSTM\n",
    "\n",
    "- 2017-12-16 | Bingzhe Wu *et al.* **\"SRPGAN: Perceptual Generative Adversarial Network for Single Image Super Resolution\"** [arXIv](https://arxiv.org/abs/1712.05927)\n",
    "    > 之前普遍使用的pixel wise loss function，尽管可以让PSNR更高，但会让模型倾向于生成模糊且over-smoothing的图片，这篇论文引入GAN来，从而让生成的图片拥有更清晰的边缘和更丰富的细节\n",
    "\n",
    "- 2017-12-17 | Assaf Shocher *et al.* **\"\"Zero-Shot\" Super-Resolution using Deep Internal Learning\"** [arXiv](https://arxiv.org/abs/1712.06087) [PyTorch]()"
   ]
  },
  {
   "cell_type": "code",
   "execution_count": null,
   "metadata": {
    "collapsed": true
   },
   "outputs": [],
   "source": []
  }
 ],
 "metadata": {
  "kernelspec": {
   "display_name": "Python 3",
   "language": "python",
   "name": "python3"
  },
  "language_info": {
   "codemirror_mode": {
    "name": "ipython",
    "version": 3
   },
   "file_extension": ".py",
   "mimetype": "text/x-python",
   "name": "python",
   "nbconvert_exporter": "python",
   "pygments_lexer": "ipython3",
   "version": "3.5.1"
  }
 },
 "nbformat": 4,
 "nbformat_minor": 2
}
