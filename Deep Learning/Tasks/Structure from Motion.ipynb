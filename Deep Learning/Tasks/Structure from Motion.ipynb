{
 "cells": [
  {
   "cell_type": "markdown",
   "metadata": {},
   "source": [
    "# Structure from Motion\n",
    "Structure from Motion(SfM)是3D Reconstruction的一种方法, 旨在利用连续多帧的motion信息来从二维图像中恢复三维场景"
   ]
  },
  {
   "cell_type": "markdown",
   "metadata": {},
   "source": [
    "6 DoF"
   ]
  },
  {
   "cell_type": "markdown",
   "metadata": {},
   "source": [
    "# What is 3D Scene Structure\n",
    "## Camera Pose / Ego-Motion"
   ]
  },
  {
   "cell_type": "markdown",
   "metadata": {},
   "source": [
    "## SfM Learner\n",
    "![](imgs/sfmlearner.png)"
   ]
  },
  {
   "attachments": {},
   "cell_type": "markdown",
   "metadata": {},
   "source": [
    "## GeoNet\n",
    "![](imgs/geonet.png)"
   ]
  },
  {
   "cell_type": "markdown",
   "metadata": {},
   "source": [
    "# References"
   ]
  },
  {
   "cell_type": "markdown",
   "metadata": {},
   "source": [
    "## Papers\n",
    "- **\"A Large Dataset to Train Convolutional Networks for Disparity, Optical Flow, and Scene Flow Estimation\"** [arXiv](https://arxiv.org/abs/1512.02134) [code]()\n",
    "- CVPR2017 | Tinghui Zhou *et al.* **\"Unsupervised Learning of Depth and Ego-Motion from Video\"** [arXiv]() [code](https://github.com/tinghuiz/SfMLearner)\n",
    "    > 首次提出depth的无监督学习\n",
    "- CVPR2018 | Zhichao Yin *et al.* **\"GeoNet: Unsupervised Learning of Dense Depth, Optical Flow and Camera Pose\"** [arXiv](https://arxiv.org/abs/1803.02276) [code](https://github.com/yzcjtr/GeoNet)\n"
   ]
  },
  {
   "cell_type": "code",
   "execution_count": null,
   "metadata": {
    "collapsed": true
   },
   "outputs": [],
   "source": []
  }
 ],
 "metadata": {
  "kernelspec": {
   "display_name": "Python 3",
   "language": "python",
   "name": "python3"
  },
  "language_info": {
   "codemirror_mode": {
    "name": "ipython",
    "version": 3
   },
   "file_extension": ".py",
   "mimetype": "text/x-python",
   "name": "python",
   "nbconvert_exporter": "python",
   "pygments_lexer": "ipython3",
   "version": "3.5.1"
  }
 },
 "nbformat": 4,
 "nbformat_minor": 2
}
