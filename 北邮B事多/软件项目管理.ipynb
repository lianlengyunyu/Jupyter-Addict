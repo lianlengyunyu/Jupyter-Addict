{
 "cells": [
  {
   "cell_type": "markdown",
   "metadata": {},
   "source": [
    "## PGM计算\n",
    "### Forward Pass求ES, EF\n",
    "- 第一个任务的ES = 项目开始时间, EF = ES + Duration\n",
    "- 对其他每个任务, ES = max(EF) + Lag, EF = ES + Duration\n",
    "### Backward Pass求LS, LF\n",
    "- 最后一个任务的LF = 项目结束时间, LS = LF - Duration\n",
    "- 对其他每个任务, LF = LS - Lag"
   ]
  },
  {
   "cell_type": "code",
   "execution_count": null,
   "metadata": {
    "collapsed": true
   },
   "outputs": [],
   "source": []
  }
 ],
 "metadata": {
  "kernelspec": {
   "display_name": "Python 3",
   "language": "python",
   "name": "python3"
  },
  "language_info": {
   "codemirror_mode": {
    "name": "ipython",
    "version": 3
   },
   "file_extension": ".py",
   "mimetype": "text/x-python",
   "name": "python",
   "nbconvert_exporter": "python",
   "pygments_lexer": "ipython3",
   "version": "3.6.3"
  }
 },
 "nbformat": 4,
 "nbformat_minor": 2
}
