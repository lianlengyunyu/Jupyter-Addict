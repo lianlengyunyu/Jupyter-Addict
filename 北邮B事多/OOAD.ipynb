{
 "cells": [
  {
   "cell_type": "markdown",
   "metadata": {},
   "source": [
    "# 什么是OOA/D\n",
    "OOA/D(object-oriented analysis/design)从对象的角度考虑问题领域和概念上的解决方案\n",
    "    OOA(object-oriented analysis)在面向对象分析中，强调的是在问题领域内发现和描述对象（或概念）\n",
    "    * OOA identifies\n",
    "    * Concepts in the problem domain\n",
    "    * Relationships among those concepts\n",
    "    * Attributes of those concepts\n",
    "    OOD(object-oriented design)在面向对象设计的过程中，强调的是定义软件对象以及他们如何协作以实现需求\t\n",
    "    * OOD defines a logical software solution for the problem\n",
    "    * Solution is defined based on findings of OOA phase\n",
    "    * It includes definition of class methods that represent a logical software solution\n",
    "    * New concepts, attribute or relationship among concepts are often discovered during design phase. They are iteratively reflected back into analysis phase"
   ]
  },
  {
   "cell_type": "markdown",
   "metadata": {},
   "source": [
    "# OOA&D vs structured A&D\n",
    "    1) OO A&D: Decomposed by objects and concepts\n",
    "\n",
    "(图书馆信息系统：目录、图书管理员、书、图书馆)\n",
    "\n",
    "    2) Structured A&D: Decomposed by functions and processes\n",
    "\n",
    "（图书馆信息系统：系统分为记录借阅、添加资源、报告罚单）"
   ]
  },
  {
   "cell_type": "markdown",
   "metadata": {},
   "source": [
    "# How to Create a Domain Model?\n",
    "    1) Find the conceptual classes 寻找概念类\n",
    "    2) Draw them as classes in a UML class diagram 将其绘制成UML类图中的类\n",
    "    3) Add associations and attributes 添加关联和属性"
   ]
  },
  {
   "cell_type": "markdown",
   "metadata": {},
   "source": [
    "# 什么是EBP\n",
    "EBP是Elementary Business Process的缩写, 即基本业务过程，是源于业务过程工程领域的术语.    2) When analyzing requirements for a software application, focus on use cases at the level of elementary business processes (EBPs)\n",
    "    3) A task performed by one person in one place at one time, in response to a business event, which adds measurable business value and leaves the data in a consistent state\n",
    "一个人于某时刻在一个地点所执行的任务，用以响应业务事件。该任务能够增加可量化的业务价值，并且以持久状态留下数据"
   ]
  },
  {
   "cell_type": "markdown",
   "metadata": {},
   "source": [
    "# Use Cases vs. Feature Lists\n",
    "1.Feature Lists: “the system shall…”\n",
    "    - Traditional approach\n",
    "    - Less preferable for user-oriented software\n",
    "        - Only mention function, not flow\n",
    "        - If flows are written elsewhere, then redundant and hard to maintain in parallel\n",
    "2. High-level feature lists are okay\n",
    "    - Include in Vision document\n",
    "    - “executive summary of use cases”"
   ]
  },
  {
   "cell_type": "markdown",
   "metadata": {},
   "source": [
    "# 迭代过程和敏捷模型\n",
    "    1) Iterative development lies at the heart of how OOAD is best practiced\n",
    "迭代开发是OOAD成为最佳实践的核心\n",
    "    2) Agile Modeling are key to applying the UML in an effective way\n",
    "敏捷建模是有效的应用UML的关键\n",
    "    3) Modern approach VS. traditional approach\n",
    "    a) Iterative and evolutionary development: short quick development steps, feedback, and adaptation to clarify the requirements and design\n",
    "短时快速的开发步骤、反馈和改写来不断明确需求和设计\n",
    "    b) sequential or “waterfall” lifecycle：promoted big upfront speculative requirements and design steps before programming\n",
    "试图在编程之前详细定义所有或大部分需求。而且通常于编程之前创建出完整地设计\n",
    "\n",
    "    • The Most Important UP idea: Iterative Development\n",
    "    1) 迭代开发是UP和大多数其他现代方法中的实践关键\n",
    "    2) Development is organized into a series of short, fix-length mini-projects called iterations\n",
    "开发被组织成为一系列固定的短期小项目，称为迭代\n",
    "    3) Each iteration has its own requirements analysis, design, implementation, and testing activities\n",
    "每个迭代具有各自的需求分析、设计、实现和测试活动\n",
    "\n",
    "    • What is Agile Modeling?\n",
    "    1) Adopting an agile method does not mean avoiding any modeling\n",
    "采用敏捷方法并不意味着不进行任何建模，这是错误的理解\n",
    "    2) The purpose of modeling and models id primarily to support understanding and communication, not documentation\n",
    "建模和模型的目的主要是用于理解和沟通，而不是构建文档\n",
    "    3) Don’t model or apply the UML to all or most of the software design\n",
    "不要对所有或大多数软件设计建模或者应用UML\n",
    "    4) Use the simplest tool possible\n",
    "尽可能使用最简单的工具"
   ]
  },
  {
   "cell_type": "markdown",
   "metadata": {},
   "source": [
    "# GRASP 模式\n"
   ]
  }
 ],
 "metadata": {
  "kernelspec": {
   "display_name": "Python 3",
   "language": "python",
   "name": "python3"
  },
  "language_info": {
   "codemirror_mode": {
    "name": "ipython",
    "version": 3
   },
   "file_extension": ".py",
   "mimetype": "text/x-python",
   "name": "python",
   "nbconvert_exporter": "python",
   "pygments_lexer": "ipython3",
   "version": "3.6.3"
  }
 },
 "nbformat": 4,
 "nbformat_minor": 2
}
