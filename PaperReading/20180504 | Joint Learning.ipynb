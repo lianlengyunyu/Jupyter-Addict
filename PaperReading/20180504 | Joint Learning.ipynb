{
 "cells": [
  {
   "cell_type": "markdown",
   "metadata": {},
   "source": [
    "# End-to-End Multi-Task Learning with Attention"
   ]
  },
  {
   "cell_type": "markdown",
   "metadata": {},
   "source": [
    "传统: Backbone + 不同的branch来应对不同的task\n",
    "\n",
    "## 缺点\n",
    "设计网络时, 何时分叉是一个超参数需要设置\n",
    "难以平衡复用部分对不同任务的效用, 如前端在其中一个任务上过拟合, 另一个任务会迟迟不收敛"
   ]
  },
  {
   "cell_type": "markdown",
   "metadata": {},
   "source": [
    "## Cross-Stitch Network\n",
    "并行网络, 中间不同网络的输出加权并输入到接下来的网络中, 然后看这些权重的值, 如$\\alpha$的值为0.1, 表明这一部分的feature\n",
    "\n",
    "### 缺陷\n",
    "多task, 计算量非常大, 而且权重的意义不再明显"
   ]
  },
  {
   "cell_type": "markdown",
   "metadata": {},
   "source": [
    "## Multi-Task Attention Network\n",
    "共享部分为CNNs, 不同task独立有一个Attention CNNs, 与共享部分乘完得自己的feature\n",
    "\n",
    "### Attention Block\n",
    "\n",
    "\n",
    "### Dynamic Weight Average\n",
    "通过前后t的loss来调整不同task的weight, "
   ]
  },
  {
   "cell_type": "code",
   "execution_count": null,
   "metadata": {
    "collapsed": true
   },
   "outputs": [],
   "source": []
  }
 ],
 "metadata": {
  "kernelspec": {
   "display_name": "Python 3",
   "language": "python",
   "name": "python3"
  },
  "language_info": {
   "codemirror_mode": {
    "name": "ipython",
    "version": 3
   },
   "file_extension": ".py",
   "mimetype": "text/x-python",
   "name": "python",
   "nbconvert_exporter": "python",
   "pygments_lexer": "ipython3",
   "version": "3.6.3"
  }
 },
 "nbformat": 4,
 "nbformat_minor": 2
}
