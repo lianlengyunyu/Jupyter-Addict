{
 "cells": [
  {
   "cell_type": "markdown",
   "metadata": {},
   "source": [
    "# ADAS\n",
    "* 车道线检测\n",
    "* 车辆检测 + 对齐\n",
    "* 行人检测\n",
    "* 3D-Sensing(2D图像->三维空间里的距离、速度)\n"
   ]
  },
  {
   "cell_type": "markdown",
   "metadata": {},
   "source": [
    "## 车辆检测\n",
    "Bounding Box"
   ]
  },
  {
   "cell_type": "markdown",
   "metadata": {},
   "source": [
    "## 车辆对齐\n",
    "Bounding Box + Original Image -> 放大范围, 抠patch, refine出一个bounding box\n",
    "\n",
    "detection的输入是较大的图片, 框的抖动会让对前车速度的估计不稳定"
   ]
  },
  {
   "cell_type": "markdown",
   "metadata": {},
   "source": [
    "## 车道线检测\n",
    "Image -> 图像上一堆点"
   ]
  },
  {
   "cell_type": "markdown",
   "metadata": {},
   "source": [
    "## 行人检测\n",
    "bounding box + 腰部高度"
   ]
  },
  {
   "cell_type": "markdown",
   "metadata": {},
   "source": [
    "RoI"
   ]
  },
  {
   "cell_type": "markdown",
   "metadata": {},
   "source": [
    "SDK Adas\n",
    "- worker_car_det\n",
    "- worker_car_alignment\n",
    "- worker_lane\n",
    "\n",
    "\n",
    "sdk-adas\n",
    "- Object-filter(3D Sensing作为Adas的子module)\n",
    "- sdk-perception(底层实现, header file + path)"
   ]
  },
  {
   "cell_type": "markdown",
   "metadata": {},
   "source": [
    "## 3D Sensing\n",
    "CIPV(占据路径最近的车)\n",
    "\n",
    "- HM: 相对距离 / 绝对速度, 报警以HM做阈值(HMW)\n",
    "- TTC: 相对距离 / 相对速度, FCW(前向碰撞预警)\n",
    "- 车道线检测, 可以算出车轮与车道线的距离。 LDW(车道线偏离预警)"
   ]
  },
  {
   "cell_type": "markdown",
   "metadata": {},
   "source": [
    "# DMS\n",
    "Jingwei:\n",
    "人脸检测(detection)->人脸对齐(keypoints)\n",
    "\n",
    "* ->人脸朝向(pnp算法, 可以估出旋转矩阵)\n",
    "* ->分类"
   ]
  },
  {
   "cell_type": "markdown",
   "metadata": {},
   "source": [
    "途铃 ADAS + DMS"
   ]
  },
  {
   "cell_type": "markdown",
   "metadata": {},
   "source": [
    "# 测试部分\n",
    "ADAS的警报级别\n",
    "\n",
    "- 大车: Mobileye, 途铃\n",
    "- 小车: Mobileye, 途铃, radar\n",
    "\n",
    "\n",
    "\n",
    "- Mobileye: FCW, speed\n",
    "- 途铃: 速度, 转向灯, 图像\n",
    "- radar: 与前车相对位置、速度\n",
    "- CAN的收发器记录到电脑上\n",
    "\n",
    "\n",
    "时间戳的对齐: mobileye和radar的时间戳由CAN传到PC, 时间戳相同. 途铃的不同\n",
    "\n",
    "\n",
    "\n",
    "浩平开发的pattern框架: 得到mobileye的警报和我们的警报(不同时间戳), \n",
    "\n",
    "根据`speed`算`time_shift`\n",
    "\n",
    "\n",
    "## 评测\n",
    "- LDW: 打转向灯表示有一次LDW\n",
    "- HMW: 相对位置的精度, radar数据和途铃数据的association\n",
    "- FCW: 人主动去怼……然后凭司机师傅判断……\n",
    "\n",
    "radar和途铃的association"
   ]
  },
  {
   "cell_type": "markdown",
   "metadata": {},
   "source": [
    "adas_offline_test(Python)\n",
    "- 调用object_filter\n"
   ]
  },
  {
   "cell_type": "markdown",
   "metadata": {},
   "source": [
    "CAN总线\n",
    "sensor_test"
   ]
  },
  {
   "cell_type": "markdown",
   "metadata": {},
   "source": [
    "# GitLab上重要的Repo\n",
    "- sdk_adas: 项目逻辑\n",
    "- object_filter: \n",
    "- sdk_perception: 底层几个模型\n",
    "- adas_offline_test: \n",
    "- sensor_test: "
   ]
  },
  {
   "cell_type": "code",
   "execution_count": null,
   "metadata": {
    "collapsed": true
   },
   "outputs": [],
   "source": []
  }
 ],
 "metadata": {
  "kernelspec": {
   "display_name": "Python 3",
   "language": "python",
   "name": "python3"
  },
  "language_info": {
   "codemirror_mode": {
    "name": "ipython",
    "version": 3
   },
   "file_extension": ".py",
   "mimetype": "text/x-python",
   "name": "python",
   "nbconvert_exporter": "python",
   "pygments_lexer": "ipython3",
   "version": "3.6.3"
  }
 },
 "nbformat": 4,
 "nbformat_minor": 2
}
