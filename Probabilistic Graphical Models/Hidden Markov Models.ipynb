{
 "cells": [
  {
   "cell_type": "markdown",
   "metadata": {},
   "source": [
    "# Hidden Markov Models"
   ]
  },
  {
   "cell_type": "markdown",
   "metadata": {},
   "source": [
    "理解HMM: [如何用简单易懂的例子解释隐马尔可夫模型？ - 王蒟蒻的回答 - 知乎](https://www.zhihu.com/question/20962240/answer/33614574)\n",
    "\n",
    "三大基本问题\n",
    "1. 对于一个观察序列匹配最可能的系统——评估，使用前向算法（forward algorithm）解决；\n",
    "2. 对于已生成的一个观察序列，确定最可能的隐藏状态序列——解码，使用维特比算法（Viterbi algorithm）解决；\n",
    "3. 对于已生成的观察序列，决定最可能的模型参数——学习，使用前向-后向算法（forward-backward algorithm）解决。\n",
    "\n",
    "# 应用\n",
    "\n",
    "- Evaluation\n",
    "- Decoding\n",
    "词性标注\n",
    "- Learning"
   ]
  },
  {
   "cell_type": "code",
   "execution_count": null,
   "metadata": {
    "collapsed": true
   },
   "outputs": [],
   "source": []
  }
 ],
 "metadata": {
  "kernelspec": {
   "display_name": "Python 3",
   "language": "python",
   "name": "python3"
  },
  "language_info": {
   "codemirror_mode": {
    "name": "ipython",
    "version": 3
   },
   "file_extension": ".py",
   "mimetype": "text/x-python",
   "name": "python",
   "nbconvert_exporter": "python",
   "pygments_lexer": "ipython3",
   "version": "3.5.1"
  }
 },
 "nbformat": 4,
 "nbformat_minor": 2
}
