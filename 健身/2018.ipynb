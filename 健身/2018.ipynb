{
 "cells": [
  {
   "cell_type": "markdown",
   "metadata": {},
   "source": [
    "2018.5.8\n",
    "\n",
    "早\n",
    "- 普通俯卧撑 x 12 x 3\n",
    "\n"
   ]
  },
  {
   "cell_type": "markdown",
   "metadata": {
    "collapsed": true
   },
   "source": [
    "2018.5.12\n",
    "- 坐姿器械划船 x 12 x 3\n",
    "- 坐姿pull down x 12 x3"
   ]
  },
  {
   "cell_type": "markdown",
   "metadata": {
    "collapsed": true
   },
   "source": [
    "2018.5.13\n",
    "* 普通俯卧撑 x 12 x 3\n",
    "* 坐姿飞鸟(不会弄器械 有点问题) x 12 x 3\n",
    "* 器械弯举(我竟然又胸后接肱二了, 很迷) x 8 x 2\n",
    "* 哑铃集中弯举 x 8 x 2\n"
   ]
  },
  {
   "cell_type": "markdown",
   "metadata": {},
   "source": []
  }
 ],
 "metadata": {
  "kernelspec": {
   "display_name": "Python 3",
   "language": "python",
   "name": "python3"
  },
  "language_info": {
   "codemirror_mode": {
    "name": "ipython",
    "version": 3
   },
   "file_extension": ".py",
   "mimetype": "text/x-python",
   "name": "python",
   "nbconvert_exporter": "python",
   "pygments_lexer": "ipython3",
   "version": "3.6.3"
  }
 },
 "nbformat": 4,
 "nbformat_minor": 2
}
