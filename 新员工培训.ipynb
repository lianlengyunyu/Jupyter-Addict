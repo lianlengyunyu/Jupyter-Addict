{
 "cells": [
  {
   "cell_type": "markdown",
   "metadata": {},
   "source": [
    "# 团队\n",
    "- M4U:\n",
    "- MVP: 自动停车\n",
    "- 感知:\n",
    "- 途乐: L3-的产品\n",
    "- 途铃: 后装, ADAS+DMS\n",
    "- 地图:\n",
    "- 计算平台\n",
    "- 数据平台: 出租车、货运车"
   ]
  },
  {
   "cell_type": "markdown",
   "metadata": {
    "collapsed": true
   },
   "source": [
    "- 车型识别\n",
    "- 3D外边框检测\n",
    "- 距离、相对位置估计\n",
    "- 人体骨骼点检测\n",
    "- 姿态估计和动作识别\n",
    "- 车道线、路口引导线识别\n",
    "- 交通标示牌、杆识别\n",
    "- 视觉建图(稀疏高精度地图)\n"
   ]
  },
  {
   "cell_type": "markdown",
   "metadata": {},
   "source": [
    "# 产品线\n",
    "- 途铃: 后装, L2. DMS关于人脸的一些, 还有ADAS的辅助驾驶后装方案\n",
    "- 途乐: 前装, L3-. 拥堵自动驾驶, 语义地图, 视觉+超声波自动泊车.\n",
    "- MVP: 自动泊车, L4. 从停车点找到parking, 找到停车位, 泊车.\n",
    "- M4U: 分时租赁. Momenta L4 Urban."
   ]
  },
  {
   "cell_type": "code",
   "execution_count": null,
   "metadata": {
    "collapsed": true
   },
   "outputs": [],
   "source": []
  }
 ],
 "metadata": {
  "kernelspec": {
   "display_name": "Python 3",
   "language": "python",
   "name": "python3"
  },
  "language_info": {
   "codemirror_mode": {
    "name": "ipython",
    "version": 3
   },
   "file_extension": ".py",
   "mimetype": "text/x-python",
   "name": "python",
   "nbconvert_exporter": "python",
   "pygments_lexer": "ipython3",
   "version": "3.6.3"
  }
 },
 "nbformat": 4,
 "nbformat_minor": 2
}
