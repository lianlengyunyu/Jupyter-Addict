{
 "cells": [
  {
   "cell_type": "markdown",
   "metadata": {},
   "source": [
    "# sparse-to-dense"
   ]
  },
  {
   "cell_type": "markdown",
   "metadata": {},
   "source": [
    "# coarse-to-fine架构的缺陷"
   ]
  },
  {
   "cell_type": "code",
   "execution_count": null,
   "metadata": {
    "collapsed": true
   },
   "outputs": [],
   "source": []
  },
  {
   "cell_type": "markdown",
   "metadata": {},
   "source": [
    "# dense光流\n",
    "- **\"EpicFlow: Edge-Preserving Interpolation of Correspondences for Optical Flow\"** [arXiv](https://arxiv.org/abs/1501.02565)\n",
    "    > 传统方法的SOA"
   ]
  },
  {
   "cell_type": "markdown",
   "metadata": {},
   "source": [
    "# 方法\n",
    "- 选定前端\n",
    "- 选定后端\n",
    "- Forward-Backward Consistency Loss"
   ]
  },
  {
   "cell_type": "markdown",
   "metadata": {},
   "source": [
    "# 应用意义\n",
    "通过sparse光流预测出dense光流, 来提高更高级任务的性能"
   ]
  },
  {
   "cell_type": "markdown",
   "metadata": {
    "collapsed": true
   },
   "source": [
    "# 竞争对手\n",
    "#### dense光流\n",
    "#### sparse-to-dense光流"
   ]
  },
  {
   "cell_type": "markdown",
   "metadata": {},
   "source": [
    "# References\n",
    "## Single-view Feature Detectors\n",
    "- ICCV 2013 | Piotr Dollár *et al.* **\"Structured Forests for Fast Edge Detection\"** [pdf](https://www.microsoft.com/en-us/research/wp-content/uploads/2013/12/DollarICCV13edges.pdf)\n",
    "- PAMI 2015 | Piotr Dollár *et al.* **\"Fast Edge Detection Using Structured Forests\"** [arXiv](https://arxiv.org/abs/1406.5549)\n",
    "- CVPR 2016 | Yin Li *et al.* **\"Unsupervised Learning of Edges\"** [arXiv](https://arxiv.org/abs/1511.04166) [code](https://github.com/happyharrycn/unsupervised_edges)\n",
    "\n",
    "## Multi-views Feature Detectors\n",
    "- CVPR 2016 | Yinlin Hu *et al.* **\"Efficient Coarse-to-Fine PatchMatch for Large Displacement Optical Flow\"** [pdf](https://www.cv-foundation.org/openaccess/content_cvpr_2016/papers/Hu_Efficient_Coarse-To-Fine_PatchMatch_CVPR_2016_paper.pdf) [code](https://github.com/YinlinHu/CPM)\n",
    "- T-CSVT | **\"Coarse-to-fine PatchMatch for dense correspondence\"** [pdf](http://ieeexplore.ieee.org/stamp/stamp.jsp?arnumber=7959195) [code](https://github.com/YinlinHu/CPM)\n",
    "- ICCV 2013 | Philippe Weinzaepfel *et al.* **\"DeepFlow: Large displacement optical flow with deep matching\"** [pdf](https://hal.inria.fr/hal-00873592/document)\n",
    "- IJCV 2016 | Jerome Revaud *et al.* **\"DeepMatching: Hierarchical Deformable Dense Matching\"** [arXiv](https://arxiv.org/abs/1506.07656)\n",
    "\n",
    "\n",
    "## Sparse-to-Dense\n",
    "- CVPR 2015 | Jerome Revaud *et al.* **\"EpicFlow: Edge-Preserving Interpolation of Correspondences for Optical Flow\"** [arXiv](https://arxiv.org/abs/1501.02565)"
   ]
  },
  {
   "cell_type": "code",
   "execution_count": null,
   "metadata": {
    "collapsed": true
   },
   "outputs": [],
   "source": []
  }
 ],
 "metadata": {
  "kernelspec": {
   "display_name": "Python 3",
   "language": "python",
   "name": "python3"
  },
  "language_info": {
   "codemirror_mode": {
    "name": "ipython",
    "version": 3
   },
   "file_extension": ".py",
   "mimetype": "text/x-python",
   "name": "python",
   "nbconvert_exporter": "python",
   "pygments_lexer": "ipython3",
   "version": "3.5.1"
  }
 },
 "nbformat": 4,
 "nbformat_minor": 2
}
