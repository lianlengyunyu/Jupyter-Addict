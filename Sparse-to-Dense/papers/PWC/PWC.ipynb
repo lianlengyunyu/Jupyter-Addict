{
 "cells": [
  {
   "cell_type": "markdown",
   "metadata": {
    "collapsed": true
   },
   "source": [
    " # PWC-Net: CNNs for Optical Flow Using Pyramid, Warping, and Cost Volume"
   ]
  },
  {
   "cell_type": "markdown",
   "metadata": {},
   "source": [
    "低调地引了两篇自己的paper, 分别是ECCV2008的**Learning optical flow**和IJCV2014的**A Quantitative Analysis of Current Practices in Optical Flow Estimation and the Principles Behind Them**, 从ECCV2008到CVPR2018, Deqing已经在Flow Estimation领域耕耘十年了, 而且几乎是年年有新作."
   ]
  },
  {
   "cell_type": "markdown",
   "metadata": {},
   "source": [
    "原始图像并不能为建立相关性提供很好的特征, 尤其是在阴影/光照变化的情况. 所以用Feature Pyramids替代了Image Pyramids"
   ]
  },
  {
   "cell_type": "markdown",
   "metadata": {},
   "source": [
    "# Cost Volume\n",
    "PWC-Net使用了Cost Volume替代了原始图像/feature的输入, 不仅提高了精度, 也提高了速度.\n",
    "\n",
    "## 双目视觉中的cost volume\n",
    "cost volume是双目视觉中常用的算法\n",
    "\n",
    "## DCFlow\n",
    "***DCFlow***把cost volume引入到光流预测中"
   ]
  },
  {
   "cell_type": "markdown",
   "metadata": {},
   "source": [
    "# Warping layer\n",
    "不含参数\n",
    "在Detail-revealing中有SPMC_layer"
   ]
  },
  {
   "cell_type": "markdown",
   "metadata": {},
   "source": [
    "# Cost volume layer\n",
    "不含参数"
   ]
  },
  {
   "cell_type": "markdown",
   "metadata": {},
   "source": [
    "# Optical flow estimator network"
   ]
  },
  {
   "cell_type": "markdown",
   "metadata": {},
   "source": [
    "# Context network"
   ]
  },
  {
   "cell_type": "markdown",
   "metadata": {
    "collapsed": true
   },
   "source": [
    "# "
   ]
  },
  {
   "cell_type": "code",
   "execution_count": null,
   "metadata": {
    "collapsed": true
   },
   "outputs": [],
   "source": []
  }
 ],
 "metadata": {
  "kernelspec": {
   "display_name": "Python 3",
   "language": "python",
   "name": "python3"
  },
  "language_info": {
   "codemirror_mode": {
    "name": "ipython",
    "version": 3
   },
   "file_extension": ".py",
   "mimetype": "text/x-python",
   "name": "python",
   "nbconvert_exporter": "python",
   "pygments_lexer": "ipython3",
   "version": "3.6.3"
  }
 },
 "nbformat": 4,
 "nbformat_minor": 2
}
