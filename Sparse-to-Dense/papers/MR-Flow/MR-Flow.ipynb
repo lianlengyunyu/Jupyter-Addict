{
 "cells": [
  {
   "cell_type": "markdown",
   "metadata": {},
   "source": [
    "# Pipeline\n",
    "2. Feature Matching\n",
    "3. Alignment\n",
    "4. Building Structure\n",
    "5. Optimize Structure\n",
    "6. Re-compute Flow"
   ]
  },
  {
   "cell_type": "markdown",
   "metadata": {
    "collapsed": true
   },
   "source": [
    "# 耗时统计\n",
    "```\n",
    "=============== Timing information ====================\n",
    "Feature matching: \t 0.591 seconds\n",
    "Alignment & rigidity computation: \t 44.593 seconds\n",
    "Optimization: \t 84.775 seconds\n",
    "Merging: \t 0.024 seconds\n",
    "=======================================================\n",
    "```\n",
    "\n",
    "离实时差了好远……"
   ]
  },
  {
   "cell_type": "code",
   "execution_count": null,
   "metadata": {
    "collapsed": true
   },
   "outputs": [],
   "source": []
  }
 ],
 "metadata": {
  "kernelspec": {
   "display_name": "Python 3",
   "language": "python",
   "name": "python3"
  },
  "language_info": {
   "codemirror_mode": {
    "name": "ipython",
    "version": 3
   },
   "file_extension": ".py",
   "mimetype": "text/x-python",
   "name": "python",
   "nbconvert_exporter": "python",
   "pygments_lexer": "ipython3",
   "version": "3.6.3"
  }
 },
 "nbformat": 4,
 "nbformat_minor": 2
}
