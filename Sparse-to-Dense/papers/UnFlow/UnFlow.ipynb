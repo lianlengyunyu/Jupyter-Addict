{
 "cells": [
  {
   "cell_type": "markdown",
   "metadata": {},
   "source": [
    "网络结构参考FlowNet2"
   ]
  },
  {
   "cell_type": "markdown",
   "metadata": {},
   "source": [
    "# Networks"
   ]
  },
  {
   "cell_type": "markdown",
   "metadata": {},
   "source": [
    "使用Census Transform替代了Brightness Constancy Constraint\n",
    "\n",
    "\n",
    "$$f_D(I_1(x), I_2(x')) = I_1(x) = I_2(x')$$\n",
    "\n",
    "\n",
    "| Before | After |\n",
    "|:------:|:-----:|\n",
    "|![](imgs/census_transform_before.png)|![](imgs/census_transform_after.png)|"
   ]
  },
  {
   "cell_type": "markdown",
   "metadata": {},
   "source": [
    "# Loss Function\n",
    "- `total_loss`\n",
    "$$E(w^f, w^b, o^f, o^b) = E_D(w^f, w^b, o^f, o^b) + \\lambda_SE_S(w^f, w^b) + \\lambda_CE_C(w^f, w^b, o^f, o^b)$$\n",
    "\n",
    "\n",
    "\n",
    "- `consistency_loss`\n",
    "$$E_C(w^f, w^b, o^f, o^b) = \\Sigma_{x\\in P}(1-o^f_x)\\cdot \\rho(w^f(x) + w^bx + w^f(x)) + (1-o^b_x)\\cdot \\rho(w^b(x) + w^fx + w^b(x))$$\n",
    "\n",
    "\n",
    "- `data_loss`\n",
    "$$E_D(w^f, w^b, o^f, o^b) = \\Sigma_{x\\in P}(1 - o^f_x)\\cdot \\rho(f_D(I_1(x), I_2(x+w^f(x)))) + (1 - o^b_x)\\cdot \\rho(f_D(I_2(x), I_1(x+w^b(x)))) + o^f_x\\lambda_p + o^b_x\\lambda_p$$\n",
    "\n",
    "\n",
    "- `smoothness_loss`\n",
    "$$E_S(w^f, w^b) = \\Sigma_{x\\in P} \\Sigma_{(s,r)\\in N(x)}\\rho(w^f(s) - 2w^f(x) + w^f(r)) + \\rho(w^b(s) - 2w^b(x) + w^b(r))$$"
   ]
  },
  {
   "cell_type": "markdown",
   "metadata": {},
   "source": [
    "$\\cdot$"
   ]
  },
  {
   "cell_type": "code",
   "execution_count": null,
   "metadata": {
    "collapsed": true
   },
   "outputs": [],
   "source": []
  }
 ],
 "metadata": {
  "kernelspec": {
   "display_name": "Python 3",
   "language": "python",
   "name": "python3"
  },
  "language_info": {
   "codemirror_mode": {
    "name": "ipython",
    "version": 3
   },
   "file_extension": ".py",
   "mimetype": "text/x-python",
   "name": "python",
   "nbconvert_exporter": "python",
   "pygments_lexer": "ipython3",
   "version": "3.6.3"
  }
 },
 "nbformat": 4,
 "nbformat_minor": 2
}
