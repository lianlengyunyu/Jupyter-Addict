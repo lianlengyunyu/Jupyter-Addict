{
 "cells": [
  {
   "cell_type": "markdown",
   "metadata": {
    "collapsed": true
   },
   "source": [
    "CPM优于DeepMatching的解释\n",
    "- 能预测出更多的matches\n",
    "    > The main reason why our CPM can outperform DeepMatching is that CPM can produce more matches than DeepMatching by default. Not that DeepMatching using the default parameters produces only about 5K matches for one 1024 * 436 image pair, while CPM can produce about 40K matches (grid spacing d = 3).\n",
    "    \n",
    "    显而易见, 越dense越精确的matches, 最终interpolation的结果越好. 能否做到End-to-End?(又回到了Direct-methods的路子)"
   ]
  },
  {
   "cell_type": "markdown",
   "metadata": {},
   "source": [
    "构造多层级的img_pyramid, 对其中每一层均实施以下操作:\n",
    "- w\n",
    "- Forward-Backward Consistency Check\n",
    "- Dense Interpolation"
   ]
  },
  {
   "cell_type": "markdown",
   "metadata": {},
   "source": [
    "# One Level of Matching\n",
    "找一些*seeds*"
   ]
  },
  {
   "cell_type": "markdown",
   "metadata": {},
   "source": [
    "# Coarse-to-fine Scheme\n",
    "\n",
    "如何handle较小的path? 当然是放大啦!("
   ]
  },
  {
   "cell_type": "code",
   "execution_count": null,
   "metadata": {
    "collapsed": true
   },
   "outputs": [],
   "source": []
  }
 ],
 "metadata": {
  "kernelspec": {
   "display_name": "Python 3",
   "language": "python",
   "name": "python3"
  },
  "language_info": {
   "codemirror_mode": {
    "name": "ipython",
    "version": 3
   },
   "file_extension": ".py",
   "mimetype": "text/x-python",
   "name": "python",
   "nbconvert_exporter": "python",
   "pygments_lexer": "ipython3",
   "version": "3.6.3"
  }
 },
 "nbformat": 4,
 "nbformat_minor": 2
}
