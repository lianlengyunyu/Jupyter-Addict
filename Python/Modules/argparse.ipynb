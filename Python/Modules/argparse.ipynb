{
 "cells": [
  {
   "cell_type": "code",
   "execution_count": 2,
   "metadata": {
    "collapsed": false
   },
   "outputs": [],
   "source": [
    "import argparse"
   ]
  },
  {
   "cell_type": "markdown",
   "metadata": {},
   "source": [
    "# type"
   ]
  },
  {
   "cell_type": "code",
   "execution_count": 13,
   "metadata": {
    "collapsed": false
   },
   "outputs": [
    {
     "data": {
      "text/plain": [
       "['2', '3', '3']"
      ]
     },
     "execution_count": 13,
     "metadata": {},
     "output_type": "execute_result"
    }
   ],
   "source": [
    "parser = argparse.ArgumentParser()\n",
    "parser.add_argument('--p1', type = list)\n",
    "args = parser.parse_args(['--p1', '233'])\n",
    "args.p1"
   ]
  },
  {
   "cell_type": "markdown",
   "metadata": {},
   "source": [
    "# nargs"
   ]
  },
  {
   "cell_type": "code",
   "execution_count": 9,
   "metadata": {
    "collapsed": false
   },
   "outputs": [
    {
     "data": {
      "text/plain": [
       "['233']"
      ]
     },
     "execution_count": 9,
     "metadata": {},
     "output_type": "execute_result"
    }
   ],
   "source": [
    "parser = argparse.ArgumentParser()\n",
    "parser.add_argument('--p1', nargs = '+')\n",
    "args = parser.parse_args(['--p1', '233'])\n",
    "args.p1"
   ]
  },
  {
   "cell_type": "markdown",
   "metadata": {},
   "source": [
    "nargs + type"
   ]
  },
  {
   "cell_type": "code",
   "execution_count": 12,
   "metadata": {
    "collapsed": false
   },
   "outputs": [
    {
     "data": {
      "text/plain": [
       "[233, 445]"
      ]
     },
     "execution_count": 12,
     "metadata": {},
     "output_type": "execute_result"
    }
   ],
   "source": [
    "parser = argparse.ArgumentParser()\n",
    "parser.add_argument('--p1', nargs = '+', type = int)\n",
    "args = parser.parse_args(['--p1', '233', '445'])\n",
    "args.p1"
   ]
  },
  {
   "cell_type": "markdown",
   "metadata": {},
   "source": [
    "# add_subparsers"
   ]
  },
  {
   "cell_type": "code",
   "execution_count": 38,
   "metadata": {
    "collapsed": false
   },
   "outputs": [
    {
     "data": {
      "text/plain": [
       "'arser_a'"
      ]
     },
     "execution_count": 38,
     "metadata": {},
     "output_type": "execute_result"
    }
   ],
   "source": [
    "parser = argparse.ArgumentParser()\n",
    "# help(parser.add_subparsers)\n",
    "subparsers = parser.add_subparsers(title='subcommands',  \n",
    "                                description='valid subcommands',  \n",
    "                                help='additional help',  \n",
    "                                dest='subparser_name') \n",
    "\n",
    "parser_a = subparsers.add_parser('arser_a')\n",
    "parser_b = subparsers.add_parser('parser_b')\n",
    "parser_a.add_argument('--para1')\n",
    "parser_b.add_argument('--para1')\n",
    "# args = parser.parse_args(['--p1', '233', '445'])\n",
    "# args.p1\n",
    "\n",
    "args = parser.parse_args(['arser_a', '--para1', '2'])\n",
    "args.subparser_name"
   ]
  },
  {
   "cell_type": "code",
   "execution_count": 15,
   "metadata": {
    "collapsed": false
   },
   "outputs": [
    {
     "name": "stderr",
     "output_type": "stream",
     "text": [
      "usage: ipykernel_launcher.py [-h] {A,B} ...\n",
      "ipykernel_launcher.py: error: argument subparser_name: invalid choice: '/run/user/1000/jupyter/kernel-8aeb2c1b-2fa5-4b99-b49f-3bf271157cd4.json' (choose from 'A', 'B')\n"
     ]
    },
    {
     "ename": "SystemExit",
     "evalue": "2",
     "output_type": "error",
     "traceback": [
      "An exception has occurred, use %tb to see the full traceback.\n",
      "\u001b[0;31mSystemExit\u001b[0m\u001b[0;31m:\u001b[0m 2\n"
     ]
    },
    {
     "name": "stderr",
     "output_type": "stream",
     "text": [
      "/home/krh/.local/lib/python3.6/site-packages/IPython/core/interactiveshell.py:2971: UserWarning: To exit: use 'exit', 'quit', or Ctrl-D.\n",
      "  warn(\"To exit: use 'exit', 'quit', or Ctrl-D.\", stacklevel=1)\n"
     ]
    }
   ],
   "source": [
    "def N(): print('N')\n",
    "def a(): print('A')\n",
    "def b(): print('B')\n",
    "\n",
    "parser = argparse.ArgumentParser(description='',\n",
    "                                 formatter_class=argparse.ArgumentDefaultsHelpFormatter)\n",
    "# mode selection\n",
    "# ============================================================\n",
    "modes = parser.add_subparsers(title='modes',  \n",
    "                            description='valid modes',  \n",
    "                            help='additional help',  \n",
    "                            dest='subparser_name')\n",
    "\n",
    "# parser.set_defaults(func = N)\n",
    "a_parser = modes.add_parser('A'); a_parser.set_defaults(func = a)\n",
    "b_parser = modes.add_parser('B'); b_parser.set_defaults(func = b)\n",
    "\n",
    "args = parser.parse_args()\n",
    "args.func()"
   ]
  },
  {
   "cell_type": "code",
   "execution_count": null,
   "metadata": {
    "collapsed": true
   },
   "outputs": [],
   "source": []
  }
 ],
 "metadata": {
  "kernelspec": {
   "display_name": "Python 3",
   "language": "python",
   "name": "python3"
  },
  "language_info": {
   "codemirror_mode": {
    "name": "ipython",
    "version": 3
   },
   "file_extension": ".py",
   "mimetype": "text/x-python",
   "name": "python",
   "nbconvert_exporter": "python",
   "pygments_lexer": "ipython3",
   "version": "3.6.3"
  }
 },
 "nbformat": 4,
 "nbformat_minor": 2
}
