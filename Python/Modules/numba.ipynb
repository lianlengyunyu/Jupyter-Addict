{
 "cells": [
  {
   "cell_type": "code",
   "execution_count": 5,
   "metadata": {
    "collapsed": false
   },
   "outputs": [
    {
     "name": "stdout",
     "output_type": "stream",
     "text": [
      "5135\n",
      "run time:5.401812 s\n"
     ]
    }
   ],
   "source": [
    "import time\n",
    "def isPrime(i):\n",
    "    for test in range(2,i):\n",
    "        if i % test == 0:\n",
    "            return False\n",
    "    return True\n",
    "\n",
    "if __name__ == '__main__':\n",
    "    t1 = time.clock()\n",
    "\n",
    "    n_loops = 50000\n",
    "    n_primes = 0\n",
    "\n",
    "    for i in range(0,n_loops):\n",
    "        if isPrime(i):\n",
    "            n_primes += 1\n",
    "\n",
    "    t2 = time.clock()\n",
    "    print(str(n_primes))\n",
    "    print(\"run time:%f s\" % (t2 -t1))\n"
   ]
  },
  {
   "cell_type": "code",
   "execution_count": 6,
   "metadata": {
    "collapsed": false
   },
   "outputs": [
    {
     "name": "stdout",
     "output_type": "stream",
     "text": [
      "5135\n",
      "run time:0.548406 s\n"
     ]
    }
   ],
   "source": [
    "from numba import jit\n",
    "import time\n",
    "\n",
    "@jit\n",
    "def isPrime(i):\n",
    "    for test in range(2,i):\n",
    "        if i % test == 0:\n",
    "            return False\n",
    "    return True\n",
    "@jit\n",
    "def tp():\n",
    "\n",
    "    n_loops = 50000\n",
    "    n_primes = 0\n",
    "\n",
    "    for i in range(0,n_loops):\n",
    "        if isPrime(i):\n",
    "            n_primes += 1\n",
    "    return n_primes\n",
    "\n",
    "if __name__ == '__main__':\n",
    "    t1 = time.clock()\n",
    "    n_primes = tp()\n",
    "    t2 = time.clock()\n",
    "\n",
    "    print(str(n_primes))\n",
    "\n",
    "    print(\"run time:%f s\" % (t2 -t1))"
   ]
  },
  {
   "cell_type": "code",
   "execution_count": null,
   "metadata": {
    "collapsed": true
   },
   "outputs": [],
   "source": []
  }
 ],
 "metadata": {
  "kernelspec": {
   "display_name": "Python 3",
   "language": "python",
   "name": "python3"
  },
  "language_info": {
   "codemirror_mode": {
    "name": "ipython",
    "version": 3
   },
   "file_extension": ".py",
   "mimetype": "text/x-python",
   "name": "python",
   "nbconvert_exporter": "python",
   "pygments_lexer": "ipython3",
   "version": "3.6.3"
  }
 },
 "nbformat": 4,
 "nbformat_minor": 2
}
