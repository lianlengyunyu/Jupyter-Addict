{
 "cells": [
  {
   "cell_type": "markdown",
   "metadata": {},
   "source": [
    "**解决**(涉及版本问题, 更新于2018.4.17):  \n",
    "server的gcc版本为4.8.5, 下载新版本gcc并加到PATH中即可(参考: [c++ - version `CXXABI_1.3.8&#39; not found (required by ...) - Stack Overflow](https://stackoverflow.com/questions/23494103/version-cxxabi-1-3-8-not-found-required-by))\n",
    "\n",
    "1. 下载gcc(清华源)\n",
    "```\n",
    "wget https://mirrors.tuna.tsinghua.edu.cn/gnu/gcc/gcc-7.3.0/gcc-7.3.0.tar.gz\n",
    "```\n",
    "2. 解压 && 进入项目根目录\n",
    "```\n",
    "tar -zxvf gcc-7.3.0.tar.gz && cd gcc-7.3.0\n",
    "```\n",
    "3. 下载依赖\n",
    "```\n",
    "./contrib/download_prerequisites\n",
    "```\n",
    "4. 新建build目录是好习惯!\n",
    "```\n",
    "mkdir build && cd build\n",
    "```\n",
    "5. 设置路径\n",
    "```\n",
    "../configure --prefix=/home/<user>/local\n",
    "```\n",
    "6. make\n",
    "```\n",
    "make && make install\n",
    "```\n",
    "7. 加入PATH"
   ]
  },
  {
   "cell_type": "code",
   "execution_count": null,
   "metadata": {
    "collapsed": true
   },
   "outputs": [],
   "source": []
  }
 ],
 "metadata": {
  "kernelspec": {
   "display_name": "Python 3",
   "language": "python",
   "name": "python3"
  },
  "language_info": {
   "codemirror_mode": {
    "name": "ipython",
    "version": 3
   },
   "file_extension": ".py",
   "mimetype": "text/x-python",
   "name": "python",
   "nbconvert_exporter": "python",
   "pygments_lexer": "ipython3",
   "version": "3.6.3"
  }
 },
 "nbformat": 4,
 "nbformat_minor": 2
}
