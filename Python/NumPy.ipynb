{
 "cells": [
  {
   "cell_type": "code",
   "execution_count": 7,
   "metadata": {
    "collapsed": false
   },
   "outputs": [],
   "source": [
    "import numpy as np\n",
    "a = np.arange(4*32*128*128).reshape((4, 32, 128, 128))\n",
    "b = np.ones((4, 32, 128, 128))"
   ]
  },
  {
   "cell_type": "code",
   "execution_count": 9,
   "metadata": {
    "collapsed": false
   },
   "outputs": [
    {
     "data": {
      "text/plain": [
       "(4, 32, 3)"
      ]
     },
     "execution_count": 9,
     "metadata": {},
     "output_type": "execute_result"
    }
   ],
   "source": [
    "a[:,:,[0,1,2],[0,1,2]].shape"
   ]
  },
  {
   "cell_type": "code",
   "execution_count": 13,
   "metadata": {
    "collapsed": false
   },
   "outputs": [
    {
     "data": {
      "text/plain": [
       "array([[[[      0,       1,       2],\n",
       "         [    128,     129,     130],\n",
       "         [    256,     257,     258]],\n",
       "\n",
       "        [[  16384,   16385,   16386],\n",
       "         [  16512,   16513,   16514],\n",
       "         [  16640,   16641,   16642]],\n",
       "\n",
       "        [[  32768,   32769,   32770],\n",
       "         [  32896,   32897,   32898],\n",
       "         [  33024,   33025,   33026]],\n",
       "\n",
       "        ...,\n",
       "\n",
       "        [[ 475136,  475137,  475138],\n",
       "         [ 475264,  475265,  475266],\n",
       "         [ 475392,  475393,  475394]],\n",
       "\n",
       "        [[ 491520,  491521,  491522],\n",
       "         [ 491648,  491649,  491650],\n",
       "         [ 491776,  491777,  491778]],\n",
       "\n",
       "        [[ 507904,  507905,  507906],\n",
       "         [ 508032,  508033,  508034],\n",
       "         [ 508160,  508161,  508162]]],\n",
       "\n",
       "\n",
       "       [[[ 524288,  524289,  524290],\n",
       "         [ 524416,  524417,  524418],\n",
       "         [ 524544,  524545,  524546]],\n",
       "\n",
       "        [[ 540672,  540673,  540674],\n",
       "         [ 540800,  540801,  540802],\n",
       "         [ 540928,  540929,  540930]],\n",
       "\n",
       "        [[ 557056,  557057,  557058],\n",
       "         [ 557184,  557185,  557186],\n",
       "         [ 557312,  557313,  557314]],\n",
       "\n",
       "        ...,\n",
       "\n",
       "        [[ 999424,  999425,  999426],\n",
       "         [ 999552,  999553,  999554],\n",
       "         [ 999680,  999681,  999682]],\n",
       "\n",
       "        [[1015808, 1015809, 1015810],\n",
       "         [1015936, 1015937, 1015938],\n",
       "         [1016064, 1016065, 1016066]],\n",
       "\n",
       "        [[1032192, 1032193, 1032194],\n",
       "         [1032320, 1032321, 1032322],\n",
       "         [1032448, 1032449, 1032450]]],\n",
       "\n",
       "\n",
       "       [[[1048576, 1048577, 1048578],\n",
       "         [1048704, 1048705, 1048706],\n",
       "         [1048832, 1048833, 1048834]],\n",
       "\n",
       "        [[1064960, 1064961, 1064962],\n",
       "         [1065088, 1065089, 1065090],\n",
       "         [1065216, 1065217, 1065218]],\n",
       "\n",
       "        [[1081344, 1081345, 1081346],\n",
       "         [1081472, 1081473, 1081474],\n",
       "         [1081600, 1081601, 1081602]],\n",
       "\n",
       "        ...,\n",
       "\n",
       "        [[1523712, 1523713, 1523714],\n",
       "         [1523840, 1523841, 1523842],\n",
       "         [1523968, 1523969, 1523970]],\n",
       "\n",
       "        [[1540096, 1540097, 1540098],\n",
       "         [1540224, 1540225, 1540226],\n",
       "         [1540352, 1540353, 1540354]],\n",
       "\n",
       "        [[1556480, 1556481, 1556482],\n",
       "         [1556608, 1556609, 1556610],\n",
       "         [1556736, 1556737, 1556738]]],\n",
       "\n",
       "\n",
       "       [[[1572864, 1572865, 1572866],\n",
       "         [1572992, 1572993, 1572994],\n",
       "         [1573120, 1573121, 1573122]],\n",
       "\n",
       "        [[1589248, 1589249, 1589250],\n",
       "         [1589376, 1589377, 1589378],\n",
       "         [1589504, 1589505, 1589506]],\n",
       "\n",
       "        [[1605632, 1605633, 1605634],\n",
       "         [1605760, 1605761, 1605762],\n",
       "         [1605888, 1605889, 1605890]],\n",
       "\n",
       "        ...,\n",
       "\n",
       "        [[2048000, 2048001, 2048002],\n",
       "         [2048128, 2048129, 2048130],\n",
       "         [2048256, 2048257, 2048258]],\n",
       "\n",
       "        [[2064384, 2064385, 2064386],\n",
       "         [2064512, 2064513, 2064514],\n",
       "         [2064640, 2064641, 2064642]],\n",
       "\n",
       "        [[2080768, 2080769, 2080770],\n",
       "         [2080896, 2080897, 2080898],\n",
       "         [2081024, 2081025, 2081026]]]])"
      ]
     },
     "execution_count": 13,
     "metadata": {},
     "output_type": "execute_result"
    }
   ],
   "source": [
    "a[:,:,[0,1,2],:][:,:,:,[0,1,2]]#.shape"
   ]
  },
  {
   "cell_type": "code",
   "execution_count": 16,
   "metadata": {
    "collapsed": true
   },
   "outputs": [],
   "source": [
    "A = np.arange(8).reshape((2,2,2))"
   ]
  },
  {
   "cell_type": "code",
   "execution_count": 17,
   "metadata": {
    "collapsed": false
   },
   "outputs": [
    {
     "data": {
      "text/plain": [
       "array([[[0, 1],\n",
       "        [2, 3]],\n",
       "\n",
       "       [[4, 5],\n",
       "        [6, 7]]])"
      ]
     },
     "execution_count": 17,
     "metadata": {},
     "output_type": "execute_result"
    }
   ],
   "source": [
    "A"
   ]
  },
  {
   "cell_type": "code",
   "execution_count": 29,
   "metadata": {
    "collapsed": true
   },
   "outputs": [],
   "source": [
    "B = np.ones((2,1))"
   ]
  },
  {
   "cell_type": "code",
   "execution_count": 30,
   "metadata": {
    "collapsed": false
   },
   "outputs": [
    {
     "data": {
      "text/plain": [
       "array([[1.],\n",
       "       [1.]])"
      ]
     },
     "execution_count": 30,
     "metadata": {},
     "output_type": "execute_result"
    }
   ],
   "source": [
    "B"
   ]
  },
  {
   "cell_type": "code",
   "execution_count": 32,
   "metadata": {
    "collapsed": false
   },
   "outputs": [
    {
     "data": {
      "text/plain": [
       "(2, 2, 1)"
      ]
     },
     "execution_count": 32,
     "metadata": {},
     "output_type": "execute_result"
    }
   ],
   "source": [
    "np.einsum('abc,cd->abd', A, B).shape"
   ]
  },
  {
   "cell_type": "code",
   "execution_count": 35,
   "metadata": {
    "collapsed": false
   },
   "outputs": [
    {
     "data": {
      "text/plain": [
       "((4, 32, 128, 128), (4, 32, 128, 128))"
      ]
     },
     "execution_count": 35,
     "metadata": {},
     "output_type": "execute_result"
    }
   ],
   "source": [
    "a.shape, b.shape"
   ]
  },
  {
   "cell_type": "code",
   "execution_count": 37,
   "metadata": {
    "collapsed": true
   },
   "outputs": [],
   "source": [
    "b = np.ones((4, 32, 9, 9, 128, 128))"
   ]
  },
  {
   "cell_type": "code",
   "execution_count": 38,
   "metadata": {
    "collapsed": false
   },
   "outputs": [
    {
     "ename": "MemoryError",
     "evalue": "",
     "output_type": "error",
     "traceback": [
      "\u001b[0;31m---------------------------------------------------------------------------\u001b[0m",
      "\u001b[0;31mMemoryError\u001b[0m                               Traceback (most recent call last)",
      "\u001b[0;32m<ipython-input-38-8dd9d228cf0b>\u001b[0m in \u001b[0;36m<module>\u001b[0;34m()\u001b[0m\n\u001b[0;32m----> 1\u001b[0;31m \u001b[0mnp\u001b[0m\u001b[0;34m.\u001b[0m\u001b[0mtensordot\u001b[0m\u001b[0;34m(\u001b[0m\u001b[0ma\u001b[0m\u001b[0;34m,\u001b[0m\u001b[0mb\u001b[0m\u001b[0;34m,\u001b[0m \u001b[0maxes\u001b[0m\u001b[0;34m=\u001b[0m\u001b[0;34m[\u001b[0m\u001b[0;34m[\u001b[0m\u001b[0;36m1\u001b[0m\u001b[0;34m]\u001b[0m\u001b[0;34m,\u001b[0m \u001b[0;34m[\u001b[0m\u001b[0;36m1\u001b[0m\u001b[0;34m]\u001b[0m\u001b[0;34m]\u001b[0m\u001b[0;34m)\u001b[0m\u001b[0;34m\u001b[0m\u001b[0m\n\u001b[0m",
      "\u001b[0;32m~/.local/lib/python3.6/site-packages/numpy/core/numeric.py\u001b[0m in \u001b[0;36mtensordot\u001b[0;34m(a, b, axes)\u001b[0m\n\u001b[1;32m   1302\u001b[0m \u001b[0;34m\u001b[0m\u001b[0m\n\u001b[1;32m   1303\u001b[0m     \u001b[0mat\u001b[0m \u001b[0;34m=\u001b[0m \u001b[0ma\u001b[0m\u001b[0;34m.\u001b[0m\u001b[0mtranspose\u001b[0m\u001b[0;34m(\u001b[0m\u001b[0mnewaxes_a\u001b[0m\u001b[0;34m)\u001b[0m\u001b[0;34m.\u001b[0m\u001b[0mreshape\u001b[0m\u001b[0;34m(\u001b[0m\u001b[0mnewshape_a\u001b[0m\u001b[0;34m)\u001b[0m\u001b[0;34m\u001b[0m\u001b[0m\n\u001b[0;32m-> 1304\u001b[0;31m     \u001b[0mbt\u001b[0m \u001b[0;34m=\u001b[0m \u001b[0mb\u001b[0m\u001b[0;34m.\u001b[0m\u001b[0mtranspose\u001b[0m\u001b[0;34m(\u001b[0m\u001b[0mnewaxes_b\u001b[0m\u001b[0;34m)\u001b[0m\u001b[0;34m.\u001b[0m\u001b[0mreshape\u001b[0m\u001b[0;34m(\u001b[0m\u001b[0mnewshape_b\u001b[0m\u001b[0;34m)\u001b[0m\u001b[0;34m\u001b[0m\u001b[0m\n\u001b[0m\u001b[1;32m   1305\u001b[0m     \u001b[0mres\u001b[0m \u001b[0;34m=\u001b[0m \u001b[0mdot\u001b[0m\u001b[0;34m(\u001b[0m\u001b[0mat\u001b[0m\u001b[0;34m,\u001b[0m \u001b[0mbt\u001b[0m\u001b[0;34m)\u001b[0m\u001b[0;34m\u001b[0m\u001b[0m\n\u001b[1;32m   1306\u001b[0m     \u001b[0;32mreturn\u001b[0m \u001b[0mres\u001b[0m\u001b[0;34m.\u001b[0m\u001b[0mreshape\u001b[0m\u001b[0;34m(\u001b[0m\u001b[0molda\u001b[0m \u001b[0;34m+\u001b[0m \u001b[0moldb\u001b[0m\u001b[0;34m)\u001b[0m\u001b[0;34m\u001b[0m\u001b[0m\n",
      "\u001b[0;31mMemoryError\u001b[0m: "
     ]
    }
   ],
   "source": [
    "np.tensordot(a,b, axes=[[1], [1]])"
   ]
  },
  {
   "cell_type": "code",
   "execution_count": null,
   "metadata": {
    "collapsed": true
   },
   "outputs": [],
   "source": []
  }
 ],
 "metadata": {
  "kernelspec": {
   "display_name": "Python 3",
   "language": "python",
   "name": "python3"
  },
  "language_info": {
   "codemirror_mode": {
    "name": "ipython",
    "version": 3
   },
   "file_extension": ".py",
   "mimetype": "text/x-python",
   "name": "python",
   "nbconvert_exporter": "python",
   "pygments_lexer": "ipython3",
   "version": "3.6.3"
  }
 },
 "nbformat": 4,
 "nbformat_minor": 2
}
