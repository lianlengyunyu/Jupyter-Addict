{
 "cells": [
  {
   "cell_type": "markdown",
   "metadata": {},
   "source": [
    "# 函数装饰器"
   ]
  },
  {
   "cell_type": "markdown",
   "metadata": {},
   "source": [
    "# 类装饰器"
   ]
  },
  {
   "cell_type": "markdown",
   "metadata": {},
   "source": [
    "# 应用"
   ]
  },
  {
   "cell_type": "markdown",
   "metadata": {},
   "source": [
    "## 注册"
   ]
  },
  {
   "cell_type": "markdown",
   "metadata": {},
   "source": [
    "```python\n",
    "def route(self, rule, **options):\n",
    "    \"\"\"A decorator that is used to register a view function for a\n",
    "    given URL rule.  This does the same thing as :meth:`add_url_rule`\n",
    "    but is intended for decorator usage::\n",
    "        @app.route('/')\n",
    "        def index():\n",
    "            return 'Hello World'\n",
    "    For more information refer to :ref:`url-route-registrations`.\n",
    "    :param rule: the URL rule as string\n",
    "    :param endpoint: the endpoint for the registered URL rule.  Flask\n",
    "                     itself assumes the name of the view function as\n",
    "                     endpoint\n",
    "    :param options: the options to be forwarded to the underlying\n",
    "                    :class:`~werkzeug.routing.Rule` object.  A change\n",
    "                    to Werkzeug is handling of method options.  methods\n",
    "                    is a list of methods this rule should be limited\n",
    "                    to (``GET``, ``POST`` etc.).  By default a rule\n",
    "                    just listens for ``GET`` (and implicitly ``HEAD``).\n",
    "                    Starting with Flask 0.6, ``OPTIONS`` is implicitly\n",
    "                    added and handled by the standard request handling.\n",
    "    \"\"\"\n",
    "    def decorator(f):\n",
    "        endpoint = options.pop('endpoint', None)\n",
    "        self.add_url_rule(rule, endpoint, f, **options)\n",
    "        return f\n",
    "    return decorator\n",
    "```"
   ]
  },
  {
   "cell_type": "code",
   "execution_count": 2,
   "metadata": {
    "collapsed": true
   },
   "outputs": [],
   "source": [
    "from flask import Flask\n",
    "\n",
    "app = Flask(__name__)\n",
    "\n",
    "@app.route('/')\n",
    "def index():\n",
    "    return 'Hello World'"
   ]
  },
  {
   "cell_type": "code",
   "execution_count": 3,
   "metadata": {
    "collapsed": true
   },
   "outputs": [],
   "source": [
    "def layer_register(\n",
    "        log_shape=False,\n",
    "        use_scope=True):\n",
    "    def wrapper(func):\n",
    "        @wraps(func)\n",
    "        def wrapped_func(*args, **kwargs):\n",
    "            assert args[0] is not None, args\n",
    "            if use_scope:\n",
    "                name, inputs = args[0], args[1]\n",
    "                args = args[1:]  # actual positional args used to call func\n",
    "                assert isinstance(name, six.string_types), \"First argument for \\\"{}\\\" should be a string. \".format(\n",
    "                    func.__name__) + \"Did you forget to specify the name of the layer?\"\n",
    "            else:\n",
    "                assert not log_shape\n",
    "                if isinstance(args[0], six.string_types):\n",
    "                    if use_scope is False:\n",
    "                        logger.warn(\n",
    "                            \"Please call layer {} without the first scope name argument, \"\n",
    "                            \"or register the layer with use_scope=None to allow \"\n",
    "                            \"two calling methods.\".format(func.__name__))\n",
    "                    name, inputs = args[0], args[1]\n",
    "                    args = args[1:]  # actual positional args used to call func\n",
    "                else:\n",
    "                    inputs = args[0]\n",
    "                    name = None\n",
    "            if not (isinstance(inputs, (tf.Tensor, tf.Variable)) or\n",
    "                    (isinstance(inputs, (list, tuple)) and\n",
    "                        isinstance(inputs[0], (tf.Tensor, tf.Variable)))):\n",
    "                raise ValueError(\"Invalid inputs to layer: \" + str(inputs))\n",
    "\n",
    "            # use kwargs from current argument scope\n",
    "            actual_args = copy.copy(get_arg_scope()[func.__name__])\n",
    "            # explicit kwargs overwrite argscope\n",
    "            actual_args.update(kwargs)\n",
    "            # if six.PY3:\n",
    "            #     # explicit positional args also override argscope. only work in PY3\n",
    "            #     posargmap = inspect.signature(func).bind_partial(*args).arguments\n",
    "            #     for k in six.iterkeys(posargmap):\n",
    "            #         if k in actual_args:\n",
    "            #             del actual_args[k]\n",
    "\n",
    "            if name is not None:        # use scope\n",
    "                with tf.variable_scope(name) as scope:\n",
    "                    # this name is only used to surpress logging, doesn't hurt to do some heuristics\n",
    "                    scope_name = re.sub('tower[0-9]+/', '', scope.name)\n",
    "                    do_log_shape = log_shape and scope_name not in _LAYER_LOGGED\n",
    "                    if do_log_shape:\n",
    "                        logger.info(\"{} input: {}\".format(scope.name, get_shape_str(inputs)))\n",
    "\n",
    "                    # run the actual function\n",
    "                    outputs = func(*args, **actual_args)\n",
    "\n",
    "                    if do_log_shape:\n",
    "                        # log shape info and add activation\n",
    "                        logger.info(\"{} output: {}\".format(\n",
    "                            scope.name, get_shape_str(outputs)))\n",
    "                        _LAYER_LOGGED.add(scope_name)\n",
    "            else:\n",
    "                # run the actual function\n",
    "                outputs = func(*args, **actual_args)\n",
    "            return outputs\n",
    "\n",
    "        wrapped_func.symbolic_function = func   # attribute to access the underlying function object\n",
    "        wrapped_func.use_scope = use_scope\n",
    "        _register(func.__name__, wrapped_func)\n",
    "        return wrapped_func\n",
    "\n",
    "    return wrapper"
   ]
  },
  {
   "cell_type": "code",
   "execution_count": 8,
   "metadata": {},
   "outputs": [],
   "source": [
    "def f():\n",
    "    return WTF.wtf()"
   ]
  },
  {
   "cell_type": "code",
   "execution_count": null,
   "metadata": {
    "collapsed": true
   },
   "outputs": [],
   "source": []
  }
 ],
 "metadata": {
  "kernelspec": {
   "display_name": "Python 3",
   "language": "python",
   "name": "python3"
  },
  "language_info": {
   "codemirror_mode": {
    "name": "ipython",
    "version": 3
   },
   "file_extension": ".py",
   "mimetype": "text/x-python",
   "name": "python",
   "nbconvert_exporter": "python",
   "pygments_lexer": "ipython3",
   "version": "3.5.1"
  }
 },
 "nbformat": 4,
 "nbformat_minor": 2
}
