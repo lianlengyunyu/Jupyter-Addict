{
 "cells": [
  {
   "cell_type": "markdown",
   "metadata": {},
   "source": [
    "5.24()\n",
    "* 7:30 ~ 8:00\n",
    "* 8:30 ~\n",
    "***\n",
    "*"
   ]
  },
  {
   "cell_type": "markdown",
   "metadata": {},
   "source": [
    "5.23\n",
    "\n",
    "* 10:30 ~ 23:00\n",
    "***\n",
    "*"
   ]
  },
  {
   "cell_type": "markdown",
   "metadata": {},
   "source": [
    "5.21\n",
    "* 10:00\n",
    "***\n",
    "* Cost Volume实验\n",
    "* Sparse-to-Dense实验"
   ]
  },
  {
   "cell_type": "markdown",
   "metadata": {},
   "source": [
    "5.19()\n",
    "* 9:00 ~ 22:30 13.5 - 1吃饭 - 0.5聊天 = 12\n",
    "***\n",
    "*"
   ]
  },
  {
   "cell_type": "markdown",
   "metadata": {},
   "source": [
    "5.18()\n",
    "* 15:00 ~ 23:00\n",
    "***\n",
    "* "
   ]
  },
  {
   "cell_type": "markdown",
   "metadata": {},
   "source": [
    "5.17()\n",
    "* 10:40 ~ 19:10\n"
   ]
  },
  {
   "cell_type": "markdown",
   "metadata": {},
   "source": [
    "5.16()\n",
    "* 7:30 ~ 8:00\n",
    "* 9:30 ~ 22:30\n",
    "***\n",
    "*\n"
   ]
  },
  {
   "cell_type": "markdown",
   "metadata": {},
   "source": [
    "5.15()\n",
    "* 7:00 ~ 8:00\n",
    "* 9:10 ~ 22:10\n",
    "***\n",
    "* 重新过了一遍基于CNN的Flow Estimation方法, 较上次整理更有思路和脉络\n",
    "* 整理了其他paper分别解决了什么问题, 没有细看过, 需要补课变分法\n",
    "* 脑洞小实验"
   ]
  },
  {
   "cell_type": "markdown",
   "metadata": {},
   "source": [
    "5.14()\n",
    "* 8:00\n",
    "***\n",
    "* 略读检测, 分割, 视频相关的进展\n",
    "* focus on non-local"
   ]
  },
  {
   "cell_type": "markdown",
   "metadata": {},
   "source": [
    "5.13\n",
    "* 11:00 ~\n",
    "* \n",
    "***"
   ]
  },
  {
   "cell_type": "markdown",
   "metadata": {
    "collapsed": true
   },
   "source": [
    "5.12\n",
    "* 6:50 ~ 8:00(1)\n",
    "* 9:00 ~ 20:00(11)\n",
    "***\n",
    "* 单层上检查数值\n",
    "* Correlation替换CostVolume\n",
    "* "
   ]
  },
  {
   "cell_type": "markdown",
   "metadata": {},
   "source": [
    "# TODOs\n",
    "\n",
    "* 跑UnFlow\n",
    "* 解决PWC-Net在CPU上报错的问题\n",
    "* PWC-Net跑实验, 得能和原作比较的结果\n",
    "* 测试cost volume\n"
   ]
  },
  {
   "cell_type": "markdown",
   "metadata": {},
   "source": [
    "5.11(5 + 6 = 11)\n",
    "* 10:30 ~ 15:30\n",
    "* 16:20 ~ 22:20\n",
    "***\n",
    "*"
   ]
  },
  {
   "cell_type": "markdown",
   "metadata": {},
   "source": [
    "5.10()\n",
    "* 10:40 ~ 22:10\n",
    "***\n"
   ]
  },
  {
   "cell_type": "markdown",
   "metadata": {},
   "source": [
    "5.9()\n",
    "* 7:10 ~ 1.5个\n",
    "* 10:10 ~ 17.10 7个\n",
    "* 20:33 ~ 23:00 2.5个\n",
    "***\n",
    "* \n"
   ]
  },
  {
   "cell_type": "markdown",
   "metadata": {},
   "source": [
    "5.8()\n",
    "* 7:00 ~ \n",
    "***\n",
    "* 泛读找灵感\n",
    "* PWC 耗时实验\n",
    "* sparse方案做了些研究, 卡顿了"
   ]
  },
  {
   "cell_type": "markdown",
   "metadata": {},
   "source": [
    "5.7()\n",
    "* 15:30 ~\n",
    "***\n",
    "* PWC收尾\n",
    "***\n",
    "* m19配置环境\n"
   ]
  },
  {
   "cell_type": "markdown",
   "metadata": {},
   "source": [
    "5.5()\n",
    "* 10:20 ~\n",
    "***\n",
    "* "
   ]
  },
  {
   "cell_type": "markdown",
   "metadata": {},
   "source": [
    "5.4()\n",
    "* 14:00 ~ 23:00\n",
    "***\n",
    "*"
   ]
  },
  {
   "cell_type": "markdown",
   "metadata": {},
   "source": [
    "5.3()\n",
    "* 10:13 -\n",
    "***\n",
    "*"
   ]
  },
  {
   "cell_type": "markdown",
   "metadata": {},
   "source": [
    "5.2()\n",
    "* 10:00 - 22:00\n",
    "***\n",
    "\n",
    "   \n",
    "\n",
    "* 生成GIF\n",
    "* 腾出硬盘空间\n",
    "* 重跑PWC corr训练\n",
    "* FlowNet跑测试\n",
    "* 在FlowNet2框架上进行PWC的增量开发, 训练\n",
    "***\n",
    "* , 验证性能\n",
    "* 排查PWC-Net的错误\n",
    "* 重构PWC-Net, 关于金字塔的部分写的很蠢"
   ]
  },
  {
   "cell_type": "code",
   "execution_count": null,
   "metadata": {
    "collapsed": true
   },
   "outputs": [],
   "source": []
  }
 ],
 "metadata": {
  "kernelspec": {
   "display_name": "Python 3",
   "language": "python",
   "name": "python3"
  },
  "language_info": {
   "codemirror_mode": {
    "name": "ipython",
    "version": 3
   },
   "file_extension": ".py",
   "mimetype": "text/x-python",
   "name": "python",
   "nbconvert_exporter": "python",
   "pygments_lexer": "ipython3",
   "version": "3.6.3"
  }
 },
 "nbformat": 4,
 "nbformat_minor": 2
}
