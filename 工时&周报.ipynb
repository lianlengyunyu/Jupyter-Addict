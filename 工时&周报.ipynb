{
 "cells": [
  {
   "cell_type": "code",
   "execution_count": 1,
   "metadata": {
    "collapsed": false
   },
   "outputs": [
    {
     "name": "stdout",
     "output_type": "stream",
     "text": [
      "总工时: 88.0\n",
      "总money: 2640.0\n"
     ]
    }
   ],
   "source": [
    "total_time = sum([1, 7.5, 12, 7, 7, 2, 1.5, 12.5, 8.5, 9.5, 10, 9.5])\n",
    "total_money = total_time * 30 * 1\n",
    "print('总工时:', total_time)\n",
    "print('总money:', total_money)"
   ]
  },
  {
   "cell_type": "markdown",
   "metadata": {},
   "source": [
    "4.1 (1)\n",
    "\n",
    "* 研读***DeMoN***\n",
    "* 调研Depth from single image的模型"
   ]
  },
  {
   "cell_type": "markdown",
   "metadata": {},
   "source": [
    "4.2 (7.5)\n",
    "\n",
    "* mentor给了新的proposal, focus到光流上\n",
    "* 阅读***EpicFlow***, 做复现尝试(未遂)\n",
    "* 阅读文献, 整理sparse-to-dense的方案"
   ]
  },
  {
   "cell_type": "markdown",
   "metadata": {},
   "source": [
    "4.3 (12)\n",
    "\n",
    "* 阅读并整理光流相关文献(以整理体系为主)\n",
    "* 研读***PWC-Net***"
   ]
  },
  {
   "cell_type": "markdown",
   "metadata": {},
   "source": [
    "4.4 (7)\n",
    "\n",
    "* 阅读并整理光流相关文献(以整理体系为主)\n",
    "* 测试***SPyNet***"
   ]
  },
  {
   "cell_type": "markdown",
   "metadata": {},
   "source": [
    "4.5 (7)\n",
    "\n",
    "* (预定)精读Dense Interpolation部分: ***InterpoNet***\n",
    "\n",
    "* 为途铃的数据分析脚本增加feature\n",
    "* 结束了泛读与整理阶段. 为保证效率和短期可见成果. 切分成多个课题: 无监督方法、dense的网络结构、sparse的网络结构(sparse feature detection + matching + dense interpolation)、引入scene flow/depth.\n",
    "\n",
    "* 研读应用了PatchMatch scheme的论文(***PatchMatch***, ***Generalized PatchMatch***, ***PatchBatch***, ***PatchBatchv2***, ***CPM-Net***, ***BriefMatch***等)"
   ]
  },
  {
   "cell_type": "markdown",
   "metadata": {},
   "source": [
    "4.6 (2)\n",
    "\n",
    "* 研读***DCFlow***"
   ]
  },
  {
   "cell_type": "markdown",
   "metadata": {},
   "source": [
    "4.7 (1.5)\n",
    "\n",
    "15:30 ~ 17:00\n",
    "\n",
    "* 【目标】跑起PWC的训练过程"
   ]
  },
  {
   "cell_type": "markdown",
   "metadata": {},
   "source": [
    "4.8 (12.5)\n",
    "\n",
    "10:00 ~ 22:30\n",
    "* 调研Plane + Parallax\n",
    "* 跑通MR-Flow(能够预测出flow, 在计算error部分会出错)\n",
    "* 跑通SED\n",
    "* 组内会议"
   ]
  },
  {
   "cell_type": "markdown",
   "metadata": {
    "collapsed": true
   },
   "source": [
    "周报 4.2 ~ 4.8\n",
    "* 阅读并整理文献: 本周的前几天一直在做泛读与整理工作, 将文献按预设的分类切分成了小课题(3步pipeline: feature detector, matching, sparse-to-dense interpolator; End-to-End方法; 无监督学习; 引入立体视觉信息).\n",
    "* 接着我选取了其中有复现价值的几篇尝试做了精读/复现(判断标准: SOA/某一种scheme的开创/改进):\n",
    "    - 复现***InterpoNet***: 用简单易懂的CNN做Sparse-to-Dense Interpolator, 性能和速度均超过***EpicNet***. 有很多brain inspired的intuition, 比较契合自己想尝试的方法. 年头有点久远(2016.12的SOA)\n",
    "    - 精读***PWC-Net***: CVPR2018 很新, 目前Sintel的第二名, 网络结构部分说的不是很清楚, 推迟复现. 主要参考其中将principle融入学习过程的idea.\n",
    "* 阅读以及Plane-Pallex, 接着思考光流预测如何为高级任务和实际工程提供价值\n",
    "* 自己的想法: 目前来看还是End-to-End的方法在速度上更有实用价值. ***PWC-Net***将一些光流的principle融入学习过程当中并达到了SOA, 代价是复杂的网络结构. ***InterpoNet***. 自己不务正业去看了***What The Frog's Eye Tells The Frog's Brain***, . 想要尝试简单网络 + 更明确的loss. 基本是拍脑袋…… 后续会以精读/复现为主, 这个慢慢来.\n",
    "* 其他的小任务: 重构途铃的数据分析脚本, 增加feature"
   ]
  },
  {
   "cell_type": "markdown",
   "metadata": {
    "collapsed": true
   },
   "source": [
    "4.9 (8.5)\n",
    "\n",
    "10:00 ~ 18:30\n",
    "\n",
    "* m21配置环境\n",
    "* 整理论文, 准备presentation\n",
    "* 跑通TVNet, GeoNet"
   ]
  },
  {
   "cell_type": "markdown",
   "metadata": {},
   "source": [
    "4.10 ()"
   ]
  },
  {
   "cell_type": "markdown",
   "metadata": {},
   "source": [
    "4.11 (9.5)\n",
    "\n",
    "9:30 ~ 19:00"
   ]
  },
  {
   "cell_type": "markdown",
   "metadata": {},
   "source": [
    "4.12 (10)\n",
    "- 7:30 ~ 8:30\n",
    "- 9:50 ~ 18:50"
   ]
  },
  {
   "cell_type": "markdown",
   "metadata": {},
   "source": [
    "4.13 (9.5)\n",
    "- 8:40 ~ 18:10"
   ]
  },
  {
   "cell_type": "markdown",
   "metadata": {},
   "source": [
    "4.16()\n",
    "\n",
    "- 10:00"
   ]
  },
  {
   "cell_type": "code",
   "execution_count": null,
   "metadata": {
    "collapsed": true
   },
   "outputs": [],
   "source": []
  }
 ],
 "metadata": {
  "kernelspec": {
   "display_name": "Python 3",
   "language": "python",
   "name": "python3"
  },
  "language_info": {
   "codemirror_mode": {
    "name": "ipython",
    "version": 3
   },
   "file_extension": ".py",
   "mimetype": "text/x-python",
   "name": "python",
   "nbconvert_exporter": "python",
   "pygments_lexer": "ipython3",
   "version": "3.6.3"
  }
 },
 "nbformat": 4,
 "nbformat_minor": 2
}
