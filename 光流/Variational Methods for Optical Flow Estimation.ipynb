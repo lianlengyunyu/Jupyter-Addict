{
 "cells": [
  {
   "cell_type": "markdown",
   "metadata": {},
   "source": [
    "Brightness Constancy Model\n",
    "\n",
    "$$I(x+u, y+v, t+1) = I(x, y, t)$$"
   ]
  },
  {
   "cell_type": "markdown",
   "metadata": {},
   "source": [
    "将离散的, 便得到了基本光流约束方程$$I_xv_x + I_yv_y + I_t = 0$$"
   ]
  },
  {
   "cell_type": "markdown",
   "metadata": {},
   "source": [
    "$$E = \\Sigma_pD_p(l_p) + \\Sigma_{\\{p,q\\}\\in N} w_{pq}\\cdot V_{pq}(l_p,l_q)$$\n",
    "\n",
    "- 第一项$\\Sigma_pD_p(l_p)$: 叫data term (或unary term), 是将label $l_p$赋给像素p时的cost\n",
    "- 第二项$\\Sigma_{\\{p,q\\}\\in N} \\omega_{pq}\\cdot V_{pq}(l_p,l_q)$: smoothness term (或pairwise term), 是每两个相邻pixel的label不同时产生的cost, 其中\n",
    "    - $w_{pq}$: spatial varying weight"
   ]
  },
  {
   "cell_type": "markdown",
   "metadata": {},
   "source": [
    "时间线(1980)\n",
    "两种算法: Lucas-Kanade方法和Horn-Schunck方法\n",
    "- Lucas-Kanade方法: 将每个像素周围的一些像素也考虑进来, 但是每个pixel的flow是单独求解的, 所以是一种local方法\n",
    "- Horn-Schunck方法: 套用regularization optimization的框架, 加入flow是locally smooth的先验, 所有pixel的光流相互依赖, 需要用global optimizatioin的方法求解"
   ]
  },
  {
   "cell_type": "markdown",
   "metadata": {
    "collapsed": true
   },
   "source": [
    "PatchMatch"
   ]
  },
  {
   "cell_type": "markdown",
   "metadata": {},
   "source": [
    "- 基于匹配的方法:\n",
    "- 基于"
   ]
  },
  {
   "cell_type": "markdown",
   "metadata": {},
   "source": [
    "# 对data term的改进\n",
    "最初套用Energy Minimization框架时\n",
    "\n",
    "- improved TV-L1中提出用texture decomposition的方式先提取image的texture，然后用texture作为data term，旨在避免光照等的影响，跟前面的加入gradient data term思路类似"
   ]
  },
  {
   "cell_type": "markdown",
   "metadata": {},
   "source": [
    "基于匹配的方法对小物体更友好, **Large Displacement Optical Flow: Descriptor Matching in Variational Motion Estimation** 提出将descriptor matching融合到optical flow的框架中, 改善其对小物体的预测效果. 主要思想是增加一对辅助未知量$u_d$, $v_d$, 将descriptor matching的cost和原框架的cost关联起来.\n",
    "$$E(U, V) = blabla$$. 通过迭代计算两个子问题来得出最终结果.\n",
    "> One conundrum for the coarse-to-fine, variational approach is small and fast moving objects that disappear at coarse levels. --PWC-Net\n",
    "\n",
    "- PAMI2011 | Thomas Brox *et al.* **\"Large Displacement Optical Flow: Descriptor Matching in Variational Motion Estimation\"**\n",
    "- ICCV2013, 基于此框架做的DeepFlow"
   ]
  },
  {
   "cell_type": "markdown",
   "metadata": {},
   "source": [
    "# 基于匹配的方法\n",
    "## Lu"
   ]
  },
  {
   "cell_type": "markdown",
   "metadata": {},
   "source": [
    "基于匹配的方法, 匹配点过少时, 只能得到极为稀疏的matches, 不能很好地估计自身与物体的运动, 作为sparse-to-dense interpolation的输入效果也不好.\n",
    "\n",
    "\n",
    "Secrets of Optical Flow Estimation and Their Principles"
   ]
  },
  {
   "cell_type": "code",
   "execution_count": null,
   "metadata": {
    "collapsed": true
   },
   "outputs": [],
   "source": []
  },
  {
   "cell_type": "markdown",
   "metadata": {},
   "source": [
    "Zhe Ren的"
   ]
  }
 ],
 "metadata": {
  "kernelspec": {
   "display_name": "Python 3",
   "language": "python",
   "name": "python3"
  },
  "language_info": {
   "codemirror_mode": {
    "name": "ipython",
    "version": 3
   },
   "file_extension": ".py",
   "mimetype": "text/x-python",
   "name": "python",
   "nbconvert_exporter": "python",
   "pygments_lexer": "ipython3",
   "version": "3.6.3"
  }
 },
 "nbformat": 4,
 "nbformat_minor": 2
}
