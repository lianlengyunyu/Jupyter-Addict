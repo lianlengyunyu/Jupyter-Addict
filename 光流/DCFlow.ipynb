{
 "cells": [
  {
   "cell_type": "markdown",
   "metadata": {},
   "source": [
    "# Accurate Optical Flow via Direct Cost Volume Processing\n",
    "\n",
    "- 构建Cost Volume(包含Learnable CNNs)\n",
    "- 处理Cost Volume: 应用\n",
    "- Postprocessing: "
   ]
  },
  {
   "cell_type": "markdown",
   "metadata": {},
   "source": [
    "# 构建Cost Volume\n",
    "\n",
    "MirrorFlow中提出了双向地预测flow, 本篇"
   ]
  },
  {
   "cell_type": "markdown",
   "metadata": {},
   "source": [
    "\n",
    "# 处理Cost Volume\n",
    "semi-global matching(SGM), 本篇用SGM"
   ]
  },
  {
   "cell_type": "markdown",
   "metadata": {},
   "source": [
    "|     | fast | accurate |\n",
    "|:---:|:----:|:--------:|\n",
    "| Feature extraction | 0.02 | 0.02 |\n",
    "| Cost volume (fwd + bwd) | 0.06 | 0.24 |\n",
    "| SGM (fwd + bwd) | 0.45 | 2.59 |\n",
    "| EpicFlow | 2.87 | 2.87 |\n",
    "| Homography inpainting | - | 2.91 |\n",
    "| Total | 3.40 | 8.63\n",
    "\n"
   ]
  },
  {
   "cell_type": "code",
   "execution_count": null,
   "metadata": {
    "collapsed": true
   },
   "outputs": [],
   "source": []
  }
 ],
 "metadata": {
  "kernelspec": {
   "display_name": "Python 3",
   "language": "python",
   "name": "python3"
  },
  "language_info": {
   "codemirror_mode": {
    "name": "ipython",
    "version": 3
   },
   "file_extension": ".py",
   "mimetype": "text/x-python",
   "name": "python",
   "nbconvert_exporter": "python",
   "pygments_lexer": "ipython3",
   "version": "3.6.3"
  }
 },
 "nbformat": 4,
 "nbformat_minor": 2
}
