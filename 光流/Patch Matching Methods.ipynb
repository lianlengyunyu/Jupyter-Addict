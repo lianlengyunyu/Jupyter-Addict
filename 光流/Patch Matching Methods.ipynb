{
 "cells": [
  {
   "cell_type": "markdown",
   "metadata": {},
   "source": [
    "Patch Matching Methods将光流预测建模成搜索-匹配任务,\n",
    "- 如何选取Patch, 如何描述Match\n",
    "- 如何搜索"
   ]
  },
  {
   "cell_type": "markdown",
   "metadata": {},
   "source": [
    "# PatchMatch"
   ]
  },
  {
   "cell_type": "markdown",
   "metadata": {},
   "source": [
    "# FlowFields"
   ]
  },
  {
   "cell_type": "markdown",
   "metadata": {},
   "source": [
    "multi-scale"
   ]
  },
  {
   "cell_type": "markdown",
   "metadata": {},
   "source": [
    "# FlowFieldsCNN\n",
    "之前一些用CNN做Patch Matching的贡献, 仅仅是像图像分类一样预测两个patch的匹配度, 而没有应用到image pair中所有patch的匹配. 忽略了很多实践上的细节:\n",
    "- CNN具有的平移/旋转不变性,\n"
   ]
  }
 ],
 "metadata": {
  "kernelspec": {
   "display_name": "Python 3",
   "language": "python",
   "name": "python3"
  },
  "language_info": {
   "codemirror_mode": {
    "name": "ipython",
    "version": 3
   },
   "file_extension": ".py",
   "mimetype": "text/x-python",
   "name": "python",
   "nbconvert_exporter": "python",
   "pygments_lexer": "ipython3",
   "version": "3.6.3"
  }
 },
 "nbformat": 4,
 "nbformat_minor": 2
}
