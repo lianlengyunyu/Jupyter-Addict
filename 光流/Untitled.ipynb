{
 "cells": [
  {
   "cell_type": "markdown",
   "metadata": {},
   "source": [
    "occlusion的点, 在boundary"
   ]
  },
  {
   "cell_type": "markdown",
   "metadata": {
    "collapsed": true
   },
   "source": [
    "# Joint Learning\n",
    "- CVPR2016 | Yin Li *et al.* **\"Unsupervised Learning of Edges\"** [arXiv](https://arxiv.org/abs/1511.04166) [code](https://github.com/happyharrycn/unsupervised_edges)\n",
    "    > 联合训练optical flow + edges\n",
    "- CVPR2016 | Y.-H. Tsai *et al.* **\"Video Segmentation via Object Flow\"** [pdf](http://files.is.tue.mpg.de/black/papers/TsaiCVPR2016.pdf) [code](https://github.com/wasidennis/ObjectFlow)\n",
    "- CVPR2016 | Laura Sevilla-Lara, Deqing Sun *et al.* **\"Optical Flow with Semantic Segmentation and Localized Layers\"** [arXiv](https://arxiv.org/abs/1603.03911) [code]()\n",
    "- ICCV2017 | Jingchun Cheng *et al.* **\"SegFlow: Joint Learning for Video Object Segmentation and Optical Flow\"** [arXiv](https://arxiv.org/abs/1709.06750) [code](https://github.com/JingchunCheng/SegFlow)\n",
    "    > - 联合训练optical flow + segmentation.  \n",
    "    同时具有两种label的数据集很稀少, 所以本篇提出了一种迭代的学习策略, 只需要具备单种label的数据即可.   \n",
    "    (其实segmentation+optical flow的数据集也是有的, )"
   ]
  },
  {
   "cell_type": "code",
   "execution_count": null,
   "metadata": {
    "collapsed": true
   },
   "outputs": [],
   "source": []
  }
 ],
 "metadata": {
  "kernelspec": {
   "display_name": "Python 3",
   "language": "python",
   "name": "python3"
  },
  "language_info": {
   "codemirror_mode": {
    "name": "ipython",
    "version": 3
   },
   "file_extension": ".py",
   "mimetype": "text/x-python",
   "name": "python",
   "nbconvert_exporter": "python",
   "pygments_lexer": "ipython3",
   "version": "3.6.3"
  }
 },
 "nbformat": 4,
 "nbformat_minor": 2
}
