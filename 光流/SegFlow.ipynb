{
 "cells": [
  {
   "cell_type": "markdown",
   "metadata": {},
   "source": [
    "# SegFlow: Joint Learning for Video Object Segmentation and Optical Flow"
   ]
  },
  {
   "cell_type": "markdown",
   "metadata": {},
   "source": [
    "## Segmentation Branch\n",
    "基于ResNet-101的魔改, 去掉了分类用的fully-connected layer 2) 为了up-sampling时更好的细节, 整合了各层convolution的输出\n",
    "## Optical Flow Branch\n",
    "使用了FlowNetS\n",
    "## Bi-directional Model"
   ]
  },
  {
   "cell_type": "markdown",
   "metadata": {},
   "source": [
    "## Training\n",
    "- 权重初始化\n",
    "    > Due to the lack of datasets with both segmentation and optical flow annotations, we initialize the weights of two branches from legacy models trained on different datasets, and optimize the SegFlow on segmentation and optical flow datasets via iterative offline training and online finetuning.\n",
    "\n",
    "- 迭代学习\n",
    "    > When optimizing the segmentation branch, we freeze the weights of the optical flow branch, and train the network on the DAVIS training set. For training the optical flow branch, similarly we fix the segmentation branch and only update the weights in the flow network using the target optical flow dataset (described in Section 5.1)."
   ]
  },
  {
   "cell_type": "code",
   "execution_count": null,
   "metadata": {
    "collapsed": true
   },
   "outputs": [],
   "source": []
  }
 ],
 "metadata": {
  "kernelspec": {
   "display_name": "Python 3",
   "language": "python",
   "name": "python3"
  },
  "language_info": {
   "codemirror_mode": {
    "name": "ipython",
    "version": 3
   },
   "file_extension": ".py",
   "mimetype": "text/x-python",
   "name": "python",
   "nbconvert_exporter": "python",
   "pygments_lexer": "ipython3",
   "version": "3.6.3"
  }
 },
 "nbformat": 4,
 "nbformat_minor": 2
}
