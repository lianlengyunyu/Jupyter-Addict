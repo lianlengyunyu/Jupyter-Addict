{
 "cells": [
  {
   "cell_type": "markdown",
   "metadata": {},
   "source": [
    "不同于人体关键点检测, 在预测映射的过程中的interest point是ill-defined的"
   ]
  },
  {
   "cell_type": "markdown",
   "metadata": {},
   "source": [
    "## Traditional Methods"
   ]
  },
  {
   "cell_type": "markdown",
   "metadata": {},
   "source": [
    "### FAST\n",
    "FAST是一种角点, 主要检测局部像素灰度变化明显的地方, 以速度快著称. 它的思想是: 如果一个像素与它邻域的像素差别较大(过亮或过暗), 那它更可能是角点. 相比于其他角点检测算法, FAST只需比较像素亮度的大小, 十分快捷, 它的检测过程如下:\n",
    "1. 在图像中选取像素 p，假设它的亮度为 Ip。\n",
    "2. 设置一个阈值 T (比如 Ip 的 20%)。\n",
    "3. 以像素 p 为中心, 选取半径为 3 的圆上的 16 个像素点。\n",
    "4. 假如选取的圆上，有连续的 N 个点的亮度大于 Ip + T 或小于 Ip − T，那么像素 p 可以被认为是特征点 (N 通常取 12，即为 FAST-12。其它常用的 N 取值为 9 和 11， 他们分别被称为 FAST-9，FAST-11)。\n",
    "5. 循环以上四步，对每一个像素执行相同的操作。"
   ]
  },
  {
   "cell_type": "markdown",
   "metadata": {},
   "source": [
    "### SIFT"
   ]
  },
  {
   "cell_type": "code",
   "execution_count": null,
   "metadata": {
    "collapsed": true
   },
   "outputs": [],
   "source": []
  }
 ],
 "metadata": {
  "kernelspec": {
   "display_name": "Python 3",
   "language": "python",
   "name": "python3"
  },
  "language_info": {
   "codemirror_mode": {
    "name": "ipython",
    "version": 3
   },
   "file_extension": ".py",
   "mimetype": "text/x-python",
   "name": "python",
   "nbconvert_exporter": "python",
   "pygments_lexer": "ipython3",
   "version": "3.5.1"
  }
 },
 "nbformat": 4,
 "nbformat_minor": 2
}
