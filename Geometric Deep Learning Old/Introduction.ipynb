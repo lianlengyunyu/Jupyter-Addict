{
 "cells": [
  {
   "cell_type": "markdown",
   "metadata": {},
   "source": [
    "如何展示对motion的理解\n",
    "引入了多种motion的表示\n",
    "- optical flow\n",
    "- scene flow\n",
    "- ego-motion(or camera pose)\n",
    "- disparity map\n",
    "\n",
    "- depth map\n",
    "- "
   ]
  },
  {
   "cell_type": "markdown",
   "metadata": {},
   "source": [
    "三维的数据表示\n",
    "* 栅格化\n",
    "    - multi-view RGB(D) images\n",
    "    - 体素(volumetric)\n",
    "* 几何\n",
    "    - polygonal mesh\n",
    "    - 点云(point cloud)\n",
    "    - primitive-based CAD models"
   ]
  },
  {
   "cell_type": "markdown",
   "metadata": {},
   "source": [
    "# 基于特征的方法"
   ]
  },
  {
   "cell_type": "markdown",
   "metadata": {},
   "source": [
    "# 直接法"
   ]
  },
  {
   "cell_type": "markdown",
   "metadata": {},
   "source": [
    "# Tasks\n",
    "- 三维重建"
   ]
  },
  {
   "cell_type": "markdown",
   "metadata": {},
   "source": [
    "# 应用\n",
    "整体来说是比较底层的一个方向, \n",
    "\n",
    "\n",
    "non-Euclidean data\n",
    "\n",
    "- 人脸识别(non-Euclidean)\n",
    "- Reconstruction\n",
    "- Retrieval\n",
    "- Avatars\n",
    "- Virtual dressing\n",
    "- Gesture contro\n",
    "- Medical Image Processing\n",
    "- Autonomous driving"
   ]
  },
  {
   "cell_type": "code",
   "execution_count": null,
   "metadata": {
    "collapsed": true
   },
   "outputs": [],
   "source": []
  }
 ],
 "metadata": {
  "kernelspec": {
   "display_name": "Python 3",
   "language": "python",
   "name": "python3"
  },
  "language_info": {
   "codemirror_mode": {
    "name": "ipython",
    "version": 3
   },
   "file_extension": ".py",
   "mimetype": "text/x-python",
   "name": "python",
   "nbconvert_exporter": "python",
   "pygments_lexer": "ipython3",
   "version": "3.5.1"
  }
 },
 "nbformat": 4,
 "nbformat_minor": 2
}
