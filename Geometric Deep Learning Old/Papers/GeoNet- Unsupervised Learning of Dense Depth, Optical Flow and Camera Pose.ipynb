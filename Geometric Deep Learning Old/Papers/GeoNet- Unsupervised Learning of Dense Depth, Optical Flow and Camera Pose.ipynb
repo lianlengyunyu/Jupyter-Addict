{
 "cells": [
  {
   "cell_type": "markdown",
   "metadata": {},
   "source": [
    "# GeoNet: Unsupervised Learning of Dense Depth, Optical Flow and Camera Pose\n",
    "\n",
    "Monocular Depth, Optical Flow和Ego-Motion"
   ]
  },
  {
   "cell_type": "markdown",
   "metadata": {
    "collapsed": true
   },
   "source": [
    "$$f^{rig}_{t\\rightarrow s}(p_t) = KT_{t\\rightarrow s}D_t(p_t)K^{-1}p_t - p_t$$\n",
    "\n",
    "其中\n",
    "K - 相机内参矩阵\n"
   ]
  },
  {
   "cell_type": "markdown",
   "metadata": {},
   "source": [
    "## Depth Net / Pose Net\n",
    "Depth Net / Pose Net均是一样的结构"
   ]
  },
  {
   "cell_type": "markdown",
   "metadata": {},
   "source": [
    "## Residual Flow Net"
   ]
  },
  {
   "cell_type": "markdown",
   "metadata": {},
   "source": [
    "## Consistency Check"
   ]
  },
  {
   "cell_type": "markdown",
   "metadata": {},
   "source": [
    "# Losses\n",
    "- `rigid_flow_warping_loss`\n",
    "$$L_{rw} = \\alpha \\frac{1 - SSIM(I_t, I^{rig}_s)}{2} + (1 - \\alpha)\\Vert I_t - I^{rig}_s\\Vert_1$$\n",
    "\n",
    "- `depth_smoothness_loss`\n",
    "$$L_{ds} = \\Sigma_{p_t}|D(p_t)| · (e^{-|I(p_t)|})^T$$\n",
    "\n",
    "- `full_flow_warping_loss`\n",
    "$$L_{fw} = \\alpha \\frac{1 - SSIM(I_t, I^{full}_s)}{2} + (1 - \\alpha)\\Vert I_t - I^{full}_s\\Vert_1$$\n",
    "\n",
    "- `full_smoothness_loss`\n",
    "$$L_{fs} = \\Sigma_{p_t}|D(p_t)| · (e^{-|I(p_t)|})^T$$\n",
    "\n",
    "- `geometric_consistency_loss`\n",
    "$$L_{gc} = \\Sigma_{p_t}[\\delta(p_t)] · \\Vert \\Delta f^{full}_{t\\rightarrow s}(p_t)\\Vert_1$$\n",
    "\n",
    "- `total_loss`\n"
   ]
  },
  {
   "cell_type": "markdown",
   "metadata": {},
   "source": [
    "# Limitation"
   ]
  },
  {
   "cell_type": "markdown",
   "metadata": {},
   "source": [
    "Gradient Locality of Warping Loss"
   ]
  },
  {
   "cell_type": "code",
   "execution_count": null,
   "metadata": {
    "collapsed": true
   },
   "outputs": [],
   "source": []
  }
 ],
 "metadata": {
  "kernelspec": {
   "display_name": "Python 3",
   "language": "python",
   "name": "python3"
  },
  "language_info": {
   "codemirror_mode": {
    "name": "ipython",
    "version": 3
   },
   "file_extension": ".py",
   "mimetype": "text/x-python",
   "name": "python",
   "nbconvert_exporter": "python",
   "pygments_lexer": "ipython3",
   "version": "3.6.3"
  }
 },
 "nbformat": 4,
 "nbformat_minor": 2
}
