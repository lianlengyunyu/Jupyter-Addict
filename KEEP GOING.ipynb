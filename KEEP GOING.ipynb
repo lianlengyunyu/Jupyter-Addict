{
 "cells": [
  {
   "cell_type": "markdown",
   "metadata": {},
   "source": [
    "# Week 1\n",
    "***\n",
    "#### 成果\n",
    "- 熟悉环境, 配置单机server环境踩了很多坑.\n",
    "- 了解Geometry + Deep Learning, 是个很宽泛也很年轻的领域, 如果不做自动驾驶的话可能更想做基于体素和基于图的工作吧\n",
    "- 复现Unsupervised那篇和GeoNet, 写了挺多代码结果完成度还是不可靠. 跑的还是clone下来的. 写的整体框架感觉也用不到, 有些挫败.\n",
    "- 编写途铃设备的log分析脚本, 其实就是字符串匹配 + 初级统计 + 数据可视化\n",
    "\n",
    "\n",
    "月底绩效拿了1.2, 望江很是够意思了……\n",
    "#### 目标\n",
    "当时还没有记这个, 印象中是尽早开题吧"
   ]
  },
  {
   "cell_type": "markdown",
   "metadata": {},
   "source": [
    "# Week 2\n",
    "***\n",
    "#### 成果\n",
    "清明假期周 + 学校两天有事 = 基本什么都没做\n",
    "- 望江第一天早上交流了Sparse-to-Dense的方案. 重新focus到光流上\n",
    "- 收集了30+篇paper, 精读不过10+篇, 在image-pair + optical flow的基础上写了框架, 比上次野心小了很多, 这次舒服多了, 能work.\n",
    "- 给log分析脚本加feature, 做了次重构. 还是coding舒服\n",
    "\n",
    "#### 目标\n",
    "当时还没有记这个, 印象中是泛泛地看了很多论文, 有点想仿生的角度来"
   ]
  },
  {
   "cell_type": "markdown",
   "metadata": {},
   "source": [
    "# Week 3\n",
    "***\n",
    "#### 成果\n",
    "##### Day 1\n",
    "清明调休, 这周是以周日开始的\n",
    "- ADAS组开了个会, 把途铃的项目至少是ADAS部分的技术流程大概了解清楚了. 感觉Optical Flow在ADAS和3D Sensing上都有用武之地(3D Sensing应该是二维信息 + 相机内参, 根据公式直接得出三维空间的信息. 但是似乎准确率不高目前)\n",
    "- 接着给log分析脚本加feature. 做研究工作已经两周, 遥遥无期. 工程上能体现出一些自己的价值, 才让自己能安心一点\n",
    "\n",
    "##### Day 2\n",
    "- 望江让把之前泛泛而收集的paper做个总结的presetation. 不知道是泛读的时间点到了, 还是被逼着去总结paper, 感觉疏通了很多体系上的问题.\n",
    "- 发现自己松鼠症(感觉更像眼高手低)的情况比较严重. \n",
    "    - 第一次的notes就是被大量空文件荒废的.\n",
    "    - 之前泛读paper不知道是因人而异还是恶习, 反正在汇报上比较占劣势, 自己也心虚, 觉得没做什么实质的工作.\n",
    "    - 这次做PPT也是, 一开始就做了好多张只有标题的slide.\n",
    "    \n",
    "  应该有意识地把incremental的思想应用到自己的做事风格上了.\n",
    "  \n",
    "##### Day 3\n",
    "请假考试, 和朵朵玩~\n",
    "\n",
    "##### Day 4\n",
    "- 跑GeoNet和SfmLearner, 看GeoNet的dataset什么的都是基于SfMLearner改的, 其中一些语句如path的拼接, 是简单粗暴的字符串做法, 个人感受……这一行确实不都是程序员, 感觉做个RSDE也挺好, 不一定头铁一定要当Researcher\n",
    "- 喝咖啡望江哥拿出了私藏的牛奶哈哈哈哈哈哈, 人超好！\n",
    "\n",
    "\n",
    "##### Day 5\n",
    "- 新员工培训开会, 对其他组的产品线有了更多的了解, 下一步去看看PaperReading和组间的展示\n",
    "- Deqing Sun\n",
    "    - 哈工大BEng\n",
    "    - 港中文MPhil\n",
    "    - 布朗大学PHD\n",
    "    - 哈佛Research Fellow + NVIDIA Senior Research Scientist\n",
    "    - ECCV2008(硕士毕业?)就发光流的paper了, 研究了十年光流, 年年发paper.\n",
    "  反观自己, 入门两周, 凭什么觉得受挫? 觉得自己产生受挫的感受已经是对技术的不尊重了, 说明潜意识觉得自己是搞得掂的.\n",
    "\n",
    "##### Day 6\n",
    "- 时而感觉自己爬坡过程要结束了, 时而觉得自己应付不来, 明天要给望江汇报了, 很累\n",
    "- 内心很累, 望江坐在身边的时候就觉得慌得不行…… 真的希望能换个工位……\n",
    "- 测试那边出了些状况被望江批评了, 还是挺凶的…… “下不为例啊“\n",
    "- 强行填了日报, 回了寝室也没有补PPT的工作.\n",
    "\n",
    "##### Day 7\n",
    "- 第一次参加MSP, Freespace组的工作挺吸引, 作为菜鸡顾忌了好久才加入讨论哈哈哈, 收获很多, 之前的Paper Reading鸽了, 感觉以后还是应该多交流\n",
    "- 跟望江的汇报, 全方面被碾压……读文献超快, 积累也超多, 还超努力……\n",
    "#### 目标\n",
    "周日和朵朵的一些事情, 准备花更多时间在工作和个人提升上了"
   ]
  },
  {
   "cell_type": "markdown",
   "metadata": {},
   "source": [
    "# Week 4\n",
    "***\n",
    "#### 成果\n",
    "##### Day 1\n",
    "\n",
    "##### Day 2\n",
    "\n",
    "##### Day 3\n",
    "\n",
    "##### Day 4\n",
    "\n",
    "##### Day 5\n",
    "\n",
    "##### Day 6\n",
    "#### 目标"
   ]
  },
  {
   "cell_type": "markdown",
   "metadata": {
    "collapsed": true
   },
   "source": [
    "# Week 5\n",
    "***\n",
    "#### 成果\n",
    "##### Day 1\n",
    "\n",
    "##### Day 2\n",
    "\n",
    "##### Day 3\n",
    "\n",
    "##### Day 4\n",
    "\n",
    "##### Day 5\n",
    "\n",
    "##### Day 6\n",
    "#### 目标"
   ]
  },
  {
   "cell_type": "code",
   "execution_count": null,
   "metadata": {
    "collapsed": true
   },
   "outputs": [],
   "source": []
  }
 ],
 "metadata": {
  "kernelspec": {
   "display_name": "Python 3",
   "language": "python",
   "name": "python3"
  },
  "language_info": {
   "codemirror_mode": {
    "name": "ipython",
    "version": 3
   },
   "file_extension": ".py",
   "mimetype": "text/x-python",
   "name": "python",
   "nbconvert_exporter": "python",
   "pygments_lexer": "ipython3",
   "version": "3.6.3"
  }
 },
 "nbformat": 4,
 "nbformat_minor": 2
}
