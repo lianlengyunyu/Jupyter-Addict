{
 "cells": [
  {
   "cell_type": "markdown",
   "metadata": {},
   "source": [
    "# 官方训练过程\n",
    "\n",
    "GitHub上说大概100K iterations会出比较正常的depth结果, 上次跑pytorch版本的checkpoints在M23, 印象中已经有很清楚的disp output了"
   ]
  },
  {
   "cell_type": "markdown",
   "metadata": {},
   "source": [
    "# 我方实现"
   ]
  },
  {
   "cell_type": "markdown",
   "metadata": {
    "collapsed": true
   },
   "source": [
    "## 直接在KITTI_raw上train\n",
    "各种`loss`都在震荡(包括`total_loss`), 只有`smooth_loss`在下降, 并在110K iters达到最优, 之后反弹\n",
    "![](imgs/smooth_loss.png)\n",
    "\n",
    "200K iters时Disp输出\n",
    "![](imgs/disp_output_at_200k_1.png)\n",
    "![](imgs/disp_output_at_200k_2.png)"
   ]
  },
  {
   "cell_type": "markdown",
   "metadata": {
    "collapsed": true
   },
   "source": [
    "## Blank depth\n",
    "\n",
    "https://github.com/tinghuiz/SfMLearner/issues/53"
   ]
  },
  {
   "cell_type": "markdown",
   "metadata": {},
   "source": [
    "## 改变Batch Size\n",
    "`batch_size` = 4的话TITAN单卡占用显存8000MB+, 根据作者issue中的答复, 可以尝试增大`batch_size`\n",
    "https://github.com/tinghuiz/SfMLearner/issues/33"
   ]
  },
  {
   "cell_type": "code",
   "execution_count": null,
   "metadata": {
    "collapsed": true
   },
   "outputs": [],
   "source": []
  }
 ],
 "metadata": {
  "kernelspec": {
   "display_name": "Python 3",
   "language": "python",
   "name": "python3"
  },
  "language_info": {
   "codemirror_mode": {
    "name": "ipython",
    "version": 3
   },
   "file_extension": ".py",
   "mimetype": "text/x-python",
   "name": "python",
   "nbconvert_exporter": "python",
   "pygments_lexer": "ipython3",
   "version": "3.6.3"
  }
 },
 "nbformat": 4,
 "nbformat_minor": 2
}
