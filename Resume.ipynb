{
 "cells": [
  {
   "cell_type": "markdown",
   "metadata": {},
   "source": [
    "# Intern Experience\n",
    "\n",
    "- 2018.3 ~ present Momenta 研发工程师\n",
    "    - 2018.3 ~ present sparse-to-dense架构的光流预测\n",
    "    - \n",
    "- 2017.7 ~ 2018.3 蓝狐思远 算法工程师\n",
    "    - 2018.1 ~ 2018.3 姿态识别\n",
    "    - 2017.10 ~ 2018.1 \n",
    "    - 2017.7 ~ 2017.10 视频文档OCR\n",
    "- a"
   ]
  },
  {
   "cell_type": "code",
   "execution_count": null,
   "metadata": {
    "collapsed": true
   },
   "outputs": [],
   "source": []
  }
 ],
 "metadata": {
  "kernelspec": {
   "display_name": "Python 3",
   "language": "python",
   "name": "python3"
  },
  "language_info": {
   "codemirror_mode": {
    "name": "ipython",
    "version": 3
   },
   "file_extension": ".py",
   "mimetype": "text/x-python",
   "name": "python",
   "nbconvert_exporter": "python",
   "pygments_lexer": "ipython3",
   "version": "3.5.1"
  }
 },
 "nbformat": 4,
 "nbformat_minor": 2
}
