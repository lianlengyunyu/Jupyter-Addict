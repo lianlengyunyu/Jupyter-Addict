{
 "cells": [
  {
   "cell_type": "markdown",
   "metadata": {},
   "source": [
    "slides: http://www.cs.cmu.edu/~epxing/Class/10708/lectures/lecture2-BNrepresentation.pdf"
   ]
  },
  {
   "cell_type": "markdown",
   "metadata": {},
   "source": [
    "Slides中常用的缩写\n",
    "DAGs: , 有向无环图"
   ]
  },
  {
   "cell_type": "markdown",
   "metadata": {},
   "source": [
    "根据边的不同, 图模型可分为两种类型\n",
    "- 有向边: 表示变量间的因果关系, 叫做**Bayesian Network**或**Directed Graphical Model**  \n",
    "    在这种关系下, 序列概率的计算为:\n",
    "    $$P(X1, X2, X3, X4, X5, X6, X7, X8) = P(X1) P(X2) P(X3| X1) P(X4| X2) P(X5| X2)P(X6| X3, X4) P(X7| X6) P(X8| X5, X6)$$\n",
    "- 无向边: 表示变量间的相关性, 叫做**Markov Random Field**或**Undirected Graphical Model**  \n",
    "    在这种关系下, 序列概率的计算为:\n",
    "    $$P(X1, X2, X3, X4, X5, X6, X7, X8) = \\frac{1}{Z} exp{E(X1)+E(X2)+E(X3, X1)+E(X4, X2)+E(X5, X2) + E(X6, X3, X4)+E(X7, X6)+E(X8, X5, X6)}$$\n"
   ]
  },
  {
   "cell_type": "markdown",
   "metadata": {},
   "source": [
    "# Directed GMs: Bayesian Networks"
   ]
  },
  {
   "cell_type": "markdown",
   "metadata": {},
   "source": [
    "# Representation of undirected GM"
   ]
  },
  {
   "cell_type": "markdown",
   "metadata": {},
   "source": [
    "# Exact Inference: Variable Elimination"
   ]
  },
  {
   "cell_type": "code",
   "execution_count": null,
   "metadata": {
    "collapsed": true
   },
   "outputs": [],
   "source": []
  }
 ],
 "metadata": {
  "kernelspec": {
   "display_name": "Python 3",
   "language": "python",
   "name": "python3"
  },
  "language_info": {
   "codemirror_mode": {
    "name": "ipython",
    "version": 3
   },
   "file_extension": ".py",
   "mimetype": "text/x-python",
   "name": "python",
   "nbconvert_exporter": "python",
   "pygments_lexer": "ipython3",
   "version": "3.5.1"
  }
 },
 "nbformat": 4,
 "nbformat_minor": 2
}
