{
 "cells": [
  {
   "cell_type": "markdown",
   "metadata": {},
   "source": [
    "## Sustained Contrast Detectors\n",
    "(2 degrees)"
   ]
  },
  {
   "cell_type": "markdown",
   "metadata": {},
   "source": [
    "## Net Convexity Detectors\n",
    "(1-3 degrees)\n",
    "\n",
    "> stopping than if the spots are coalesced to a single larger spot. A delightful exhibit uses a large color photograph of the natural habitat of a frog from a frog's eye view: flowers and grass. We can move this photograph through the receptive field of such a fiber,\n",
    "waving it around at a seven-inch distance: there is no response. If we perch with a magnet a fly-sized object 1° large on the part of the picture seen by the receptive field and move only the object, we get an excellent response. If the object is fixed to the picture in about the same place and the whole moved about, then there is none."
   ]
  },
  {
   "cell_type": "markdown",
   "metadata": {},
   "source": [
    "## Moving-Edge Detectors\n",
    "(12 degrees)\n",
    "\n",
    "> The receptive fields is about 12° wide.\n",
    "\n",
    "> If an object wider than about 5 ° moves smoothly across the field, there are separate responses to the leading and trailing edges, as would be expected from Barlow's formulation."
   ]
  },
  {
   "cell_type": "markdown",
   "metadata": {},
   "source": [
    "## Net Dimming Detectors\n",
    "(15 degrees)\n",
    "> The receptive field is rather large-about 15° and works as Barlow describes."
   ]
  },
  {
   "cell_type": "markdown",
   "metadata": {},
   "source": [
    "用不同的Receptive Field"
   ]
  },
  {
   "cell_type": "markdown",
   "metadata": {},
   "source": [
    "# 解决多尺度问题\n"
   ]
  },
  {
   "cell_type": "code",
   "execution_count": null,
   "metadata": {
    "collapsed": true
   },
   "outputs": [],
   "source": []
  }
 ],
 "metadata": {
  "kernelspec": {
   "display_name": "Python 3",
   "language": "python",
   "name": "python3"
  },
  "language_info": {
   "codemirror_mode": {
    "name": "ipython",
    "version": 3
   },
   "file_extension": ".py",
   "mimetype": "text/x-python",
   "name": "python",
   "nbconvert_exporter": "python",
   "pygments_lexer": "ipython3",
   "version": "3.6.3"
  }
 },
 "nbformat": 4,
 "nbformat_minor": 2
}
